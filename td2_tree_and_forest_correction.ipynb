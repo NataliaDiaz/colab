{
  "nbformat": 4,
  "nbformat_minor": 0,
  "metadata": {
    "colab": {
      "name": "td2_tree_and_forest_correction.ipynb",
      "provenance": [],
      "collapsed_sections": [],
      "include_colab_link": true
    },
    "kernelspec": {
      "name": "python3",
      "display_name": "Python 3"
    }
  },
  "cells": [
    {
      "cell_type": "markdown",
      "metadata": {
        "id": "view-in-github",
        "colab_type": "text"
      },
      "source": [
        "<a href=\"https://colab.research.google.com/github/NataliaDiaz/colab/blob/master/td2_tree_and_forest_correction.ipynb\" target=\"_parent\"><img src=\"https://colab.research.google.com/assets/colab-badge.svg\" alt=\"Open In Colab\"/></a>"
      ]
    },
    {
      "cell_type": "markdown",
      "metadata": {
        "id": "ksmC-Zwx0_tS",
        "colab_type": "text"
      },
      "source": [
        "# TD: prédiction du vote 2016 aux Etats-Unis par arbres de décisions et méthodes ensemblistes\n",
        "\n",
        "La séance d'aujourd'hui porte sur la prévision du vote en 2016 aux États-Unis. Précisément, les données d'un recensement sont fournies avec diverses informations par comté à travers les États-Unis. L'objectif est de construire des prédicteurs de leur couleur politique (républicain ou démocrate) à partir de ces données."
      ]
    },
    {
      "cell_type": "markdown",
      "metadata": {
        "id": "kbPqcu_Lhfjp",
        "colab_type": "text"
      },
      "source": [
        "Exécuter les commandes suivantes pour charger l'environnement."
      ]
    },
    {
      "cell_type": "code",
      "metadata": {
        "id": "X-foHxal1Ops",
        "colab_type": "code",
        "colab": {}
      },
      "source": [
        "%matplotlib inline\n",
        "from pylab import *\n",
        "import numpy as np\n",
        "import os\n",
        "import random\n",
        "import matplotlib.pyplot as plt"
      ],
      "execution_count": 0,
      "outputs": []
    },
    {
      "cell_type": "markdown",
      "metadata": {
        "id": "W6D1aUcuQ9ff",
        "colab_type": "text"
      },
      "source": [
        "# Accès aux données\n",
        "\n",
        "* Elles sont disponibles: https://github.com/stepherbin/teaching/tree/master/ENSTA/TD2\n",
        "\n",
        "* Charger le fichier the combined_data.csv sur votre drive puis monter le depuis colab\n"
      ]
    },
    {
      "cell_type": "code",
      "metadata": {
        "id": "HnKt3tylQ8Qp",
        "colab_type": "code",
        "outputId": "15115053-68a2-4c98-bfcf-6c0d6bbb307e",
        "colab": {
          "base_uri": "https://localhost:8080/",
          "height": 34
        }
      },
      "source": [
        "USE_COLAB = True\n",
        "UPLOAD_OUTPUTS = False\n",
        "if USE_COLAB:\n",
        "    # mount the google drive\n",
        "    from google.colab import drive\n",
        "    drive.mount('/content/drive', force_remount=True)\n",
        "    # download data on GoogleDrive\n",
        "    data_dir = \"/content/drive/My Drive/\" #teaching/ENSTA/TD_tree/\"\n",
        "else:\n",
        "    data_dir = \"data/\" # '.' when running locally avoids error"
      ],
      "execution_count": 4,
      "outputs": [
        {
          "output_type": "stream",
          "text": [
            "Mounted at /content/drive\n"
          ],
          "name": "stdout"
        }
      ]
    },
    {
      "cell_type": "code",
      "metadata": {
        "id": "ISKHiOpYuiWR",
        "colab_type": "code",
        "colab": {}
      },
      "source": [
        "import pandas as pd\n",
        "\n",
        "census_data = pd.read_csv( os.path.join(data_dir, 'combined_data.csv') )"
      ],
      "execution_count": 0,
      "outputs": []
    },
    {
      "cell_type": "markdown",
      "metadata": {
        "id": "v3QJtATomOgi",
        "colab_type": "text"
      },
      "source": [
        "# Analyse préliminaire des données\n",
        "\n",
        "Les données sont organisées en champs:\n",
        "* fips = code du comté à 5 chiffres, le premier ou les deux premiers chiffres indiquent l'état.\n",
        "* votes = nombre de votants\n",
        "* etc..\n",
        "\n",
        "Regarder leur structure, quantité, nature.\n",
        "\n",
        "Où se trouvent les informations pour former les ensembles d'apprentissage et de test?\n",
        "\n",
        "Où se trouvent les classes à prédire?\n",
        "\n",
        "Visualiser quelques distributions.\n",
        "\n",
        "Le format de données python est décrit ici:\n",
        "https://pandas.pydata.org/pandas-docs/stable/reference/frame.html\n"
      ]
    },
    {
      "cell_type": "code",
      "metadata": {
        "id": "yAk8Da4lvlQq",
        "colab_type": "code",
        "outputId": "e1d1c25a-89ef-4a94-cd36-1c9aa3721a2c",
        "colab": {
          "base_uri": "https://localhost:8080/",
          "height": 866
        }
      },
      "source": [
        "# Exemples de moyens d'accéder aux caractéristiques des données\n",
        "print(census_data.shape )\n",
        "print(census_data.columns.values) \n",
        "print(census_data['fips'])\n",
        "print(census_data.head(3))\n",
        "\n",
        "iattr = 10\n",
        "attrname = census_data.columns[iattr]\n",
        "print(\"Mean of {} is {:.1f}\".format(attrname,np.array(census_data[attrname]).mean()))\n",
        "\n",
        "#########################\n",
        "## METTRE VOTRE CODE ICI\n",
        "#########################\n",
        "print(\"Nombre de données = {}\".format(census_data.shape[0]))\n",
        "print(\"Nombre d'attributs utiles = {}\".format(census_data.shape[1]-2))\n",
        "\n",
        "#hist....\n"
      ],
      "execution_count": 6,
      "outputs": [
        {
          "output_type": "stream",
          "text": [
            "(3145, 78)\n",
            "['fips' 'votes'\n",
            " 'Percent of adults with less than a high school diploma, 2011-2015'\n",
            " 'Percent of adults with a high school diploma only, 2011-2015'\n",
            " \"Percent of adults completing some college or associate's degree, 2011-2015\"\n",
            " \"Percent of adults with a bachelor's degree or higher, 2011-2015\"\n",
            " 'Unemployment_rate_2015' 'POP_ESTIMATE_2015' 'Amish' 'Buddhist'\n",
            " 'Catholic' 'Christian Generic' 'Eastern Orthodox' 'Hindu' 'Jewish'\n",
            " 'Mainline Christian' 'Mormon' 'Muslim' 'Non-Catholic Christian' 'Other'\n",
            " 'Other Christian' 'Other Misc' 'Pentecostal / Charismatic'\n",
            " 'Protestant Denomination' 'Zoroastrian' 'MedHHInc2014' 'PerCapitaInc'\n",
            " 'PovertyUnder18Pct2014' 'PovertyAllAgesPct2014' 'Deep_Pov_All'\n",
            " 'Deep_Pov_Children' 'Population' 'Housing units'\n",
            " 'Area in square miles - Total area' 'Area in square miles - Water area'\n",
            " 'Area in square miles - Land area'\n",
            " 'Density per square mile of land area - Population'\n",
            " 'Density per square mile of land area - Housing units' 'age_total_pop'\n",
            " '0-4_rate' '5-9_rate' '10-14_rate' '15-19_rate' '20-24_rate' '25-29_rate'\n",
            " '30-34_rate' '35-39_rate' '40-44_rate' '45-49_rate' '50-54_rate'\n",
            " '55-59_rate' '60-64_rate' '65-69_rate' '70-74_rate' '75-79_rate'\n",
            " '80-84_rate' '85+_rate' 'TOT_MALE_rate' 'TOT_FEMALE_rate'\n",
            " 'WHITE_MALE_rate' 'WHITE_FEMALE_rate' 'BLACK_MALE_rate'\n",
            " 'BLACK_FEMALE_rate' 'NATIVE_AMERICAN_MALE_rate'\n",
            " 'NATIVE_AMERICAN_FEMALE_rate' 'ASIAN_MALE_rate' 'ASIAN_FEMALE_rate'\n",
            " 'HAWAIIAN_PACIFIC_MALE_rate' 'HAWAIIAN_PACIFIC_FEMALE_rate'\n",
            " 'MULTI_MALE_rate' 'MULTI_FEMALE_rate' 'WHITE_rate' 'BLACK_rate'\n",
            " 'NATIVE_AMERICAN_rate' 'HAWAIIAN_PACIFIC_rate' 'MULTI_rate'\n",
            " 'voter_turnout_rate' 'Democrat']\n",
            "0        2013\n",
            "1        2016\n",
            "2        2020\n",
            "3        2050\n",
            "4        2060\n",
            "        ...  \n",
            "3140    56037\n",
            "3141    56039\n",
            "3142    56041\n",
            "3143    56043\n",
            "3144    56045\n",
            "Name: fips, Length: 3145, dtype: int64\n",
            "   fips  votes  ...  voter_turnout_rate  Democrat\n",
            "0  2013   7471  ...            2.236157         0\n",
            "1  2016   7471  ...            1.310242         0\n",
            "2  2020   7471  ...            0.025012         0\n",
            "\n",
            "[3 rows x 78 columns]\n",
            "Mean of Catholic is 247.9\n",
            "Nombre de données = 3145\n",
            "Nombre d'attributs utiles = 76\n"
          ],
          "name": "stdout"
        }
      ]
    },
    {
      "cell_type": "markdown",
      "metadata": {
        "id": "cFcoVcNqDL-P",
        "colab_type": "text"
      },
      "source": [
        "La classe à prédire ('Democrat') n'est décrite que par un seul attribut binaire.\n",
        "Calculer la répartition des couleurs politiques (quel est a priori la probabilité qu'un comté soit démocrate vs. républicain)"
      ]
    },
    {
      "cell_type": "code",
      "metadata": {
        "id": "vks9-75MrFQT",
        "colab_type": "code",
        "outputId": "64a89fae-7669-4ba2-97d7-460b781c2482",
        "colab": {
          "base_uri": "https://localhost:8080/",
          "height": 34
        }
      },
      "source": [
        "#########################\n",
        "## METTRE VOTRE CODE ICI\n",
        "#########################\n",
        "results = np.array( census_data['Democrat'] )\n",
        "\n",
        "proba_dem = results.mean()\n",
        "proba_rep = 1 - proba_dem\n",
        "\n",
        "print(\"La probabilité qu'un comté soit démocrate est de {:.2f}%%\".format(100*proba_dem))\n"
      ],
      "execution_count": 8,
      "outputs": [
        {
          "output_type": "stream",
          "text": [
            "La probabilité qu'un comté soit démocrate est de 15.45%%\n"
          ],
          "name": "stdout"
        }
      ]
    },
    {
      "cell_type": "markdown",
      "metadata": {
        "id": "7zrNDQFDc4uB",
        "colab_type": "text"
      },
      "source": [
        "# Préparation du chantier d'apprentissage\n",
        "\n",
        "On va préparer les ensembles d'apprentissage et de test. \n",
        "\n",
        "Pour éviter des problèmes de format de données, on choisit une liste d'attributs utiles dans la liste \"feature_cols\" ci dessous.\n",
        "\n",
        "L'ensemble de test sera constitué des comtés d'un seul état.\n",
        "\n",
        "Info: https://scikit-learn.org/stable/model_selection.html\n",
        "\n",
        "Liste des états et leurs codes FIPS code (2 digits):\n",
        "https://en.wikipedia.org/wiki/Federal_Information_Processing_Standard_state_code\n",
        "\n"
      ]
    },
    {
      "cell_type": "code",
      "metadata": {
        "id": "SOrtFFPHT_Pi",
        "colab_type": "code",
        "colab": {}
      },
      "source": [
        "## Sous ensembles d'attributs informatifs pour la suite\n",
        "\n",
        "feature_cols = ['BLACK_FEMALE_rate', \n",
        "                'BLACK_MALE_rate',\n",
        "                'Percent of adults with a bachelor\\'s degree or higher, 2011-2015',\n",
        "                'ASIAN_MALE_rate',\n",
        "                'ASIAN_FEMALE_rate',\n",
        "                '25-29_rate',\n",
        "                'age_total_pop',\n",
        "                '20-24_rate',\n",
        "                'Deep_Pov_All',\n",
        "                '30-34_rate',\n",
        "                'Density per square mile of land area - Population',\n",
        "                'Density per square mile of land area - Housing units',\n",
        "                'Unemployment_rate_2015',\n",
        "                'Deep_Pov_Children',\n",
        "                'PovertyAllAgesPct2014',\n",
        "                'TOT_FEMALE_rate',\n",
        "                'PerCapitaInc',\n",
        "                'MULTI_FEMALE_rate',\n",
        "                '35-39_rate',\n",
        "                'MULTI_MALE_rate',\n",
        "                'Percent of adults completing some college or associate\\'s degree, 2011-2015',\n",
        "                '60-64_rate',\n",
        "                '55-59_rate',\n",
        "                '65-69_rate',\n",
        "                'TOT_MALE_rate',\n",
        "                '85+_rate',\n",
        "                '70-74_rate',\n",
        "                '80-84_rate',\n",
        "                '75-79_rate',\n",
        "                'Percent of adults with a high school diploma only, 2011-2015',\n",
        "                'WHITE_FEMALE_rate',\n",
        "                'WHITE_MALE_rate',\n",
        "                'Amish',\n",
        "                'Buddhist',\n",
        "                'Catholic',\n",
        "                'Christian Generic',\n",
        "                'Eastern Orthodox',\n",
        "                'Hindu',\n",
        "                'Jewish',\n",
        "                'Mainline Christian',\n",
        "                'Mormon',\n",
        "                'Muslim',\n",
        "                'Non-Catholic Christian',\n",
        "                'Other',\n",
        "                'Other Christian',\n",
        "                'Other Misc',\n",
        "                'Pentecostal / Charismatic',\n",
        "                'Protestant Denomination',\n",
        "                'Zoroastrian']\n",
        "\n",
        "filtered_cols = ['Percent of adults with a bachelor\\'s degree or higher, 2011-2015',\n",
        "                'Percent of adults completing some college or associate\\'s degree, 2011-2015',\n",
        "                'Percent of adults with a high school diploma only, 2011-2015',\n",
        "                'Density per square mile of land area - Population',\n",
        "                'Density per square mile of land area - Housing units',\n",
        "                'WHITE_FEMALE_rate',\n",
        "                'WHITE_MALE_rate',\n",
        "                'BLACK_FEMALE_rate',\n",
        "                'BLACK_MALE_rate',\n",
        "                'ASIAN_FEMALE_rate',\n",
        "                'Catholic',\n",
        "                'Christian Generic',\n",
        "                'Jewish',\n",
        "                '70-74_rate',\n",
        "                'D',\n",
        "                'R']"
      ],
      "execution_count": 0,
      "outputs": []
    },
    {
      "cell_type": "code",
      "metadata": {
        "id": "C1UqAsUQg1_a",
        "colab_type": "code",
        "outputId": "ce0d2e9e-6209-4283-df48-34654a67d736",
        "colab": {
          "base_uri": "https://localhost:8080/",
          "height": 190
        }
      },
      "source": [
        "## 1-state test split\n",
        "\n",
        "def county_data(census_data, fips_code=17):\n",
        "  #fips_code 48=Texas, 34=New Jersey, 31=Nebraska, 17=Illinois, 06=California, 36=New York\n",
        "  mask = census_data['fips'].between(fips_code*1000, fips_code*1000 + 999)\n",
        "  census_data_train = census_data[~mask]\n",
        "  census_data_test = census_data[mask]\n",
        "\n",
        "\n",
        "  XTrain = census_data_train[feature_cols]\n",
        "  yTrain = census_data_train['Democrat']\n",
        "  XTest = census_data_test[feature_cols]\n",
        "  yTest = census_data_test['Democrat']\n",
        "\n",
        "  return XTrain, yTrain, XTest, yTest\n",
        "\n",
        "STATE_FIPS_CODE = 17\n",
        "X_train, y_train, X_test, y_test = county_data(census_data, STATE_FIPS_CODE)\n",
        "\n",
        "print(X_train.head(2))\n",
        "print(y_test.head(2))\n",
        "print(X_train.shape) #(3043, 49)\n",
        "print(X_test.shape) #(102, 49)"
      ],
      "execution_count": 14,
      "outputs": [
        {
          "output_type": "stream",
          "text": [
            "   BLACK_FEMALE_rate  BLACK_MALE_rate  ...  Protestant Denomination  Zoroastrian\n",
            "0           0.067586         0.062079  ...                        0            0\n",
            "1           0.067586         0.062079  ...                        0            0\n",
            "\n",
            "[2 rows x 49 columns]\n",
            "598    0\n",
            "599    0\n",
            "Name: Democrat, dtype: int64\n",
            "(3043, 49)\n",
            "(102, 49)\n"
          ],
          "name": "stdout"
        }
      ]
    },
    {
      "cell_type": "markdown",
      "metadata": {
        "id": "TaLx1whAl2oS",
        "colab_type": "text"
      },
      "source": [
        "\n",
        "# Apprentissage d'un arbre de décision\n",
        "\n",
        "On utilisera la bibliothèque scikit learn \n",
        "\n",
        "* Construire l'arbre sur les données d'entrainement\n",
        "* Prédire le vote sur les comtés de test\n",
        "* Calculer l'erreur et la matrice de confusion\n",
        "\n",
        "Faire varier certains paramètres (profondeur max, pureté, critère...) et visualisez leur influence.\n",
        "\n",
        "\n",
        "Info: https://scikit-learn.org/stable/modules/tree.html\n",
        "\n",
        "Info: https://scikit-learn.org/stable/modules/model_evaluation.html\n"
      ]
    },
    {
      "cell_type": "code",
      "metadata": {
        "id": "iY-WE9EQenH8",
        "colab_type": "code",
        "colab": {}
      },
      "source": [
        "\n",
        "from sklearn import tree\n",
        "\n",
        "#########################\n",
        "## METTRE VOTRE CODE ICI\n",
        "#########################\n",
        "\n",
        "clf = tree.DecisionTreeClassifier(criterion=\"entropy\",max_depth=4,min_samples_split=10)\n",
        "clf = clf.fit( X_train, y_train )"
      ],
      "execution_count": 0,
      "outputs": []
    },
    {
      "cell_type": "markdown",
      "metadata": {
        "id": "UqWBzMtwc2K8",
        "colab_type": "text"
      },
      "source": [
        "Les instructions suivantes permettent de visualiser l'arbre.\n",
        "Interpréter le contenu de la représentation."
      ]
    },
    {
      "cell_type": "code",
      "metadata": {
        "id": "aaqZalJ6mOya",
        "colab_type": "code",
        "outputId": "d1151b7b-e1d8-4658-f76f-709183f20e61",
        "colab": {
          "base_uri": "https://localhost:8080/",
          "height": 777
        }
      },
      "source": [
        "import graphviz\n",
        "\n",
        "dot_data = tree.export_graphviz(clf, out_file=None) \n",
        "graph = graphviz.Source(dot_data) \n",
        "\n",
        "dot_data = tree.export_graphviz(clf, out_file=None, \n",
        "                     feature_names=X_train.columns.values,  \n",
        "                     class_names=[\"R\",\"D\"],  \n",
        "                     filled=True, rounded=True,  \n",
        "                     special_characters=True)  \n",
        "graph = graphviz.Source(dot_data)  \n",
        "graph"
      ],
      "execution_count": 16,
      "outputs": [
        {
          "output_type": "execute_result",
          "data": {
            "text/plain": [
              "<graphviz.files.Source at 0x7fc16a9211d0>"
            ],
            "image/svg+xml": "<?xml version=\"1.0\" encoding=\"UTF-8\" standalone=\"no\"?>\n<!DOCTYPE svg PUBLIC \"-//W3C//DTD SVG 1.1//EN\"\n \"http://www.w3.org/Graphics/SVG/1.1/DTD/svg11.dtd\">\n<!-- Generated by graphviz version 2.40.1 (20161225.0304)\n -->\n<!-- Title: Tree Pages: 1 -->\n<svg width=\"2241pt\" height=\"552pt\"\n viewBox=\"0.00 0.00 2241.00 552.00\" xmlns=\"http://www.w3.org/2000/svg\" xmlns:xlink=\"http://www.w3.org/1999/xlink\">\n<g id=\"graph0\" class=\"graph\" transform=\"scale(1 1) rotate(0) translate(4 548)\">\n<title>Tree</title>\n<polygon fill=\"#ffffff\" stroke=\"transparent\" points=\"-4,4 -4,-548 2237,-548 2237,4 -4,4\"/>\n<!-- 0 -->\n<g id=\"node1\" class=\"node\">\n<title>0</title>\n<path fill=\"#ea985e\" stroke=\"#000000\" d=\"M1093,-544C1093,-544 977,-544 977,-544 971,-544 965,-538 965,-532 965,-532 965,-473 965,-473 965,-467 971,-461 977,-461 977,-461 1093,-461 1093,-461 1099,-461 1105,-467 1105,-473 1105,-473 1105,-532 1105,-532 1105,-538 1099,-544 1093,-544\"/>\n<text text-anchor=\"start\" x=\"994.5\" y=\"-528.8\" font-family=\"Helvetica,sans-Serif\" font-size=\"14.00\" fill=\"#000000\">Jewish ≤ 1.5</text>\n<text text-anchor=\"start\" x=\"984\" y=\"-513.8\" font-family=\"Helvetica,sans-Serif\" font-size=\"14.00\" fill=\"#000000\">entropy = 0.625</text>\n<text text-anchor=\"start\" x=\"983\" y=\"-498.8\" font-family=\"Helvetica,sans-Serif\" font-size=\"14.00\" fill=\"#000000\">samples = 3043</text>\n<text text-anchor=\"start\" x=\"973\" y=\"-483.8\" font-family=\"Helvetica,sans-Serif\" font-size=\"14.00\" fill=\"#000000\">value = [2568, 475]</text>\n<text text-anchor=\"start\" x=\"1004.5\" y=\"-468.8\" font-family=\"Helvetica,sans-Serif\" font-size=\"14.00\" fill=\"#000000\">class = R</text>\n</g>\n<!-- 1 -->\n<g id=\"node2\" class=\"node\">\n<title>1</title>\n<path fill=\"#e88f4f\" stroke=\"#000000\" d=\"M934,-425C934,-425 752,-425 752,-425 746,-425 740,-419 740,-413 740,-413 740,-354 740,-354 740,-348 746,-342 752,-342 752,-342 934,-342 934,-342 940,-342 946,-348 946,-354 946,-354 946,-413 946,-413 946,-419 940,-425 934,-425\"/>\n<text text-anchor=\"start\" x=\"748\" y=\"-409.8\" font-family=\"Helvetica,sans-Serif\" font-size=\"14.00\" fill=\"#000000\">WHITE_FEMALE_rate ≤ 0.27</text>\n<text text-anchor=\"start\" x=\"792\" y=\"-394.8\" font-family=\"Helvetica,sans-Serif\" font-size=\"14.00\" fill=\"#000000\">entropy = 0.469</text>\n<text text-anchor=\"start\" x=\"791\" y=\"-379.8\" font-family=\"Helvetica,sans-Serif\" font-size=\"14.00\" fill=\"#000000\">samples = 2752</text>\n<text text-anchor=\"start\" x=\"781\" y=\"-364.8\" font-family=\"Helvetica,sans-Serif\" font-size=\"14.00\" fill=\"#000000\">value = [2477, 275]</text>\n<text text-anchor=\"start\" x=\"812.5\" y=\"-349.8\" font-family=\"Helvetica,sans-Serif\" font-size=\"14.00\" fill=\"#000000\">class = R</text>\n</g>\n<!-- 0&#45;&gt;1 -->\n<g id=\"edge1\" class=\"edge\">\n<title>0&#45;&gt;1</title>\n<path fill=\"none\" stroke=\"#000000\" d=\"M967.8477,-460.8796C952.0628,-451.0962 935.1307,-440.6019 918.9886,-430.5971\"/>\n<polygon fill=\"#000000\" stroke=\"#000000\" points=\"920.4581,-427.3901 910.1144,-425.0969 916.7703,-433.34 920.4581,-427.3901\"/>\n<text text-anchor=\"middle\" x=\"915.8273\" y=\"-445.7354\" font-family=\"Helvetica,sans-Serif\" font-size=\"14.00\" fill=\"#000000\">True</text>\n</g>\n<!-- 16 -->\n<g id=\"node17\" class=\"node\">\n<title>16</title>\n<path fill=\"#93caf1\" stroke=\"#000000\" d=\"M1432.5,-425C1432.5,-425 1317.5,-425 1317.5,-425 1311.5,-425 1305.5,-419 1305.5,-413 1305.5,-413 1305.5,-354 1305.5,-354 1305.5,-348 1311.5,-342 1317.5,-342 1317.5,-342 1432.5,-342 1432.5,-342 1438.5,-342 1444.5,-348 1444.5,-354 1444.5,-354 1444.5,-413 1444.5,-413 1444.5,-419 1438.5,-425 1432.5,-425\"/>\n<text text-anchor=\"start\" x=\"1313.5\" y=\"-409.8\" font-family=\"Helvetica,sans-Serif\" font-size=\"14.00\" fill=\"#000000\">70&#45;74_rate ≤ 0.036</text>\n<text text-anchor=\"start\" x=\"1324\" y=\"-394.8\" font-family=\"Helvetica,sans-Serif\" font-size=\"14.00\" fill=\"#000000\">entropy = 0.896</text>\n<text text-anchor=\"start\" x=\"1327\" y=\"-379.8\" font-family=\"Helvetica,sans-Serif\" font-size=\"14.00\" fill=\"#000000\">samples = 291</text>\n<text text-anchor=\"start\" x=\"1321\" y=\"-364.8\" font-family=\"Helvetica,sans-Serif\" font-size=\"14.00\" fill=\"#000000\">value = [91, 200]</text>\n<text text-anchor=\"start\" x=\"1344.5\" y=\"-349.8\" font-family=\"Helvetica,sans-Serif\" font-size=\"14.00\" fill=\"#000000\">class = D</text>\n</g>\n<!-- 0&#45;&gt;16 -->\n<g id=\"edge16\" class=\"edge\">\n<title>0&#45;&gt;16</title>\n<path fill=\"none\" stroke=\"#000000\" d=\"M1105.036,-477.9874C1160.5554,-458.5556 1238.1368,-431.4021 1295.892,-411.1878\"/>\n<polygon fill=\"#000000\" stroke=\"#000000\" points=\"1297.0638,-414.4859 1305.3462,-407.8788 1294.7513,-407.8789 1297.0638,-414.4859\"/>\n<text text-anchor=\"middle\" x=\"1294.5008\" y=\"-426.7039\" font-family=\"Helvetica,sans-Serif\" font-size=\"14.00\" fill=\"#000000\">False</text>\n</g>\n<!-- 2 -->\n<g id=\"node3\" class=\"node\">\n<title>2</title>\n<path fill=\"#79bded\" stroke=\"#000000\" d=\"M529,-306C529,-306 337,-306 337,-306 331,-306 325,-300 325,-294 325,-294 325,-235 325,-235 325,-229 331,-223 337,-223 337,-223 529,-223 529,-223 535,-223 541,-229 541,-235 541,-235 541,-294 541,-294 541,-300 535,-306 529,-306\"/>\n<text text-anchor=\"start\" x=\"333\" y=\"-290.8\" font-family=\"Helvetica,sans-Serif\" font-size=\"14.00\" fill=\"#000000\">BLACK_FEMALE_rate ≤ 0.266</text>\n<text text-anchor=\"start\" x=\"382\" y=\"-275.8\" font-family=\"Helvetica,sans-Serif\" font-size=\"14.00\" fill=\"#000000\">entropy = 0.804</text>\n<text text-anchor=\"start\" x=\"385\" y=\"-260.8\" font-family=\"Helvetica,sans-Serif\" font-size=\"14.00\" fill=\"#000000\">samples = 159</text>\n<text text-anchor=\"start\" x=\"379\" y=\"-245.8\" font-family=\"Helvetica,sans-Serif\" font-size=\"14.00\" fill=\"#000000\">value = [39, 120]</text>\n<text text-anchor=\"start\" x=\"402.5\" y=\"-230.8\" font-family=\"Helvetica,sans-Serif\" font-size=\"14.00\" fill=\"#000000\">class = D</text>\n</g>\n<!-- 1&#45;&gt;2 -->\n<g id=\"edge2\" class=\"edge\">\n<title>1&#45;&gt;2</title>\n<path fill=\"none\" stroke=\"#000000\" d=\"M739.8044,-353.5481C682.3918,-336.8845 610.7017,-316.0768 551.0613,-298.7666\"/>\n<polygon fill=\"#000000\" stroke=\"#000000\" points=\"551.7966,-295.3356 541.2173,-295.9094 549.8454,-302.0582 551.7966,-295.3356\"/>\n</g>\n<!-- 9 -->\n<g id=\"node10\" class=\"node\">\n<title>9</title>\n<path fill=\"#e78946\" stroke=\"#000000\" d=\"M1060.5,-306C1060.5,-306 625.5,-306 625.5,-306 619.5,-306 613.5,-300 613.5,-294 613.5,-294 613.5,-235 613.5,-235 613.5,-229 619.5,-223 625.5,-223 625.5,-223 1060.5,-223 1060.5,-223 1066.5,-223 1072.5,-229 1072.5,-235 1072.5,-235 1072.5,-294 1072.5,-294 1072.5,-300 1066.5,-306 1060.5,-306\"/>\n<text text-anchor=\"start\" x=\"621.5\" y=\"-290.8\" font-family=\"Helvetica,sans-Serif\" font-size=\"14.00\" fill=\"#000000\">Percent of adults with a high school diploma only, 2011&#45;2015 ≤ 27.45</text>\n<text text-anchor=\"start\" x=\"792\" y=\"-275.8\" font-family=\"Helvetica,sans-Serif\" font-size=\"14.00\" fill=\"#000000\">entropy = 0.327</text>\n<text text-anchor=\"start\" x=\"791\" y=\"-260.8\" font-family=\"Helvetica,sans-Serif\" font-size=\"14.00\" fill=\"#000000\">samples = 2593</text>\n<text text-anchor=\"start\" x=\"781\" y=\"-245.8\" font-family=\"Helvetica,sans-Serif\" font-size=\"14.00\" fill=\"#000000\">value = [2438, 155]</text>\n<text text-anchor=\"start\" x=\"812.5\" y=\"-230.8\" font-family=\"Helvetica,sans-Serif\" font-size=\"14.00\" fill=\"#000000\">class = R</text>\n</g>\n<!-- 1&#45;&gt;9 -->\n<g id=\"edge9\" class=\"edge\">\n<title>1&#45;&gt;9</title>\n<path fill=\"none\" stroke=\"#000000\" d=\"M843,-341.8796C843,-333.6838 843,-324.9891 843,-316.5013\"/>\n<polygon fill=\"#000000\" stroke=\"#000000\" points=\"846.5001,-316.298 843,-306.2981 839.5001,-316.2981 846.5001,-316.298\"/>\n</g>\n<!-- 3 -->\n<g id=\"node4\" class=\"node\">\n<title>3</title>\n<path fill=\"#cfe7f9\" stroke=\"#000000\" d=\"M272,-187C272,-187 118,-187 118,-187 112,-187 106,-181 106,-175 106,-175 106,-116 106,-116 106,-110 112,-104 118,-104 118,-104 272,-104 272,-104 278,-104 284,-110 284,-116 284,-116 284,-175 284,-175 284,-181 278,-187 272,-187\"/>\n<text text-anchor=\"start\" x=\"114\" y=\"-171.8\" font-family=\"Helvetica,sans-Serif\" font-size=\"14.00\" fill=\"#000000\">age_total_pop ≤ 27024.5</text>\n<text text-anchor=\"start\" x=\"144\" y=\"-156.8\" font-family=\"Helvetica,sans-Serif\" font-size=\"14.00\" fill=\"#000000\">entropy = 0.987</text>\n<text text-anchor=\"start\" x=\"151\" y=\"-141.8\" font-family=\"Helvetica,sans-Serif\" font-size=\"14.00\" fill=\"#000000\">samples = 88</text>\n<text text-anchor=\"start\" x=\"145\" y=\"-126.8\" font-family=\"Helvetica,sans-Serif\" font-size=\"14.00\" fill=\"#000000\">value = [38, 50]</text>\n<text text-anchor=\"start\" x=\"164.5\" y=\"-111.8\" font-family=\"Helvetica,sans-Serif\" font-size=\"14.00\" fill=\"#000000\">class = D</text>\n</g>\n<!-- 2&#45;&gt;3 -->\n<g id=\"edge3\" class=\"edge\">\n<title>2&#45;&gt;3</title>\n<path fill=\"none\" stroke=\"#000000\" d=\"M349.7591,-222.8796C329.5583,-212.7791 307.8418,-201.9209 287.252,-191.626\"/>\n<polygon fill=\"#000000\" stroke=\"#000000\" points=\"288.7034,-188.4386 278.1938,-187.0969 285.5729,-194.6996 288.7034,-188.4386\"/>\n</g>\n<!-- 6 -->\n<g id=\"node7\" class=\"node\">\n<title>6</title>\n<path fill=\"#3c9ee5\" stroke=\"#000000\" d=\"M527.5,-187C527.5,-187 338.5,-187 338.5,-187 332.5,-187 326.5,-181 326.5,-175 326.5,-175 326.5,-116 326.5,-116 326.5,-110 332.5,-104 338.5,-104 338.5,-104 527.5,-104 527.5,-104 533.5,-104 539.5,-110 539.5,-116 539.5,-116 539.5,-175 539.5,-175 539.5,-181 533.5,-187 527.5,-187\"/>\n<text text-anchor=\"start\" x=\"334.5\" y=\"-171.8\" font-family=\"Helvetica,sans-Serif\" font-size=\"14.00\" fill=\"#000000\">Non&#45;Catholic Christian ≤ 414.5</text>\n<text text-anchor=\"start\" x=\"382\" y=\"-156.8\" font-family=\"Helvetica,sans-Serif\" font-size=\"14.00\" fill=\"#000000\">entropy = 0.107</text>\n<text text-anchor=\"start\" x=\"389\" y=\"-141.8\" font-family=\"Helvetica,sans-Serif\" font-size=\"14.00\" fill=\"#000000\">samples = 71</text>\n<text text-anchor=\"start\" x=\"387.5\" y=\"-126.8\" font-family=\"Helvetica,sans-Serif\" font-size=\"14.00\" fill=\"#000000\">value = [1, 70]</text>\n<text text-anchor=\"start\" x=\"402.5\" y=\"-111.8\" font-family=\"Helvetica,sans-Serif\" font-size=\"14.00\" fill=\"#000000\">class = D</text>\n</g>\n<!-- 2&#45;&gt;6 -->\n<g id=\"edge6\" class=\"edge\">\n<title>2&#45;&gt;6</title>\n<path fill=\"none\" stroke=\"#000000\" d=\"M433,-222.8796C433,-214.6838 433,-205.9891 433,-197.5013\"/>\n<polygon fill=\"#000000\" stroke=\"#000000\" points=\"436.5001,-197.298 433,-187.2981 429.5001,-197.2981 436.5001,-197.298\"/>\n</g>\n<!-- 4 -->\n<g id=\"node5\" class=\"node\">\n<title>4</title>\n<path fill=\"#f8decb\" stroke=\"#000000\" d=\"M106,-68C106,-68 12,-68 12,-68 6,-68 0,-62 0,-56 0,-56 0,-12 0,-12 0,-6 6,0 12,0 12,0 106,0 106,0 112,0 118,-6 118,-12 118,-12 118,-56 118,-56 118,-62 112,-68 106,-68\"/>\n<text text-anchor=\"start\" x=\"8\" y=\"-52.8\" font-family=\"Helvetica,sans-Serif\" font-size=\"14.00\" fill=\"#000000\">entropy = 0.983</text>\n<text text-anchor=\"start\" x=\"15\" y=\"-37.8\" font-family=\"Helvetica,sans-Serif\" font-size=\"14.00\" fill=\"#000000\">samples = 59</text>\n<text text-anchor=\"start\" x=\"9\" y=\"-22.8\" font-family=\"Helvetica,sans-Serif\" font-size=\"14.00\" fill=\"#000000\">value = [34, 25]</text>\n<text text-anchor=\"start\" x=\"28.5\" y=\"-7.8\" font-family=\"Helvetica,sans-Serif\" font-size=\"14.00\" fill=\"#000000\">class = R</text>\n</g>\n<!-- 3&#45;&gt;4 -->\n<g id=\"edge4\" class=\"edge\">\n<title>3&#45;&gt;4</title>\n<path fill=\"none\" stroke=\"#000000\" d=\"M144.3586,-103.9815C132.7001,-94.4232 120.312,-84.2668 108.6941,-74.7419\"/>\n<polygon fill=\"#000000\" stroke=\"#000000\" points=\"110.7448,-71.8972 100.7925,-68.2637 106.3067,-77.3105 110.7448,-71.8972\"/>\n</g>\n<!-- 5 -->\n<g id=\"node6\" class=\"node\">\n<title>5</title>\n<path fill=\"#59ade9\" stroke=\"#000000\" d=\"M242,-68C242,-68 148,-68 148,-68 142,-68 136,-62 136,-56 136,-56 136,-12 136,-12 136,-6 142,0 148,0 148,0 242,0 242,0 248,0 254,-6 254,-12 254,-12 254,-56 254,-56 254,-62 248,-68 242,-68\"/>\n<text text-anchor=\"start\" x=\"144\" y=\"-52.8\" font-family=\"Helvetica,sans-Serif\" font-size=\"14.00\" fill=\"#000000\">entropy = 0.579</text>\n<text text-anchor=\"start\" x=\"151\" y=\"-37.8\" font-family=\"Helvetica,sans-Serif\" font-size=\"14.00\" fill=\"#000000\">samples = 29</text>\n<text text-anchor=\"start\" x=\"149.5\" y=\"-22.8\" font-family=\"Helvetica,sans-Serif\" font-size=\"14.00\" fill=\"#000000\">value = [4, 25]</text>\n<text text-anchor=\"start\" x=\"164.5\" y=\"-7.8\" font-family=\"Helvetica,sans-Serif\" font-size=\"14.00\" fill=\"#000000\">class = D</text>\n</g>\n<!-- 3&#45;&gt;5 -->\n<g id=\"edge5\" class=\"edge\">\n<title>3&#45;&gt;5</title>\n<path fill=\"none\" stroke=\"#000000\" d=\"M195,-103.9815C195,-95.618 195,-86.7965 195,-78.3409\"/>\n<polygon fill=\"#000000\" stroke=\"#000000\" points=\"198.5001,-78.2636 195,-68.2637 191.5001,-78.2637 198.5001,-78.2636\"/>\n</g>\n<!-- 7 -->\n<g id=\"node8\" class=\"node\">\n<title>7</title>\n<path fill=\"#399de5\" stroke=\"#000000\" d=\"M367.5,-68C367.5,-68 284.5,-68 284.5,-68 278.5,-68 272.5,-62 272.5,-56 272.5,-56 272.5,-12 272.5,-12 272.5,-6 278.5,0 284.5,0 284.5,0 367.5,0 367.5,0 373.5,0 379.5,-6 379.5,-12 379.5,-12 379.5,-56 379.5,-56 379.5,-62 373.5,-68 367.5,-68\"/>\n<text text-anchor=\"start\" x=\"283.5\" y=\"-52.8\" font-family=\"Helvetica,sans-Serif\" font-size=\"14.00\" fill=\"#000000\">entropy = 0.0</text>\n<text text-anchor=\"start\" x=\"282\" y=\"-37.8\" font-family=\"Helvetica,sans-Serif\" font-size=\"14.00\" fill=\"#000000\">samples = 68</text>\n<text text-anchor=\"start\" x=\"280.5\" y=\"-22.8\" font-family=\"Helvetica,sans-Serif\" font-size=\"14.00\" fill=\"#000000\">value = [0, 68]</text>\n<text text-anchor=\"start\" x=\"295.5\" y=\"-7.8\" font-family=\"Helvetica,sans-Serif\" font-size=\"14.00\" fill=\"#000000\">class = D</text>\n</g>\n<!-- 6&#45;&gt;7 -->\n<g id=\"edge7\" class=\"edge\">\n<title>6&#45;&gt;7</title>\n<path fill=\"none\" stroke=\"#000000\" d=\"M393.1571,-103.9815C384.2492,-94.6989 374.7999,-84.8522 365.8901,-75.5677\"/>\n<polygon fill=\"#000000\" stroke=\"#000000\" points=\"368.3302,-73.0555 358.8808,-68.2637 363.2795,-77.9023 368.3302,-73.0555\"/>\n</g>\n<!-- 8 -->\n<g id=\"node9\" class=\"node\">\n<title>8</title>\n<path fill=\"#9ccef2\" stroke=\"#000000\" d=\"M504,-68C504,-68 410,-68 410,-68 404,-68 398,-62 398,-56 398,-56 398,-12 398,-12 398,-6 404,0 410,0 410,0 504,0 504,0 510,0 516,-6 516,-12 516,-12 516,-56 516,-56 516,-62 510,-68 504,-68\"/>\n<text text-anchor=\"start\" x=\"406\" y=\"-52.8\" font-family=\"Helvetica,sans-Serif\" font-size=\"14.00\" fill=\"#000000\">entropy = 0.918</text>\n<text text-anchor=\"start\" x=\"417.5\" y=\"-37.8\" font-family=\"Helvetica,sans-Serif\" font-size=\"14.00\" fill=\"#000000\">samples = 3</text>\n<text text-anchor=\"start\" x=\"415.5\" y=\"-22.8\" font-family=\"Helvetica,sans-Serif\" font-size=\"14.00\" fill=\"#000000\">value = [1, 2]</text>\n<text text-anchor=\"start\" x=\"426.5\" y=\"-7.8\" font-family=\"Helvetica,sans-Serif\" font-size=\"14.00\" fill=\"#000000\">class = D</text>\n</g>\n<!-- 6&#45;&gt;8 -->\n<g id=\"edge8\" class=\"edge\">\n<title>6&#45;&gt;8</title>\n<path fill=\"none\" stroke=\"#000000\" d=\"M441.9367,-103.9815C443.7567,-95.5261 445.6775,-86.6026 447.5157,-78.0623\"/>\n<polygon fill=\"#000000\" stroke=\"#000000\" points=\"450.9421,-78.7763 449.6249,-68.2637 444.0989,-77.3032 450.9421,-78.7763\"/>\n</g>\n<!-- 10 -->\n<g id=\"node11\" class=\"node\">\n<title>10</title>\n<path fill=\"#f0b890\" stroke=\"#000000\" d=\"M752,-187C752,-187 596,-187 596,-187 590,-187 584,-181 584,-175 584,-175 584,-116 584,-116 584,-110 590,-104 596,-104 596,-104 752,-104 752,-104 758,-104 764,-110 764,-116 764,-116 764,-175 764,-175 764,-181 758,-187 752,-187\"/>\n<text text-anchor=\"start\" x=\"592\" y=\"-171.8\" font-family=\"Helvetica,sans-Serif\" font-size=\"14.00\" fill=\"#000000\">Christian Generic ≤ 188.0</text>\n<text text-anchor=\"start\" x=\"623\" y=\"-156.8\" font-family=\"Helvetica,sans-Serif\" font-size=\"14.00\" fill=\"#000000\">entropy = 0.888</text>\n<text text-anchor=\"start\" x=\"626\" y=\"-141.8\" font-family=\"Helvetica,sans-Serif\" font-size=\"14.00\" fill=\"#000000\">samples = 285</text>\n<text text-anchor=\"start\" x=\"620\" y=\"-126.8\" font-family=\"Helvetica,sans-Serif\" font-size=\"14.00\" fill=\"#000000\">value = [198, 87]</text>\n<text text-anchor=\"start\" x=\"643.5\" y=\"-111.8\" font-family=\"Helvetica,sans-Serif\" font-size=\"14.00\" fill=\"#000000\">class = R</text>\n</g>\n<!-- 9&#45;&gt;10 -->\n<g id=\"edge10\" class=\"edge\">\n<title>9&#45;&gt;10</title>\n<path fill=\"none\" stroke=\"#000000\" d=\"M783.892,-222.8796C770.1266,-213.1868 755.3701,-202.7961 741.2807,-192.8752\"/>\n<polygon fill=\"#000000\" stroke=\"#000000\" points=\"743.2661,-189.9926 733.0746,-187.0969 739.2359,-195.716 743.2661,-189.9926\"/>\n</g>\n<!-- 13 -->\n<g id=\"node14\" class=\"node\">\n<title>13</title>\n<path fill=\"#e6853f\" stroke=\"#000000\" d=\"M950,-187C950,-187 794,-187 794,-187 788,-187 782,-181 782,-175 782,-175 782,-116 782,-116 782,-110 788,-104 794,-104 794,-104 950,-104 950,-104 956,-104 962,-110 962,-116 962,-116 962,-175 962,-175 962,-181 956,-187 950,-187\"/>\n<text text-anchor=\"start\" x=\"790\" y=\"-171.8\" font-family=\"Helvetica,sans-Serif\" font-size=\"14.00\" fill=\"#000000\">Christian Generic ≤ 139.0</text>\n<text text-anchor=\"start\" x=\"821\" y=\"-156.8\" font-family=\"Helvetica,sans-Serif\" font-size=\"14.00\" fill=\"#000000\">entropy = 0.192</text>\n<text text-anchor=\"start\" x=\"820\" y=\"-141.8\" font-family=\"Helvetica,sans-Serif\" font-size=\"14.00\" fill=\"#000000\">samples = 2308</text>\n<text text-anchor=\"start\" x=\"814\" y=\"-126.8\" font-family=\"Helvetica,sans-Serif\" font-size=\"14.00\" fill=\"#000000\">value = [2240, 68]</text>\n<text text-anchor=\"start\" x=\"841.5\" y=\"-111.8\" font-family=\"Helvetica,sans-Serif\" font-size=\"14.00\" fill=\"#000000\">class = R</text>\n</g>\n<!-- 9&#45;&gt;13 -->\n<g id=\"edge13\" class=\"edge\">\n<title>9&#45;&gt;13</title>\n<path fill=\"none\" stroke=\"#000000\" d=\"M853.1428,-222.8796C855.162,-214.5938 857.3055,-205.798 859.3956,-197.2216\"/>\n<polygon fill=\"#000000\" stroke=\"#000000\" points=\"862.8466,-197.8425 861.8139,-187.2981 856.0457,-196.185 862.8466,-197.8425\"/>\n</g>\n<!-- 11 -->\n<g id=\"node12\" class=\"node\">\n<title>11</title>\n<path fill=\"#f5fafe\" stroke=\"#000000\" d=\"M638,-68C638,-68 546,-68 546,-68 540,-68 534,-62 534,-56 534,-56 534,-12 534,-12 534,-6 540,0 546,0 546,0 638,0 638,0 644,0 650,-6 650,-12 650,-12 650,-56 650,-56 650,-62 644,-68 638,-68\"/>\n<text text-anchor=\"start\" x=\"549.5\" y=\"-52.8\" font-family=\"Helvetica,sans-Serif\" font-size=\"14.00\" fill=\"#000000\">entropy = 1.0</text>\n<text text-anchor=\"start\" x=\"544\" y=\"-37.8\" font-family=\"Helvetica,sans-Serif\" font-size=\"14.00\" fill=\"#000000\">samples = 117</text>\n<text text-anchor=\"start\" x=\"542\" y=\"-22.8\" font-family=\"Helvetica,sans-Serif\" font-size=\"14.00\" fill=\"#000000\">value = [57, 60]</text>\n<text text-anchor=\"start\" x=\"561.5\" y=\"-7.8\" font-family=\"Helvetica,sans-Serif\" font-size=\"14.00\" fill=\"#000000\">class = D</text>\n</g>\n<!-- 10&#45;&gt;11 -->\n<g id=\"edge11\" class=\"edge\">\n<title>10&#45;&gt;11</title>\n<path fill=\"none\" stroke=\"#000000\" d=\"M643.4662,-103.9815C636.8424,-94.9747 629.8279,-85.4367 623.1795,-76.3965\"/>\n<polygon fill=\"#000000\" stroke=\"#000000\" points=\"625.9426,-74.2461 617.1984,-68.2637 620.3034,-78.3933 625.9426,-74.2461\"/>\n</g>\n<!-- 12 -->\n<g id=\"node13\" class=\"node\">\n<title>12</title>\n<path fill=\"#ea995f\" stroke=\"#000000\" d=\"M780,-68C780,-68 680,-68 680,-68 674,-68 668,-62 668,-56 668,-56 668,-12 668,-12 668,-6 674,0 680,0 680,0 780,0 780,0 786,0 792,-6 792,-12 792,-12 792,-56 792,-56 792,-62 786,-68 780,-68\"/>\n<text text-anchor=\"start\" x=\"679\" y=\"-52.8\" font-family=\"Helvetica,sans-Serif\" font-size=\"14.00\" fill=\"#000000\">entropy = 0.636</text>\n<text text-anchor=\"start\" x=\"682\" y=\"-37.8\" font-family=\"Helvetica,sans-Serif\" font-size=\"14.00\" fill=\"#000000\">samples = 168</text>\n<text text-anchor=\"start\" x=\"676\" y=\"-22.8\" font-family=\"Helvetica,sans-Serif\" font-size=\"14.00\" fill=\"#000000\">value = [141, 27]</text>\n<text text-anchor=\"start\" x=\"699.5\" y=\"-7.8\" font-family=\"Helvetica,sans-Serif\" font-size=\"14.00\" fill=\"#000000\">class = R</text>\n</g>\n<!-- 10&#45;&gt;12 -->\n<g id=\"edge12\" class=\"edge\">\n<title>10&#45;&gt;12</title>\n<path fill=\"none\" stroke=\"#000000\" d=\"M694.8523,-103.9815C699.2375,-95.2504 703.8733,-86.0202 708.289,-77.2281\"/>\n<polygon fill=\"#000000\" stroke=\"#000000\" points=\"711.4308,-78.7708 712.7913,-68.2637 705.1754,-75.6291 711.4308,-78.7708\"/>\n</g>\n<!-- 14 -->\n<g id=\"node15\" class=\"node\">\n<title>14</title>\n<path fill=\"#eb9c64\" stroke=\"#000000\" d=\"M922,-68C922,-68 822,-68 822,-68 816,-68 810,-62 810,-56 810,-56 810,-12 810,-12 810,-6 816,0 822,0 822,0 922,0 922,0 928,0 934,-6 934,-12 934,-12 934,-56 934,-56 934,-62 928,-68 922,-68\"/>\n<text text-anchor=\"start\" x=\"821\" y=\"-52.8\" font-family=\"Helvetica,sans-Serif\" font-size=\"14.00\" fill=\"#000000\">entropy = 0.673</text>\n<text text-anchor=\"start\" x=\"824\" y=\"-37.8\" font-family=\"Helvetica,sans-Serif\" font-size=\"14.00\" fill=\"#000000\">samples = 198</text>\n<text text-anchor=\"start\" x=\"818\" y=\"-22.8\" font-family=\"Helvetica,sans-Serif\" font-size=\"14.00\" fill=\"#000000\">value = [163, 35]</text>\n<text text-anchor=\"start\" x=\"841.5\" y=\"-7.8\" font-family=\"Helvetica,sans-Serif\" font-size=\"14.00\" fill=\"#000000\">class = R</text>\n</g>\n<!-- 13&#45;&gt;14 -->\n<g id=\"edge14\" class=\"edge\">\n<title>13&#45;&gt;14</title>\n<path fill=\"none\" stroke=\"#000000\" d=\"M872,-103.9815C872,-95.618 872,-86.7965 872,-78.3409\"/>\n<polygon fill=\"#000000\" stroke=\"#000000\" points=\"875.5001,-78.2636 872,-68.2637 868.5001,-78.2637 875.5001,-78.2636\"/>\n</g>\n<!-- 15 -->\n<g id=\"node16\" class=\"node\">\n<title>15</title>\n<path fill=\"#e5833c\" stroke=\"#000000\" d=\"M1072,-68C1072,-68 964,-68 964,-68 958,-68 952,-62 952,-56 952,-56 952,-12 952,-12 952,-6 958,0 964,0 964,0 1072,0 1072,0 1078,0 1084,-6 1084,-12 1084,-12 1084,-56 1084,-56 1084,-62 1078,-68 1072,-68\"/>\n<text text-anchor=\"start\" x=\"967\" y=\"-52.8\" font-family=\"Helvetica,sans-Serif\" font-size=\"14.00\" fill=\"#000000\">entropy = 0.116</text>\n<text text-anchor=\"start\" x=\"966\" y=\"-37.8\" font-family=\"Helvetica,sans-Serif\" font-size=\"14.00\" fill=\"#000000\">samples = 2110</text>\n<text text-anchor=\"start\" x=\"960\" y=\"-22.8\" font-family=\"Helvetica,sans-Serif\" font-size=\"14.00\" fill=\"#000000\">value = [2077, 33]</text>\n<text text-anchor=\"start\" x=\"987.5\" y=\"-7.8\" font-family=\"Helvetica,sans-Serif\" font-size=\"14.00\" fill=\"#000000\">class = R</text>\n</g>\n<!-- 13&#45;&gt;15 -->\n<g id=\"edge15\" class=\"edge\">\n<title>13&#45;&gt;15</title>\n<path fill=\"none\" stroke=\"#000000\" d=\"M926.365,-103.9815C939.0011,-94.3313 952.4356,-84.0714 965.0115,-74.4673\"/>\n<polygon fill=\"#000000\" stroke=\"#000000\" points=\"967.3114,-77.1148 973.1346,-68.2637 963.0628,-71.5515 967.3114,-77.1148\"/>\n</g>\n<!-- 17 -->\n<g id=\"node18\" class=\"node\">\n<title>17</title>\n<path fill=\"#54aae9\" stroke=\"#000000\" d=\"M1461,-306C1461,-306 1289,-306 1289,-306 1283,-306 1277,-300 1277,-294 1277,-294 1277,-235 1277,-235 1277,-229 1283,-223 1289,-223 1289,-223 1461,-223 1461,-223 1467,-223 1473,-229 1473,-235 1473,-235 1473,-294 1473,-294 1473,-300 1467,-306 1461,-306\"/>\n<text text-anchor=\"start\" x=\"1285\" y=\"-290.8\" font-family=\"Helvetica,sans-Serif\" font-size=\"14.00\" fill=\"#000000\">WHITE_MALE_rate ≤ 0.426</text>\n<text text-anchor=\"start\" x=\"1328\" y=\"-275.8\" font-family=\"Helvetica,sans-Serif\" font-size=\"14.00\" fill=\"#000000\">entropy = 0.53</text>\n<text text-anchor=\"start\" x=\"1327\" y=\"-260.8\" font-family=\"Helvetica,sans-Serif\" font-size=\"14.00\" fill=\"#000000\">samples = 158</text>\n<text text-anchor=\"start\" x=\"1321\" y=\"-245.8\" font-family=\"Helvetica,sans-Serif\" font-size=\"14.00\" fill=\"#000000\">value = [19, 139]</text>\n<text text-anchor=\"start\" x=\"1344.5\" y=\"-230.8\" font-family=\"Helvetica,sans-Serif\" font-size=\"14.00\" fill=\"#000000\">class = D</text>\n</g>\n<!-- 16&#45;&gt;17 -->\n<g id=\"edge17\" class=\"edge\">\n<title>16&#45;&gt;17</title>\n<path fill=\"none\" stroke=\"#000000\" d=\"M1375,-341.8796C1375,-333.6838 1375,-324.9891 1375,-316.5013\"/>\n<polygon fill=\"#000000\" stroke=\"#000000\" points=\"1378.5001,-316.298 1375,-306.2981 1371.5001,-316.2981 1378.5001,-316.298\"/>\n</g>\n<!-- 24 -->\n<g id=\"node25\" class=\"node\">\n<title>24</title>\n<path fill=\"#fbece1\" stroke=\"#000000\" d=\"M2074,-306C2074,-306 1622,-306 1622,-306 1616,-306 1610,-300 1610,-294 1610,-294 1610,-235 1610,-235 1610,-229 1616,-223 1622,-223 1622,-223 2074,-223 2074,-223 2080,-223 2086,-229 2086,-235 2086,-235 2086,-294 2086,-294 2086,-300 2080,-306 2074,-306\"/>\n<text text-anchor=\"start\" x=\"1618\" y=\"-290.8\" font-family=\"Helvetica,sans-Serif\" font-size=\"14.00\" fill=\"#000000\">Percent of adults with a bachelor&#39;s degree or higher, 2011&#45;2015 ≤ 29.95</text>\n<text text-anchor=\"start\" x=\"1797\" y=\"-275.8\" font-family=\"Helvetica,sans-Serif\" font-size=\"14.00\" fill=\"#000000\">entropy = 0.995</text>\n<text text-anchor=\"start\" x=\"1800\" y=\"-260.8\" font-family=\"Helvetica,sans-Serif\" font-size=\"14.00\" fill=\"#000000\">samples = 133</text>\n<text text-anchor=\"start\" x=\"1798\" y=\"-245.8\" font-family=\"Helvetica,sans-Serif\" font-size=\"14.00\" fill=\"#000000\">value = [72, 61]</text>\n<text text-anchor=\"start\" x=\"1817.5\" y=\"-230.8\" font-family=\"Helvetica,sans-Serif\" font-size=\"14.00\" fill=\"#000000\">class = R</text>\n</g>\n<!-- 16&#45;&gt;24 -->\n<g id=\"edge24\" class=\"edge\">\n<title>16&#45;&gt;24</title>\n<path fill=\"none\" stroke=\"#000000\" d=\"M1444.5386,-366.0051C1504.441,-350.9345 1593.5101,-328.526 1672.734,-308.5944\"/>\n<polygon fill=\"#000000\" stroke=\"#000000\" points=\"1673.9982,-311.8855 1682.8421,-306.0514 1672.2903,-305.097 1673.9982,-311.8855\"/>\n</g>\n<!-- 18 -->\n<g id=\"node19\" class=\"node\">\n<title>18</title>\n<path fill=\"#4aa5e7\" stroke=\"#000000\" d=\"M1522,-187C1522,-187 992,-187 992,-187 986,-187 980,-181 980,-175 980,-175 980,-116 980,-116 980,-110 986,-104 992,-104 992,-104 1522,-104 1522,-104 1528,-104 1534,-110 1534,-116 1534,-116 1534,-175 1534,-175 1534,-181 1528,-187 1522,-187\"/>\n<text text-anchor=\"start\" x=\"988\" y=\"-171.8\" font-family=\"Helvetica,sans-Serif\" font-size=\"14.00\" fill=\"#000000\">Percent of adults completing some college or associate&#39;s degree, 2011&#45;2015 ≤ 32.5</text>\n<text text-anchor=\"start\" x=\"1206\" y=\"-156.8\" font-family=\"Helvetica,sans-Serif\" font-size=\"14.00\" fill=\"#000000\">entropy = 0.399</text>\n<text text-anchor=\"start\" x=\"1209\" y=\"-141.8\" font-family=\"Helvetica,sans-Serif\" font-size=\"14.00\" fill=\"#000000\">samples = 139</text>\n<text text-anchor=\"start\" x=\"1203\" y=\"-126.8\" font-family=\"Helvetica,sans-Serif\" font-size=\"14.00\" fill=\"#000000\">value = [11, 128]</text>\n<text text-anchor=\"start\" x=\"1226.5\" y=\"-111.8\" font-family=\"Helvetica,sans-Serif\" font-size=\"14.00\" fill=\"#000000\">class = D</text>\n</g>\n<!-- 17&#45;&gt;18 -->\n<g id=\"edge18\" class=\"edge\">\n<title>17&#45;&gt;18</title>\n<path fill=\"none\" stroke=\"#000000\" d=\"M1333.7293,-222.8796C1324.6201,-213.6931 1314.8892,-203.8798 1305.5224,-194.4336\"/>\n<polygon fill=\"#000000\" stroke=\"#000000\" points=\"1307.9733,-191.9345 1298.4468,-187.2981 1303.0027,-196.8634 1307.9733,-191.9345\"/>\n</g>\n<!-- 21 -->\n<g id=\"node22\" class=\"node\">\n<title>21</title>\n<path fill=\"#c9e4f8\" stroke=\"#000000\" d=\"M1715.5,-187C1715.5,-187 1564.5,-187 1564.5,-187 1558.5,-187 1552.5,-181 1552.5,-175 1552.5,-175 1552.5,-116 1552.5,-116 1552.5,-110 1558.5,-104 1564.5,-104 1564.5,-104 1715.5,-104 1715.5,-104 1721.5,-104 1727.5,-110 1727.5,-116 1727.5,-116 1727.5,-175 1727.5,-175 1727.5,-181 1721.5,-187 1715.5,-187\"/>\n<text text-anchor=\"start\" x=\"1560.5\" y=\"-171.8\" font-family=\"Helvetica,sans-Serif\" font-size=\"14.00\" fill=\"#000000\">Mainline Christian ≤ 43.5</text>\n<text text-anchor=\"start\" x=\"1589\" y=\"-156.8\" font-family=\"Helvetica,sans-Serif\" font-size=\"14.00\" fill=\"#000000\">entropy = 0.982</text>\n<text text-anchor=\"start\" x=\"1596\" y=\"-141.8\" font-family=\"Helvetica,sans-Serif\" font-size=\"14.00\" fill=\"#000000\">samples = 19</text>\n<text text-anchor=\"start\" x=\"1594.5\" y=\"-126.8\" font-family=\"Helvetica,sans-Serif\" font-size=\"14.00\" fill=\"#000000\">value = [8, 11]</text>\n<text text-anchor=\"start\" x=\"1609.5\" y=\"-111.8\" font-family=\"Helvetica,sans-Serif\" font-size=\"14.00\" fill=\"#000000\">class = D</text>\n</g>\n<!-- 17&#45;&gt;21 -->\n<g id=\"edge21\" class=\"edge\">\n<title>17&#45;&gt;21</title>\n<path fill=\"none\" stroke=\"#000000\" d=\"M1467.6841,-222.8796C1492.036,-211.9442 1518.3658,-200.1206 1542.9402,-189.0853\"/>\n<polygon fill=\"#000000\" stroke=\"#000000\" points=\"1544.5762,-192.1874 1552.2649,-184.898 1541.7086,-185.8017 1544.5762,-192.1874\"/>\n</g>\n<!-- 19 -->\n<g id=\"node20\" class=\"node\">\n<title>19</title>\n<path fill=\"#40a0e6\" stroke=\"#000000\" d=\"M1252,-68C1252,-68 1158,-68 1158,-68 1152,-68 1146,-62 1146,-56 1146,-56 1146,-12 1146,-12 1146,-6 1152,0 1158,0 1158,0 1252,0 1252,0 1258,0 1264,-6 1264,-12 1264,-12 1264,-56 1264,-56 1264,-62 1258,-68 1252,-68\"/>\n<text text-anchor=\"start\" x=\"1154\" y=\"-52.8\" font-family=\"Helvetica,sans-Serif\" font-size=\"14.00\" fill=\"#000000\">entropy = 0.214</text>\n<text text-anchor=\"start\" x=\"1157\" y=\"-37.8\" font-family=\"Helvetica,sans-Serif\" font-size=\"14.00\" fill=\"#000000\">samples = 118</text>\n<text text-anchor=\"start\" x=\"1155\" y=\"-22.8\" font-family=\"Helvetica,sans-Serif\" font-size=\"14.00\" fill=\"#000000\">value = [4, 114]</text>\n<text text-anchor=\"start\" x=\"1174.5\" y=\"-7.8\" font-family=\"Helvetica,sans-Serif\" font-size=\"14.00\" fill=\"#000000\">class = D</text>\n</g>\n<!-- 18&#45;&gt;19 -->\n<g id=\"edge19\" class=\"edge\">\n<title>18&#45;&gt;19</title>\n<path fill=\"none\" stroke=\"#000000\" d=\"M1237.6371,-103.9815C1233.6081,-95.3423 1229.3511,-86.2144 1225.2897,-77.5059\"/>\n<polygon fill=\"#000000\" stroke=\"#000000\" points=\"1228.3782,-75.8472 1220.9795,-68.2637 1222.0341,-78.8059 1228.3782,-75.8472\"/>\n</g>\n<!-- 20 -->\n<g id=\"node21\" class=\"node\">\n<title>20</title>\n<path fill=\"#9ccef2\" stroke=\"#000000\" d=\"M1388,-68C1388,-68 1294,-68 1294,-68 1288,-68 1282,-62 1282,-56 1282,-56 1282,-12 1282,-12 1282,-6 1288,0 1294,0 1294,0 1388,0 1388,0 1394,0 1400,-6 1400,-12 1400,-12 1400,-56 1400,-56 1400,-62 1394,-68 1388,-68\"/>\n<text text-anchor=\"start\" x=\"1290\" y=\"-52.8\" font-family=\"Helvetica,sans-Serif\" font-size=\"14.00\" fill=\"#000000\">entropy = 0.918</text>\n<text text-anchor=\"start\" x=\"1297\" y=\"-37.8\" font-family=\"Helvetica,sans-Serif\" font-size=\"14.00\" fill=\"#000000\">samples = 21</text>\n<text text-anchor=\"start\" x=\"1295.5\" y=\"-22.8\" font-family=\"Helvetica,sans-Serif\" font-size=\"14.00\" fill=\"#000000\">value = [7, 14]</text>\n<text text-anchor=\"start\" x=\"1310.5\" y=\"-7.8\" font-family=\"Helvetica,sans-Serif\" font-size=\"14.00\" fill=\"#000000\">class = D</text>\n</g>\n<!-- 18&#45;&gt;20 -->\n<g id=\"edge20\" class=\"edge\">\n<title>18&#45;&gt;20</title>\n<path fill=\"none\" stroke=\"#000000\" d=\"M1288.2785,-103.9815C1295.0639,-94.9747 1302.2495,-85.4367 1309.0601,-76.3965\"/>\n<polygon fill=\"#000000\" stroke=\"#000000\" points=\"1311.9653,-78.3568 1315.187,-68.2637 1306.3743,-74.1448 1311.9653,-78.3568\"/>\n</g>\n<!-- 22 -->\n<g id=\"node23\" class=\"node\">\n<title>22</title>\n<path fill=\"#399de5\" stroke=\"#000000\" d=\"M1550.5,-68C1550.5,-68 1473.5,-68 1473.5,-68 1467.5,-68 1461.5,-62 1461.5,-56 1461.5,-56 1461.5,-12 1461.5,-12 1461.5,-6 1467.5,0 1473.5,0 1473.5,0 1550.5,0 1550.5,0 1556.5,0 1562.5,-6 1562.5,-12 1562.5,-12 1562.5,-56 1562.5,-56 1562.5,-62 1556.5,-68 1550.5,-68\"/>\n<text text-anchor=\"start\" x=\"1469.5\" y=\"-52.8\" font-family=\"Helvetica,sans-Serif\" font-size=\"14.00\" fill=\"#000000\">entropy = 0.0</text>\n<text text-anchor=\"start\" x=\"1472.5\" y=\"-37.8\" font-family=\"Helvetica,sans-Serif\" font-size=\"14.00\" fill=\"#000000\">samples = 5</text>\n<text text-anchor=\"start\" x=\"1470.5\" y=\"-22.8\" font-family=\"Helvetica,sans-Serif\" font-size=\"14.00\" fill=\"#000000\">value = [0, 5]</text>\n<text text-anchor=\"start\" x=\"1481.5\" y=\"-7.8\" font-family=\"Helvetica,sans-Serif\" font-size=\"14.00\" fill=\"#000000\">class = D</text>\n</g>\n<!-- 21&#45;&gt;22 -->\n<g id=\"edge22\" class=\"edge\">\n<title>21&#45;&gt;22</title>\n<path fill=\"none\" stroke=\"#000000\" d=\"M1592.3375,-103.9815C1581.4703,-94.5151 1569.9295,-84.462 1559.0865,-75.0168\"/>\n<polygon fill=\"#000000\" stroke=\"#000000\" points=\"1561.1734,-72.1929 1551.3341,-68.2637 1556.5755,-77.4712 1561.1734,-72.1929\"/>\n</g>\n<!-- 23 -->\n<g id=\"node24\" class=\"node\">\n<title>23</title>\n<path fill=\"#f8e0ce\" stroke=\"#000000\" d=\"M1687,-68C1687,-68 1593,-68 1593,-68 1587,-68 1581,-62 1581,-56 1581,-56 1581,-12 1581,-12 1581,-6 1587,0 1593,0 1593,0 1687,0 1687,0 1693,0 1699,-6 1699,-12 1699,-12 1699,-56 1699,-56 1699,-62 1693,-68 1687,-68\"/>\n<text text-anchor=\"start\" x=\"1589\" y=\"-52.8\" font-family=\"Helvetica,sans-Serif\" font-size=\"14.00\" fill=\"#000000\">entropy = 0.985</text>\n<text text-anchor=\"start\" x=\"1596\" y=\"-37.8\" font-family=\"Helvetica,sans-Serif\" font-size=\"14.00\" fill=\"#000000\">samples = 14</text>\n<text text-anchor=\"start\" x=\"1598.5\" y=\"-22.8\" font-family=\"Helvetica,sans-Serif\" font-size=\"14.00\" fill=\"#000000\">value = [8, 6]</text>\n<text text-anchor=\"start\" x=\"1609.5\" y=\"-7.8\" font-family=\"Helvetica,sans-Serif\" font-size=\"14.00\" fill=\"#000000\">class = R</text>\n</g>\n<!-- 21&#45;&gt;23 -->\n<g id=\"edge23\" class=\"edge\">\n<title>21&#45;&gt;23</title>\n<path fill=\"none\" stroke=\"#000000\" d=\"M1640,-103.9815C1640,-95.618 1640,-86.7965 1640,-78.3409\"/>\n<polygon fill=\"#000000\" stroke=\"#000000\" points=\"1643.5001,-78.2636 1640,-68.2637 1636.5001,-78.2637 1643.5001,-78.2636\"/>\n</g>\n<!-- 25 -->\n<g id=\"node26\" class=\"node\">\n<title>25</title>\n<path fill=\"#eda775\" stroke=\"#000000\" d=\"M1905.5,-187C1905.5,-187 1790.5,-187 1790.5,-187 1784.5,-187 1778.5,-181 1778.5,-175 1778.5,-175 1778.5,-116 1778.5,-116 1778.5,-110 1784.5,-104 1790.5,-104 1790.5,-104 1905.5,-104 1905.5,-104 1911.5,-104 1917.5,-110 1917.5,-116 1917.5,-116 1917.5,-175 1917.5,-175 1917.5,-181 1911.5,-187 1905.5,-187\"/>\n<text text-anchor=\"start\" x=\"1786.5\" y=\"-171.8\" font-family=\"Helvetica,sans-Serif\" font-size=\"14.00\" fill=\"#000000\">20&#45;24_rate ≤ 0.063</text>\n<text text-anchor=\"start\" x=\"1797\" y=\"-156.8\" font-family=\"Helvetica,sans-Serif\" font-size=\"14.00\" fill=\"#000000\">entropy = 0.784</text>\n<text text-anchor=\"start\" x=\"1804\" y=\"-141.8\" font-family=\"Helvetica,sans-Serif\" font-size=\"14.00\" fill=\"#000000\">samples = 60</text>\n<text text-anchor=\"start\" x=\"1798\" y=\"-126.8\" font-family=\"Helvetica,sans-Serif\" font-size=\"14.00\" fill=\"#000000\">value = [46, 14]</text>\n<text text-anchor=\"start\" x=\"1817.5\" y=\"-111.8\" font-family=\"Helvetica,sans-Serif\" font-size=\"14.00\" fill=\"#000000\">class = R</text>\n</g>\n<!-- 24&#45;&gt;25 -->\n<g id=\"edge25\" class=\"edge\">\n<title>24&#45;&gt;25</title>\n<path fill=\"none\" stroke=\"#000000\" d=\"M1848,-222.8796C1848,-214.6838 1848,-205.9891 1848,-197.5013\"/>\n<polygon fill=\"#000000\" stroke=\"#000000\" points=\"1851.5001,-197.298 1848,-187.2981 1844.5001,-197.2981 1851.5001,-197.298\"/>\n</g>\n<!-- 28 -->\n<g id=\"node29\" class=\"node\">\n<title>28</title>\n<path fill=\"#a7d3f3\" stroke=\"#000000\" d=\"M2095.5,-187C2095.5,-187 1980.5,-187 1980.5,-187 1974.5,-187 1968.5,-181 1968.5,-175 1968.5,-175 1968.5,-116 1968.5,-116 1968.5,-110 1974.5,-104 1980.5,-104 1980.5,-104 2095.5,-104 2095.5,-104 2101.5,-104 2107.5,-110 2107.5,-116 2107.5,-116 2107.5,-175 2107.5,-175 2107.5,-181 2101.5,-187 2095.5,-187\"/>\n<text text-anchor=\"start\" x=\"1976.5\" y=\"-171.8\" font-family=\"Helvetica,sans-Serif\" font-size=\"14.00\" fill=\"#000000\">30&#45;34_rate ≤ 0.056</text>\n<text text-anchor=\"start\" x=\"1987\" y=\"-156.8\" font-family=\"Helvetica,sans-Serif\" font-size=\"14.00\" fill=\"#000000\">entropy = 0.939</text>\n<text text-anchor=\"start\" x=\"1994\" y=\"-141.8\" font-family=\"Helvetica,sans-Serif\" font-size=\"14.00\" fill=\"#000000\">samples = 73</text>\n<text text-anchor=\"start\" x=\"1988\" y=\"-126.8\" font-family=\"Helvetica,sans-Serif\" font-size=\"14.00\" fill=\"#000000\">value = [26, 47]</text>\n<text text-anchor=\"start\" x=\"2007.5\" y=\"-111.8\" font-family=\"Helvetica,sans-Serif\" font-size=\"14.00\" fill=\"#000000\">class = D</text>\n</g>\n<!-- 24&#45;&gt;28 -->\n<g id=\"edge28\" class=\"edge\">\n<title>24&#45;&gt;28</title>\n<path fill=\"none\" stroke=\"#000000\" d=\"M1914.4528,-222.8796C1930.0733,-213.0962 1946.829,-202.6019 1962.8029,-192.5971\"/>\n<polygon fill=\"#000000\" stroke=\"#000000\" points=\"1964.9676,-195.3712 1971.5847,-187.0969 1961.2519,-189.4387 1964.9676,-195.3712\"/>\n</g>\n<!-- 26 -->\n<g id=\"node27\" class=\"node\">\n<title>26</title>\n<path fill=\"#e58139\" stroke=\"#000000\" d=\"M1812.5,-68C1812.5,-68 1729.5,-68 1729.5,-68 1723.5,-68 1717.5,-62 1717.5,-56 1717.5,-56 1717.5,-12 1717.5,-12 1717.5,-6 1723.5,0 1729.5,0 1729.5,0 1812.5,0 1812.5,0 1818.5,0 1824.5,-6 1824.5,-12 1824.5,-12 1824.5,-56 1824.5,-56 1824.5,-62 1818.5,-68 1812.5,-68\"/>\n<text text-anchor=\"start\" x=\"1728.5\" y=\"-52.8\" font-family=\"Helvetica,sans-Serif\" font-size=\"14.00\" fill=\"#000000\">entropy = 0.0</text>\n<text text-anchor=\"start\" x=\"1727\" y=\"-37.8\" font-family=\"Helvetica,sans-Serif\" font-size=\"14.00\" fill=\"#000000\">samples = 23</text>\n<text text-anchor=\"start\" x=\"1725.5\" y=\"-22.8\" font-family=\"Helvetica,sans-Serif\" font-size=\"14.00\" fill=\"#000000\">value = [23, 0]</text>\n<text text-anchor=\"start\" x=\"1740.5\" y=\"-7.8\" font-family=\"Helvetica,sans-Serif\" font-size=\"14.00\" fill=\"#000000\">class = R</text>\n</g>\n<!-- 25&#45;&gt;26 -->\n<g id=\"edge26\" class=\"edge\">\n<title>25&#45;&gt;26</title>\n<path fill=\"none\" stroke=\"#000000\" d=\"M1819.328,-103.9815C1813.1715,-95.0666 1806.6557,-85.6313 1800.4695,-76.6734\"/>\n<polygon fill=\"#000000\" stroke=\"#000000\" points=\"1803.2245,-74.5034 1794.6619,-68.2637 1797.4645,-78.4811 1803.2245,-74.5034\"/>\n</g>\n<!-- 27 -->\n<g id=\"node28\" class=\"node\">\n<title>27</title>\n<path fill=\"#f5ceb2\" stroke=\"#000000\" d=\"M1949,-68C1949,-68 1855,-68 1855,-68 1849,-68 1843,-62 1843,-56 1843,-56 1843,-12 1843,-12 1843,-6 1849,0 1855,0 1855,0 1949,0 1949,0 1955,0 1961,-6 1961,-12 1961,-12 1961,-56 1961,-56 1961,-62 1955,-68 1949,-68\"/>\n<text text-anchor=\"start\" x=\"1851\" y=\"-52.8\" font-family=\"Helvetica,sans-Serif\" font-size=\"14.00\" fill=\"#000000\">entropy = 0.957</text>\n<text text-anchor=\"start\" x=\"1858\" y=\"-37.8\" font-family=\"Helvetica,sans-Serif\" font-size=\"14.00\" fill=\"#000000\">samples = 37</text>\n<text text-anchor=\"start\" x=\"1852\" y=\"-22.8\" font-family=\"Helvetica,sans-Serif\" font-size=\"14.00\" fill=\"#000000\">value = [23, 14]</text>\n<text text-anchor=\"start\" x=\"1871.5\" y=\"-7.8\" font-family=\"Helvetica,sans-Serif\" font-size=\"14.00\" fill=\"#000000\">class = R</text>\n</g>\n<!-- 25&#45;&gt;27 -->\n<g id=\"edge27\" class=\"edge\">\n<title>25&#45;&gt;27</title>\n<path fill=\"none\" stroke=\"#000000\" d=\"M1868.1076,-103.9815C1872.2916,-95.3423 1876.7123,-86.2144 1880.9299,-77.5059\"/>\n<polygon fill=\"#000000\" stroke=\"#000000\" points=\"1884.1971,-78.7893 1885.4059,-68.2637 1877.8971,-75.7382 1884.1971,-78.7893\"/>\n</g>\n<!-- 29 -->\n<g id=\"node30\" class=\"node\">\n<title>29</title>\n<path fill=\"#f5ceb2\" stroke=\"#000000\" d=\"M2085,-68C2085,-68 1991,-68 1991,-68 1985,-68 1979,-62 1979,-56 1979,-56 1979,-12 1979,-12 1979,-6 1985,0 1991,0 1991,0 2085,0 2085,0 2091,0 2097,-6 2097,-12 2097,-12 2097,-56 2097,-56 2097,-62 2091,-68 2085,-68\"/>\n<text text-anchor=\"start\" x=\"1987\" y=\"-52.8\" font-family=\"Helvetica,sans-Serif\" font-size=\"14.00\" fill=\"#000000\">entropy = 0.958</text>\n<text text-anchor=\"start\" x=\"1994\" y=\"-37.8\" font-family=\"Helvetica,sans-Serif\" font-size=\"14.00\" fill=\"#000000\">samples = 29</text>\n<text text-anchor=\"start\" x=\"1988\" y=\"-22.8\" font-family=\"Helvetica,sans-Serif\" font-size=\"14.00\" fill=\"#000000\">value = [18, 11]</text>\n<text text-anchor=\"start\" x=\"2007.5\" y=\"-7.8\" font-family=\"Helvetica,sans-Serif\" font-size=\"14.00\" fill=\"#000000\">class = R</text>\n</g>\n<!-- 28&#45;&gt;29 -->\n<g id=\"edge29\" class=\"edge\">\n<title>28&#45;&gt;29</title>\n<path fill=\"none\" stroke=\"#000000\" d=\"M2038,-103.9815C2038,-95.618 2038,-86.7965 2038,-78.3409\"/>\n<polygon fill=\"#000000\" stroke=\"#000000\" points=\"2041.5001,-78.2636 2038,-68.2637 2034.5001,-78.2637 2041.5001,-78.2636\"/>\n</g>\n<!-- 30 -->\n<g id=\"node31\" class=\"node\">\n<title>30</title>\n<path fill=\"#65b3eb\" stroke=\"#000000\" d=\"M2221,-68C2221,-68 2127,-68 2127,-68 2121,-68 2115,-62 2115,-56 2115,-56 2115,-12 2115,-12 2115,-6 2121,0 2127,0 2127,0 2221,0 2221,0 2227,0 2233,-6 2233,-12 2233,-12 2233,-56 2233,-56 2233,-62 2227,-68 2221,-68\"/>\n<text text-anchor=\"start\" x=\"2123\" y=\"-52.8\" font-family=\"Helvetica,sans-Serif\" font-size=\"14.00\" fill=\"#000000\">entropy = 0.684</text>\n<text text-anchor=\"start\" x=\"2130\" y=\"-37.8\" font-family=\"Helvetica,sans-Serif\" font-size=\"14.00\" fill=\"#000000\">samples = 44</text>\n<text text-anchor=\"start\" x=\"2128.5\" y=\"-22.8\" font-family=\"Helvetica,sans-Serif\" font-size=\"14.00\" fill=\"#000000\">value = [8, 36]</text>\n<text text-anchor=\"start\" x=\"2143.5\" y=\"-7.8\" font-family=\"Helvetica,sans-Serif\" font-size=\"14.00\" fill=\"#000000\">class = D</text>\n</g>\n<!-- 28&#45;&gt;30 -->\n<g id=\"edge30\" class=\"edge\">\n<title>28&#45;&gt;30</title>\n<path fill=\"none\" stroke=\"#000000\" d=\"M2088.6414,-103.9815C2100.2999,-94.4232 2112.688,-84.2668 2124.3059,-74.7419\"/>\n<polygon fill=\"#000000\" stroke=\"#000000\" points=\"2126.6933,-77.3105 2132.2075,-68.2637 2122.2552,-71.8972 2126.6933,-77.3105\"/>\n</g>\n</g>\n</svg>\n"
          },
          "metadata": {
            "tags": []
          },
          "execution_count": 16
        }
      ]
    },
    {
      "cell_type": "code",
      "metadata": {
        "id": "2p0aaQkMm1pV",
        "colab_type": "code",
        "outputId": "20b3e2f0-1044-4ff6-d248-11e7fd169e4f",
        "colab": {
          "base_uri": "https://localhost:8080/",
          "height": 158
        }
      },
      "source": [
        "# Prédiction et évaluation\n",
        "\n",
        "#########################\n",
        "## METTRE VOTRE CODE ICI\n",
        "#########################\n",
        "\n",
        "preds = clf.predict(X_test)\n",
        "print('Predictions per county in state #'+ str(STATE_FIPS_CODE) + ' are ' + str(preds ) )\n",
        "print('Votes per county in state #'+ str(STATE_FIPS_CODE) + ' are ' + str(list(y_test) ) )\n",
        "\n",
        "import sklearn.metrics as perf\n",
        "\n",
        "oa = perf.accuracy_score(y_test, preds)\n",
        "bas = perf.balanced_accuracy_score(y_test, preds)\n",
        "print(oa,bas)\n",
        "cm = perf.confusion_matrix(y_test, preds)\n",
        "print(cm)"
      ],
      "execution_count": 17,
      "outputs": [
        {
          "output_type": "stream",
          "text": [
            "Predictions per county in state #17 are [0 0 0 0 0 0 0 0 0 1 0 0 0 0 0 1 0 0 0 0 0 0 0 0 0 0 0 0 0 0 0 0 0 0 0 0 0\n",
            " 0 0 0 0 0 0 0 1 0 1 0 1 0 0 0 0 0 0 1 0 0 0 0 0 0 0 0 0 0 0 0 0 0 0 1 0 0\n",
            " 0 0 0 0 0 0 0 0 0 1 0 0 0 0 0 0 0 0 0 0 0 0 0 0 1 0 0 0]\n",
            "Votes per county in state #17 are [0, 0, 0, 0, 0, 0, 0, 0, 0, 1, 0, 0, 0, 0, 0, 1, 0, 0, 1, 0, 0, 1, 0, 0, 0, 0, 0, 0, 0, 0, 0, 0, 0, 0, 0, 0, 0, 0, 1, 0, 0, 0, 0, 0, 1, 0, 0, 0, 1, 0, 0, 0, 0, 0, 0, 0, 0, 0, 0, 0, 0, 0, 0, 0, 0, 0, 0, 0, 0, 0, 0, 1, 0, 0, 0, 0, 0, 0, 0, 0, 1, 1, 0, 0, 0, 0, 0, 0, 0, 0, 0, 0, 0, 0, 0, 0, 0, 0, 1, 0, 0, 0]\n",
            "0.9215686274509803 0.7562437562437563\n",
            "[[88  3]\n",
            " [ 5  6]]\n"
          ],
          "name": "stdout"
        }
      ]
    },
    {
      "cell_type": "markdown",
      "metadata": {
        "id": "nx-UmaBEtrFN",
        "colab_type": "text"
      },
      "source": [
        "\n",
        "---\n",
        "\n",
        "# Bagging\n",
        "\n",
        "L'objectif de cette partie est de construire **à la main** une approche de bagging.\n",
        "\n",
        "Le principe de l'approche est de:\n",
        "\n",
        "* Apprendre et collecter plusieurs arbres sur des échantillonnages aléatoires des données d'apprentissage\n",
        "* Agréger les prédictions par vote \n",
        "* Evaluer: Les prédictions agrégées\n",
        "* Comparer avec les arbres individuels et le résultat précédent\n",
        "\n",
        "\n",
        "Utiliser les fonctions de construction d'ensemble d'apprentissage/test de scikit-learn https://scikit-learn.org/stable/modules/generated/sklearn.model_selection.train_test_split.html pour générer les sous-esnembles échantillonnés.\n",
        "\n",
        "**Comparer après le cours** les fonctions de scikit-learn: https://scikit-learn.org/stable/modules/ensemble.html\n",
        "\n",
        "Numpy tips: [np.arange](https://docs.scipy.org/doc/numpy-1.15.0/reference/generated/numpy.arange.html), [numpy.sum](https://docs.scipy.org/doc/numpy-1.15.0/reference/generated/numpy.sum.html), [numpy.mean](https://docs.scipy.org/doc/numpy-1.15.1/reference/generated/numpy.mean.html), [numpy.where](https://docs.scipy.org/doc/numpy-1.15.0/reference/generated/numpy.where.html)"
      ]
    },
    {
      "cell_type": "code",
      "metadata": {
        "id": "S0Haw1inuPMs",
        "colab_type": "code",
        "colab": {}
      },
      "source": [
        "from sklearn.model_selection import train_test_split\n",
        "\n",
        "# Données d'apprentissage: X_train, y_train, idx_train\n",
        "# Données de test: X_test, y_test, idx_test\n",
        "# Les étapes de conception du prédicteur (apprentissage) sont les suivantes:\n",
        "#   - Construction des sous-ensembles de données\n",
        "#   - Apprentissage d'un arbre\n",
        "#   - Agrégation de l'arbre dans la forêt\n",
        "#\n",
        "# Pour le test\n",
        "\n",
        "\n",
        "def learn_forest(XTrain, yTrain, nb_trees, depth=15):\n",
        "\n",
        "#########################\n",
        "## METTRE VOTRE CODE ICI\n",
        "#########################\n",
        "\n",
        "  forest = []\n",
        "  singleperf=[]\n",
        "\n",
        "  for ss in range(nb_trees):\n",
        "    # bagging for subset\n",
        "    X_train_sub, X_test_sub, y_train_sub, y_test_sub = train_test_split(\n",
        "        XTrain, yTrain, test_size=0.2 )\n",
        "\n",
        "    # single tree training\n",
        "    clf = tree.DecisionTreeClassifier(max_depth=depth, splitter=\"random\")\n",
        "    clf = clf.fit( X_train_sub, y_train_sub )\n",
        "    \n",
        "    # grow the forest\n",
        "    forest.append( clf )\n",
        "  \n",
        "    # single tree evaluation\n",
        "    curr_train_pred=clf.predict(X_train_sub)\n",
        "    curr_test_pred=clf.predict(X_test_sub)\n",
        "    singleperf.append([perf.balanced_accuracy_score( y_train_sub, curr_train_pred ), perf.balanced_accuracy_score( y_test_sub,curr_test_pred)])\n",
        "  \n",
        "  return forest,singleperf\n",
        "\n"
      ],
      "execution_count": 0,
      "outputs": []
    },
    {
      "cell_type": "code",
      "metadata": {
        "id": "qyT6zrLRvl-x",
        "colab_type": "code",
        "colab": {}
      },
      "source": [
        "def predict_forest(forest, XTest, yTest = None):\n",
        "  \n",
        "#########################\n",
        "## METTRE VOTRE CODE ICI\n",
        "#########################\n",
        "  singleperf=[]\n",
        "  all_preds=[]\n",
        "  nb_trees = len(forest)\n",
        "  for ss in forest:# nb_trees\n",
        "    test_pred=ss.predict(XTest)\n",
        "    all_preds.append(test_pred)\n",
        "\n",
        "    if (yTest is not None):\n",
        "      singleperf.append(perf.balanced_accuracy_score( yTest, test_pred ))\n",
        "\n",
        "  all_preds=np.array(all_preds)\n",
        "  #print(all_preds)  # A 2x2 matrix of 0/1\n",
        "\n",
        "  # Vote\n",
        "  gloup = np.sum(all_preds, axis=0)\n",
        "  final_pred = np.where(gloup > nb_trees/2, 1, 0) # why not max?\n",
        "#   print(gloup)\n",
        "#   print(final_pred)\n",
        "#   [19  4  3 10  3  7 18  0 10 10  0 11 10  1  6 10  0  1 18 13 18  0  6 14\n",
        "#   1  5 15 13  6 16 12  6 11 16  5  9 17 19 11 15 17 15 17 15  5  0  4 15\n",
        "#  13 10  9  0  0  8  1 16 17  4]\n",
        "#  [1 0 0 0 0 0 1 0 0 0 0 1 0 0 0 0 0 0 1 1 1 0 0 1 0 0 1 1 0 1 1 0 1 1 0 0 1\n",
        "#  1 1 1 1 1 1 1 0 0 0 1 1 0 0 0 0 0 0 1 1 0]\n",
        "\n",
        "  if (yTest is not None):\n",
        "    return final_pred,singleperf\n",
        "  else:\n",
        "    return final_pred\n"
      ],
      "execution_count": 0,
      "outputs": []
    },
    {
      "cell_type": "code",
      "metadata": {
        "id": "Bs8kgN1XvnGa",
        "colab_type": "code",
        "outputId": "70ff76ea-32c5-4a62-ec32-c3cf54bfada5",
        "colab": {
          "base_uri": "https://localhost:8080/",
          "height": 173
        }
      },
      "source": [
        "#########################\n",
        "## METTRE VOTRE CODE ICI\n",
        "#########################\n",
        "\n",
        "\n",
        "X_train, y_train, X_test, y_test = county_data(census_data, 6)\n",
        "\n",
        "F,singleperf = learn_forest(X_train, y_train, 20, depth=15)\n",
        "pred, singleperftest = predict_forest(F, X_test, y_test)\n",
        "acc = perf.balanced_accuracy_score( y_test, pred )\n",
        "print(\"Taux de bonne prédiction final = {:.2f}%\".format(100*acc))\n",
        "print(\"Moyenne des bonnes prédictions individuelles = {:.2f}%\".format(100*mean(singleperftest)))\n",
        "#print(singleperftest)\n",
        "#print(singleperf)"
      ],
      "execution_count": 27,
      "outputs": [
        {
          "output_type": "stream",
          "text": [
            "[[1 0 0 ... 0 1 0]\n",
            " [0 0 0 ... 0 1 0]\n",
            " [1 0 0 ... 0 1 0]\n",
            " ...\n",
            " [1 0 0 ... 1 0 0]\n",
            " [1 1 0 ... 1 1 0]\n",
            " [1 0 0 ... 1 1 0]]\n",
            "Taux de bonne prédiction final = 74.40%\n",
            "Moyenne des bonnes prédictions individuelles = 67.82%\n"
          ],
          "name": "stdout"
        }
      ]
    }
  ]
}