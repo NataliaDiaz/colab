{
  "nbformat": 4,
  "nbformat_minor": 0,
  "metadata": {
    "colab": {
      "name": "td2_tree_and_forest_correction.ipynb",
      "provenance": [],
      "collapsed_sections": [],
      "include_colab_link": true
    },
    "kernelspec": {
      "name": "python3",
      "display_name": "Python 3"
    }
  },
  "cells": [
    {
      "cell_type": "markdown",
      "metadata": {
        "id": "view-in-github",
        "colab_type": "text"
      },
      "source": [
        "<a href=\"https://colab.research.google.com/github/NataliaDiaz/colab/blob/master/MI203__td2_tree_and_forest_correction.ipynb\" target=\"_parent\"><img src=\"https://colab.research.google.com/assets/colab-badge.svg\" alt=\"Open In Colab\"/></a>"
      ]
    },
    {
      "cell_type": "markdown",
      "metadata": {
        "id": "ksmC-Zwx0_tS",
        "colab_type": "text"
      },
      "source": [
        "# TD: prédiction du vote 2016 aux Etats-Unis par arbres de décisions et méthodes ensemblistes\n",
        "\n",
        "La séance d'aujourd'hui porte sur la prévision du vote en 2016 aux États-Unis. Précisément, les données d'un recensement sont fournies avec diverses informations par comté à travers les États-Unis. L'objectif est de construire des prédicteurs de leur couleur politique (républicain ou démocrate) à partir de ces données."
      ]
    },
    {
      "cell_type": "markdown",
      "metadata": {
        "id": "kbPqcu_Lhfjp",
        "colab_type": "text"
      },
      "source": [
        "Exécuter les commandes suivantes pour charger l'environnement."
      ]
    },
    {
      "cell_type": "code",
      "metadata": {
        "id": "X-foHxal1Ops",
        "colab_type": "code",
        "colab": {}
      },
      "source": [
        "%matplotlib inline\n",
        "from pylab import *\n",
        "import numpy as np\n",
        "import os\n",
        "import random\n",
        "import matplotlib.pyplot as plt"
      ],
      "execution_count": 0,
      "outputs": []
    },
    {
      "cell_type": "markdown",
      "metadata": {
        "id": "W6D1aUcuQ9ff",
        "colab_type": "text"
      },
      "source": [
        "# Accès aux données\n",
        "\n",
        "* Elles sont disponibles: https://github.com/stepherbin/teaching/tree/master/ENSTA/TD2\n",
        "\n",
        "* Charger le fichier the combined_data.csv sur votre drive puis monter le depuis colab\n"
      ]
    },
    {
      "cell_type": "code",
      "metadata": {
        "id": "HnKt3tylQ8Qp",
        "colab_type": "code",
        "outputId": "15115053-68a2-4c98-bfcf-6c0d6bbb307e",
        "colab": {
          "base_uri": "https://localhost:8080/",
          "height": 34
        }
      },
      "source": [
        "USE_COLAB = True\n",
        "UPLOAD_OUTPUTS = False\n",
        "if USE_COLAB:\n",
        "    # mount the google drive\n",
        "    from google.colab import drive\n",
        "    drive.mount('/content/drive', force_remount=True)\n",
        "    # download data on GoogleDrive\n",
        "    data_dir = \"/content/drive/My Drive/\" #teaching/ENSTA/TD_tree/\"\n",
        "else:\n",
        "    data_dir = \"data/\" # '.' when running locally avoids error"
      ],
      "execution_count": 4,
      "outputs": [
        {
          "output_type": "stream",
          "text": [
            "Mounted at /content/drive\n"
          ],
          "name": "stdout"
        }
      ]
    },
    {
      "cell_type": "code",
      "metadata": {
        "id": "ISKHiOpYuiWR",
        "colab_type": "code",
        "colab": {}
      },
      "source": [
        "import pandas as pd\n",
        "\n",
        "census_data = pd.read_csv( os.path.join(data_dir, 'combined_data.csv') )"
      ],
      "execution_count": 0,
      "outputs": []
    },
    {
      "cell_type": "markdown",
      "metadata": {
        "id": "v3QJtATomOgi",
        "colab_type": "text"
      },
      "source": [
        "# Analyse préliminaire des données\n",
        "\n",
        "Les données sont organisées en champs:\n",
        "* fips = code du comté à 5 chiffres, le premier ou les deux premiers chiffres indiquent l'état.\n",
        "* votes = nombre de votants\n",
        "* etc..\n",
        "\n",
        "Regarder leur structure, quantité, nature.\n",
        "\n",
        "Où se trouvent les informations pour former les ensembles d'apprentissage et de test?\n",
        "\n",
        "Où se trouvent les classes à prédire?\n",
        "\n",
        "Visualiser quelques distributions.\n",
        "\n",
        "Le format de données python est décrit ici:\n",
        "https://pandas.pydata.org/pandas-docs/stable/reference/frame.html\n"
      ]
    },
    {
      "cell_type": "code",
      "metadata": {
        "id": "yAk8Da4lvlQq",
        "colab_type": "code",
        "outputId": "e1d1c25a-89ef-4a94-cd36-1c9aa3721a2c",
        "colab": {
          "base_uri": "https://localhost:8080/",
          "height": 866
        }
      },
      "source": [
        "# Exemples de moyens d'accéder aux caractéristiques des données\n",
        "print(census_data.shape )\n",
        "print(census_data.columns.values) \n",
        "print(census_data['fips'])\n",
        "print(census_data.head(3))\n",
        "\n",
        "iattr = 10\n",
        "attrname = census_data.columns[iattr]\n",
        "print(\"Mean of {} is {:.1f}\".format(attrname,np.array(census_data[attrname]).mean()))\n",
        "\n",
        "#########################\n",
        "## METTRE VOTRE CODE ICI\n",
        "#########################\n",
        "print(\"Nombre de données = {}\".format(census_data.shape[0]))\n",
        "print(\"Nombre d'attributs utiles = {}\".format(census_data.shape[1]-2))\n",
        "\n",
        "#hist....\n"
      ],
      "execution_count": 6,
      "outputs": [
        {
          "output_type": "stream",
          "text": [
            "(3145, 78)\n",
            "['fips' 'votes'\n",
            " 'Percent of adults with less than a high school diploma, 2011-2015'\n",
            " 'Percent of adults with a high school diploma only, 2011-2015'\n",
            " \"Percent of adults completing some college or associate's degree, 2011-2015\"\n",
            " \"Percent of adults with a bachelor's degree or higher, 2011-2015\"\n",
            " 'Unemployment_rate_2015' 'POP_ESTIMATE_2015' 'Amish' 'Buddhist'\n",
            " 'Catholic' 'Christian Generic' 'Eastern Orthodox' 'Hindu' 'Jewish'\n",
            " 'Mainline Christian' 'Mormon' 'Muslim' 'Non-Catholic Christian' 'Other'\n",
            " 'Other Christian' 'Other Misc' 'Pentecostal / Charismatic'\n",
            " 'Protestant Denomination' 'Zoroastrian' 'MedHHInc2014' 'PerCapitaInc'\n",
            " 'PovertyUnder18Pct2014' 'PovertyAllAgesPct2014' 'Deep_Pov_All'\n",
            " 'Deep_Pov_Children' 'Population' 'Housing units'\n",
            " 'Area in square miles - Total area' 'Area in square miles - Water area'\n",
            " 'Area in square miles - Land area'\n",
            " 'Density per square mile of land area - Population'\n",
            " 'Density per square mile of land area - Housing units' 'age_total_pop'\n",
            " '0-4_rate' '5-9_rate' '10-14_rate' '15-19_rate' '20-24_rate' '25-29_rate'\n",
            " '30-34_rate' '35-39_rate' '40-44_rate' '45-49_rate' '50-54_rate'\n",
            " '55-59_rate' '60-64_rate' '65-69_rate' '70-74_rate' '75-79_rate'\n",
            " '80-84_rate' '85+_rate' 'TOT_MALE_rate' 'TOT_FEMALE_rate'\n",
            " 'WHITE_MALE_rate' 'WHITE_FEMALE_rate' 'BLACK_MALE_rate'\n",
            " 'BLACK_FEMALE_rate' 'NATIVE_AMERICAN_MALE_rate'\n",
            " 'NATIVE_AMERICAN_FEMALE_rate' 'ASIAN_MALE_rate' 'ASIAN_FEMALE_rate'\n",
            " 'HAWAIIAN_PACIFIC_MALE_rate' 'HAWAIIAN_PACIFIC_FEMALE_rate'\n",
            " 'MULTI_MALE_rate' 'MULTI_FEMALE_rate' 'WHITE_rate' 'BLACK_rate'\n",
            " 'NATIVE_AMERICAN_rate' 'HAWAIIAN_PACIFIC_rate' 'MULTI_rate'\n",
            " 'voter_turnout_rate' 'Democrat']\n",
            "0        2013\n",
            "1        2016\n",
            "2        2020\n",
            "3        2050\n",
            "4        2060\n",
            "        ...  \n",
            "3140    56037\n",
            "3141    56039\n",
            "3142    56041\n",
            "3143    56043\n",
            "3144    56045\n",
            "Name: fips, Length: 3145, dtype: int64\n",
            "   fips  votes  ...  voter_turnout_rate  Democrat\n",
            "0  2013   7471  ...            2.236157         0\n",
            "1  2016   7471  ...            1.310242         0\n",
            "2  2020   7471  ...            0.025012         0\n",
            "\n",
            "[3 rows x 78 columns]\n",
            "Mean of Catholic is 247.9\n",
            "Nombre de données = 3145\n",
            "Nombre d'attributs utiles = 76\n"
          ],
          "name": "stdout"
        }
      ]
    },
    {
      "cell_type": "markdown",
      "metadata": {
        "id": "cFcoVcNqDL-P",
        "colab_type": "text"
      },
      "source": [
        "La classe à prédire ('Democrat') n'est décrite que par un seul attribut binaire.\n",
        "Calculer la répartition des couleurs politiques (quel est a priori la probabilité qu'un comté soit démocrate vs. républicain)"
      ]
    },
    {
      "cell_type": "code",
      "metadata": {
        "id": "vks9-75MrFQT",
        "colab_type": "code",
        "outputId": "64a89fae-7669-4ba2-97d7-460b781c2482",
        "colab": {
          "base_uri": "https://localhost:8080/",
          "height": 34
        }
      },
      "source": [
        "#########################\n",
        "## METTRE VOTRE CODE ICI\n",
        "#########################\n",
        "results = np.array( census_data['Democrat'] )\n",
        "\n",
        "proba_dem = results.mean()\n",
        "proba_rep = 1 - proba_dem\n",
        "\n",
        "print(\"La probabilité qu'un comté soit démocrate est de {:.2f}%%\".format(100*proba_dem))\n"
      ],
      "execution_count": 8,
      "outputs": [
        {
          "output_type": "stream",
          "text": [
            "La probabilité qu'un comté soit démocrate est de 15.45%%\n"
          ],
          "name": "stdout"
        }
      ]
    },
    {
      "cell_type": "markdown",
      "metadata": {
        "id": "7zrNDQFDc4uB",
        "colab_type": "text"
      },
      "source": [
        "# Préparation du chantier d'apprentissage\n",
        "\n",
        "On va préparer les ensembles d'apprentissage et de test. \n",
        "\n",
        "Pour éviter des problèmes de format de données, on choisit une liste d'attributs utiles dans la liste \"feature_cols\" ci dessous.\n",
        "\n",
        "L'ensemble de test sera constitué des comtés d'un seul état.\n",
        "\n",
        "Info: https://scikit-learn.org/stable/model_selection.html\n",
        "\n",
        "Liste des états et leurs codes FIPS code (2 digits):\n",
        "https://en.wikipedia.org/wiki/Federal_Information_Processing_Standard_state_code\n",
        "\n"
      ]
    },
    {
      "cell_type": "code",
      "metadata": {
        "id": "SOrtFFPHT_Pi",
        "colab_type": "code",
        "colab": {}
      },
      "source": [
        "## Sous ensembles d'attributs informatifs pour la suite\n",
        "\n",
        "feature_cols = ['BLACK_FEMALE_rate', \n",
        "                'BLACK_MALE_rate',\n",
        "                'Percent of adults with a bachelor\\'s degree or higher, 2011-2015',\n",
        "                'ASIAN_MALE_rate',\n",
        "                'ASIAN_FEMALE_rate',\n",
        "                '25-29_rate',\n",
        "                'age_total_pop',\n",
        "                '20-24_rate',\n",
        "                'Deep_Pov_All',\n",
        "                '30-34_rate',\n",
        "                'Density per square mile of land area - Population',\n",
        "                'Density per square mile of land area - Housing units',\n",
        "                'Unemployment_rate_2015',\n",
        "                'Deep_Pov_Children',\n",
        "                'PovertyAllAgesPct2014',\n",
        "                'TOT_FEMALE_rate',\n",
        "                'PerCapitaInc',\n",
        "                'MULTI_FEMALE_rate',\n",
        "                '35-39_rate',\n",
        "                'MULTI_MALE_rate',\n",
        "                'Percent of adults completing some college or associate\\'s degree, 2011-2015',\n",
        "                '60-64_rate',\n",
        "                '55-59_rate',\n",
        "                '65-69_rate',\n",
        "                'TOT_MALE_rate',\n",
        "                '85+_rate',\n",
        "                '70-74_rate',\n",
        "                '80-84_rate',\n",
        "                '75-79_rate',\n",
        "                'Percent of adults with a high school diploma only, 2011-2015',\n",
        "                'WHITE_FEMALE_rate',\n",
        "                'WHITE_MALE_rate',\n",
        "                'Amish',\n",
        "                'Buddhist',\n",
        "                'Catholic',\n",
        "                'Christian Generic',\n",
        "                'Eastern Orthodox',\n",
        "                'Hindu',\n",
        "                'Jewish',\n",
        "                'Mainline Christian',\n",
        "                'Mormon',\n",
        "                'Muslim',\n",
        "                'Non-Catholic Christian',\n",
        "                'Other',\n",
        "                'Other Christian',\n",
        "                'Other Misc',\n",
        "                'Pentecostal / Charismatic',\n",
        "                'Protestant Denomination',\n",
        "                'Zoroastrian']\n",
        "\n",
        "filtered_cols = ['Percent of adults with a bachelor\\'s degree or higher, 2011-2015',\n",
        "                'Percent of adults completing some college or associate\\'s degree, 2011-2015',\n",
        "                'Percent of adults with a high school diploma only, 2011-2015',\n",
        "                'Density per square mile of land area - Population',\n",
        "                'Density per square mile of land area - Housing units',\n",
        "                'WHITE_FEMALE_rate',\n",
        "                'WHITE_MALE_rate',\n",
        "                'BLACK_FEMALE_rate',\n",
        "                'BLACK_MALE_rate',\n",
        "                'ASIAN_FEMALE_rate',\n",
        "                'Catholic',\n",
        "                'Christian Generic',\n",
        "                'Jewish',\n",
        "                '70-74_rate',\n",
        "                'D',\n",
        "                'R']"
      ],
      "execution_count": 0,
      "outputs": []
    },
    {
      "cell_type": "code",
      "metadata": {
        "id": "C1UqAsUQg1_a",
        "colab_type": "code",
        "outputId": "ce0d2e9e-6209-4283-df48-34654a67d736",
        "colab": {
          "base_uri": "https://localhost:8080/",
          "height": 190
        }
      },
      "source": [
        "## 1-state test split\n",
        "\n",
        "def county_data(census_data, fips_code=17):\n",
        "  #fips_code 48=Texas, 34=New Jersey, 31=Nebraska, 17=Illinois, 06=California, 36=New York\n",
        "  mask = census_data['fips'].between(fips_code*1000, fips_code*1000 + 999)\n",
        "  census_data_train = census_data[~mask]\n",
        "  census_data_test = census_data[mask]\n",
        "\n",
        "\n",
        "  XTrain = census_data_train[feature_cols]\n",
        "  yTrain = census_data_train['Democrat']\n",
        "  XTest = census_data_test[feature_cols]\n",
        "  yTest = census_data_test['Democrat']\n",
        "\n",
        "  return XTrain, yTrain, XTest, yTest\n",
        "\n",
        "STATE_FIPS_CODE = 17\n",
        "X_train, y_train, X_test, y_test = county_data(census_data, STATE_FIPS_CODE)\n",
        "\n",
        "print(X_train.head(2))\n",
        "print(y_test.head(2))\n",
        "print(X_train.shape) #(3043, 49)\n",
        "print(X_test.shape) #(102, 49)"
      ],
      "execution_count": 14,
      "outputs": [
        {
          "output_type": "stream",
          "text": [
            "   BLACK_FEMALE_rate  BLACK_MALE_rate  ...  Protestant Denomination  Zoroastrian\n",
            "0           0.067586         0.062079  ...                        0            0\n",
            "1           0.067586         0.062079  ...                        0            0\n",
            "\n",
            "[2 rows x 49 columns]\n",
            "598    0\n",
            "599    0\n",
            "Name: Democrat, dtype: int64\n",
            "(3043, 49)\n",
            "(102, 49)\n"
          ],
          "name": "stdout"
        }
      ]
    },
    {
      "cell_type": "markdown",
      "metadata": {
        "id": "TaLx1whAl2oS",
        "colab_type": "text"
      },
      "source": [
        "\n",
        "# Apprentissage d'un arbre de décision\n",
        "\n",
        "On utilisera la bibliothèque scikit learn \n",
        "\n",
        "* Construire l'arbre sur les données d'entrainement\n",
        "* Prédire le vote sur les comtés de test\n",
        "* Calculer l'erreur et la matrice de confusion\n",
        "\n",
        "Faire varier certains paramètres (profondeur max, pureté, critère...) et visualisez leur influence.\n",
        "\n",
        "\n",
        "Info: https://scikit-learn.org/stable/modules/tree.html\n",
        "\n",
        "Info: https://scikit-learn.org/stable/modules/model_evaluation.html\n"
      ]
    },
    {
      "cell_type": "code",
      "metadata": {
        "id": "iY-WE9EQenH8",
        "colab_type": "code",
        "colab": {}
      },
      "source": [
        "\n",
        "from sklearn import tree\n",
        "\n",
        "#########################\n",
        "## METTRE VOTRE CODE ICI\n",
        "#########################\n",
        "\n",
        "clf = tree.DecisionTreeClassifier(criterion=\"entropy\",max_depth=4,min_samples_split=10)\n",
        "clf = clf.fit( X_train, y_train )"
      ],
      "execution_count": 0,
      "outputs": []
    },
    {
      "cell_type": "markdown",
      "metadata": {
        "id": "UqWBzMtwc2K8",
        "colab_type": "text"
      },
      "source": [
        "Les instructions suivantes permettent de visualiser l'arbre.\n",
        "Interpréter le contenu de la représentation."
      ]
    },
    {
      "cell_type": "code",
      "metadata": {
        "id": "aaqZalJ6mOya",
        "colab_type": "code",
        "outputId": "fd46fc72-8074-4bc5-fcd9-00893f58b223",
        "colab": {
          "base_uri": "https://localhost:8080/",
          "height": 777
        }
      },
      "source": [
        "import graphviz\n",
        "\n",
        "dot_data = tree.export_graphviz(clf, out_file=None) \n",
        "graph = graphviz.Source(dot_data) \n",
        "\n",
        "dot_data = tree.export_graphviz(clf, out_file=None, \n",
        "                     feature_names=X_train.columns.values,  \n",
        "                     class_names=[\"R\",\"D\"],  \n",
        "                     filled=True, rounded=True,  \n",
        "                     special_characters=True)  \n",
        "graph = graphviz.Source(dot_data)  \n",
        "graph"
      ],
      "execution_count": 33,
      "outputs": [
        {
          "output_type": "execute_result",
          "data": {
            "text/plain": [
              "<graphviz.files.Source at 0x7fc169f10eb8>"
            ],
            "image/svg+xml": "<?xml version=\"1.0\" encoding=\"UTF-8\" standalone=\"no\"?>\n<!DOCTYPE svg PUBLIC \"-//W3C//DTD SVG 1.1//EN\"\n \"http://www.w3.org/Graphics/SVG/1.1/DTD/svg11.dtd\">\n<!-- Generated by graphviz version 2.40.1 (20161225.0304)\n -->\n<!-- Title: Tree Pages: 1 -->\n<svg width=\"1874pt\" height=\"552pt\"\n viewBox=\"0.00 0.00 1873.50 552.00\" xmlns=\"http://www.w3.org/2000/svg\" xmlns:xlink=\"http://www.w3.org/1999/xlink\">\n<g id=\"graph0\" class=\"graph\" transform=\"scale(1 1) rotate(0) translate(4 548)\">\n<title>Tree</title>\n<polygon fill=\"#ffffff\" stroke=\"transparent\" points=\"-4,4 -4,-548 1869.5,-548 1869.5,4 -4,4\"/>\n<!-- 0 -->\n<g id=\"node1\" class=\"node\">\n<title>0</title>\n<path fill=\"#e9975b\" stroke=\"#000000\" d=\"M738.5,-544C738.5,-544 574.5,-544 574.5,-544 568.5,-544 562.5,-538 562.5,-532 562.5,-532 562.5,-473 562.5,-473 562.5,-467 568.5,-461 574.5,-461 574.5,-461 738.5,-461 738.5,-461 744.5,-461 750.5,-467 750.5,-473 750.5,-473 750.5,-532 750.5,-532 750.5,-538 744.5,-544 738.5,-544\"/>\n<text text-anchor=\"start\" x=\"570.5\" y=\"-528.8\" font-family=\"Helvetica,sans-Serif\" font-size=\"14.00\" fill=\"#000000\">WHITE_MALE_rate ≤ 0.25</text>\n<text text-anchor=\"start\" x=\"605.5\" y=\"-513.8\" font-family=\"Helvetica,sans-Serif\" font-size=\"14.00\" fill=\"#000000\">entropy = 0.602</text>\n<text text-anchor=\"start\" x=\"604.5\" y=\"-498.8\" font-family=\"Helvetica,sans-Serif\" font-size=\"14.00\" fill=\"#000000\">samples = 3087</text>\n<text text-anchor=\"start\" x=\"594.5\" y=\"-483.8\" font-family=\"Helvetica,sans-Serif\" font-size=\"14.00\" fill=\"#000000\">value = [2633, 454]</text>\n<text text-anchor=\"start\" x=\"626\" y=\"-468.8\" font-family=\"Helvetica,sans-Serif\" font-size=\"14.00\" fill=\"#000000\">class = R</text>\n</g>\n<!-- 1 -->\n<g id=\"node2\" class=\"node\">\n<title>1</title>\n<path fill=\"#52aae8\" stroke=\"#000000\" d=\"M522.5,-425C522.5,-425 330.5,-425 330.5,-425 324.5,-425 318.5,-419 318.5,-413 318.5,-413 318.5,-354 318.5,-354 318.5,-348 324.5,-342 330.5,-342 330.5,-342 522.5,-342 522.5,-342 528.5,-342 534.5,-348 534.5,-354 534.5,-354 534.5,-413 534.5,-413 534.5,-419 528.5,-425 522.5,-425\"/>\n<text text-anchor=\"start\" x=\"326.5\" y=\"-409.8\" font-family=\"Helvetica,sans-Serif\" font-size=\"14.00\" fill=\"#000000\">BLACK_FEMALE_rate ≤ 0.003</text>\n<text text-anchor=\"start\" x=\"379.5\" y=\"-394.8\" font-family=\"Helvetica,sans-Serif\" font-size=\"14.00\" fill=\"#000000\">entropy = 0.51</text>\n<text text-anchor=\"start\" x=\"378.5\" y=\"-379.8\" font-family=\"Helvetica,sans-Serif\" font-size=\"14.00\" fill=\"#000000\">samples = 150</text>\n<text text-anchor=\"start\" x=\"372.5\" y=\"-364.8\" font-family=\"Helvetica,sans-Serif\" font-size=\"14.00\" fill=\"#000000\">value = [17, 133]</text>\n<text text-anchor=\"start\" x=\"396\" y=\"-349.8\" font-family=\"Helvetica,sans-Serif\" font-size=\"14.00\" fill=\"#000000\">class = D</text>\n</g>\n<!-- 0&#45;&gt;1 -->\n<g id=\"edge1\" class=\"edge\">\n<title>0&#45;&gt;1</title>\n<path fill=\"none\" stroke=\"#000000\" d=\"M576.0572,-460.8796C556.6229,-450.8244 535.737,-440.0183 515.9189,-429.7645\"/>\n<polygon fill=\"#000000\" stroke=\"#000000\" points=\"517.3874,-426.5837 506.8974,-425.0969 514.1707,-432.8008 517.3874,-426.5837\"/>\n<text text-anchor=\"middle\" x=\"514.4747\" y=\"-445.221\" font-family=\"Helvetica,sans-Serif\" font-size=\"14.00\" fill=\"#000000\">True</text>\n</g>\n<!-- 12 -->\n<g id=\"node13\" class=\"node\">\n<title>12</title>\n<path fill=\"#e89051\" stroke=\"#000000\" d=\"M1156.5,-425C1156.5,-425 704.5,-425 704.5,-425 698.5,-425 692.5,-419 692.5,-413 692.5,-413 692.5,-354 692.5,-354 692.5,-348 698.5,-342 704.5,-342 704.5,-342 1156.5,-342 1156.5,-342 1162.5,-342 1168.5,-348 1168.5,-354 1168.5,-354 1168.5,-413 1168.5,-413 1168.5,-419 1162.5,-425 1156.5,-425\"/>\n<text text-anchor=\"start\" x=\"700.5\" y=\"-409.8\" font-family=\"Helvetica,sans-Serif\" font-size=\"14.00\" fill=\"#000000\">Percent of adults with a bachelor&#39;s degree or higher, 2011&#45;2015 ≤ 28.25</text>\n<text text-anchor=\"start\" x=\"879.5\" y=\"-394.8\" font-family=\"Helvetica,sans-Serif\" font-size=\"14.00\" fill=\"#000000\">entropy = 0.498</text>\n<text text-anchor=\"start\" x=\"878.5\" y=\"-379.8\" font-family=\"Helvetica,sans-Serif\" font-size=\"14.00\" fill=\"#000000\">samples = 2937</text>\n<text text-anchor=\"start\" x=\"868.5\" y=\"-364.8\" font-family=\"Helvetica,sans-Serif\" font-size=\"14.00\" fill=\"#000000\">value = [2616, 321]</text>\n<text text-anchor=\"start\" x=\"900\" y=\"-349.8\" font-family=\"Helvetica,sans-Serif\" font-size=\"14.00\" fill=\"#000000\">class = R</text>\n</g>\n<!-- 0&#45;&gt;12 -->\n<g id=\"edge12\" class=\"edge\">\n<title>0&#45;&gt;12</title>\n<path fill=\"none\" stroke=\"#000000\" d=\"M750.7953,-461.547C774.8167,-451.1143 800.7844,-439.8363 825.3121,-429.1838\"/>\n<polygon fill=\"#000000\" stroke=\"#000000\" points=\"826.857,-432.3287 834.635,-425.1348 824.0684,-425.9081 826.857,-432.3287\"/>\n<text text-anchor=\"middle\" x=\"825.4626\" y=\"-444.6913\" font-family=\"Helvetica,sans-Serif\" font-size=\"14.00\" fill=\"#000000\">False</text>\n</g>\n<!-- 2 -->\n<g id=\"node3\" class=\"node\">\n<title>2</title>\n<path fill=\"#f8ddc9\" stroke=\"#000000\" d=\"M242,-306C242,-306 127,-306 127,-306 121,-306 115,-300 115,-294 115,-294 115,-235 115,-235 115,-229 121,-223 127,-223 127,-223 242,-223 242,-223 248,-223 254,-229 254,-235 254,-235 254,-294 254,-294 254,-300 248,-306 242,-306\"/>\n<text text-anchor=\"start\" x=\"123\" y=\"-290.8\" font-family=\"Helvetica,sans-Serif\" font-size=\"14.00\" fill=\"#000000\">25&#45;29_rate ≤ 0.062</text>\n<text text-anchor=\"start\" x=\"133.5\" y=\"-275.8\" font-family=\"Helvetica,sans-Serif\" font-size=\"14.00\" fill=\"#000000\">entropy = 0.982</text>\n<text text-anchor=\"start\" x=\"140.5\" y=\"-260.8\" font-family=\"Helvetica,sans-Serif\" font-size=\"14.00\" fill=\"#000000\">samples = 19</text>\n<text text-anchor=\"start\" x=\"139\" y=\"-245.8\" font-family=\"Helvetica,sans-Serif\" font-size=\"14.00\" fill=\"#000000\">value = [11, 8]</text>\n<text text-anchor=\"start\" x=\"154\" y=\"-230.8\" font-family=\"Helvetica,sans-Serif\" font-size=\"14.00\" fill=\"#000000\">class = R</text>\n</g>\n<!-- 1&#45;&gt;2 -->\n<g id=\"edge2\" class=\"edge\">\n<title>1&#45;&gt;2</title>\n<path fill=\"none\" stroke=\"#000000\" d=\"M341.8601,-341.8796C316.3677,-329.344 288.5016,-315.6413 263.3976,-303.2968\"/>\n<polygon fill=\"#000000\" stroke=\"#000000\" points=\"264.8015,-300.0869 254.2833,-298.8149 261.7126,-306.3685 264.8015,-300.0869\"/>\n</g>\n<!-- 5 -->\n<g id=\"node6\" class=\"node\">\n<title>5</title>\n<path fill=\"#43a2e6\" stroke=\"#000000\" d=\"M521,-306C521,-306 332,-306 332,-306 326,-306 320,-300 320,-294 320,-294 320,-235 320,-235 320,-229 326,-223 332,-223 332,-223 521,-223 521,-223 527,-223 533,-229 533,-235 533,-235 533,-294 533,-294 533,-300 527,-306 521,-306\"/>\n<text text-anchor=\"start\" x=\"328\" y=\"-290.8\" font-family=\"Helvetica,sans-Serif\" font-size=\"14.00\" fill=\"#000000\">Non&#45;Catholic Christian ≤ 336.5</text>\n<text text-anchor=\"start\" x=\"375.5\" y=\"-275.8\" font-family=\"Helvetica,sans-Serif\" font-size=\"14.00\" fill=\"#000000\">entropy = 0.268</text>\n<text text-anchor=\"start\" x=\"378.5\" y=\"-260.8\" font-family=\"Helvetica,sans-Serif\" font-size=\"14.00\" fill=\"#000000\">samples = 131</text>\n<text text-anchor=\"start\" x=\"376.5\" y=\"-245.8\" font-family=\"Helvetica,sans-Serif\" font-size=\"14.00\" fill=\"#000000\">value = [6, 125]</text>\n<text text-anchor=\"start\" x=\"396\" y=\"-230.8\" font-family=\"Helvetica,sans-Serif\" font-size=\"14.00\" fill=\"#000000\">class = D</text>\n</g>\n<!-- 1&#45;&gt;5 -->\n<g id=\"edge5\" class=\"edge\">\n<title>1&#45;&gt;5</title>\n<path fill=\"none\" stroke=\"#000000\" d=\"M426.5,-341.8796C426.5,-333.6838 426.5,-324.9891 426.5,-316.5013\"/>\n<polygon fill=\"#000000\" stroke=\"#000000\" points=\"430.0001,-316.298 426.5,-306.2981 423.0001,-316.2981 430.0001,-316.298\"/>\n</g>\n<!-- 3 -->\n<g id=\"node4\" class=\"node\">\n<title>3</title>\n<path fill=\"#e58139\" stroke=\"#000000\" d=\"M95,-179.5C95,-179.5 12,-179.5 12,-179.5 6,-179.5 0,-173.5 0,-167.5 0,-167.5 0,-123.5 0,-123.5 0,-117.5 6,-111.5 12,-111.5 12,-111.5 95,-111.5 95,-111.5 101,-111.5 107,-117.5 107,-123.5 107,-123.5 107,-167.5 107,-167.5 107,-173.5 101,-179.5 95,-179.5\"/>\n<text text-anchor=\"start\" x=\"11\" y=\"-164.3\" font-family=\"Helvetica,sans-Serif\" font-size=\"14.00\" fill=\"#000000\">entropy = 0.0</text>\n<text text-anchor=\"start\" x=\"9.5\" y=\"-149.3\" font-family=\"Helvetica,sans-Serif\" font-size=\"14.00\" fill=\"#000000\">samples = 10</text>\n<text text-anchor=\"start\" x=\"8\" y=\"-134.3\" font-family=\"Helvetica,sans-Serif\" font-size=\"14.00\" fill=\"#000000\">value = [10, 0]</text>\n<text text-anchor=\"start\" x=\"23\" y=\"-119.3\" font-family=\"Helvetica,sans-Serif\" font-size=\"14.00\" fill=\"#000000\">class = R</text>\n</g>\n<!-- 2&#45;&gt;3 -->\n<g id=\"edge3\" class=\"edge\">\n<title>2&#45;&gt;3</title>\n<path fill=\"none\" stroke=\"#000000\" d=\"M138.6826,-222.8796C125.7303,-211.1138 111.646,-198.3197 98.7286,-186.5855\"/>\n<polygon fill=\"#000000\" stroke=\"#000000\" points=\"101.0306,-183.9482 91.2753,-179.8149 96.3239,-189.1296 101.0306,-183.9482\"/>\n</g>\n<!-- 4 -->\n<g id=\"node5\" class=\"node\">\n<title>4</title>\n<path fill=\"#52a9e8\" stroke=\"#000000\" d=\"M231.5,-179.5C231.5,-179.5 137.5,-179.5 137.5,-179.5 131.5,-179.5 125.5,-173.5 125.5,-167.5 125.5,-167.5 125.5,-123.5 125.5,-123.5 125.5,-117.5 131.5,-111.5 137.5,-111.5 137.5,-111.5 231.5,-111.5 231.5,-111.5 237.5,-111.5 243.5,-117.5 243.5,-123.5 243.5,-123.5 243.5,-167.5 243.5,-167.5 243.5,-173.5 237.5,-179.5 231.5,-179.5\"/>\n<text text-anchor=\"start\" x=\"133.5\" y=\"-164.3\" font-family=\"Helvetica,sans-Serif\" font-size=\"14.00\" fill=\"#000000\">entropy = 0.503</text>\n<text text-anchor=\"start\" x=\"145\" y=\"-149.3\" font-family=\"Helvetica,sans-Serif\" font-size=\"14.00\" fill=\"#000000\">samples = 9</text>\n<text text-anchor=\"start\" x=\"143\" y=\"-134.3\" font-family=\"Helvetica,sans-Serif\" font-size=\"14.00\" fill=\"#000000\">value = [1, 8]</text>\n<text text-anchor=\"start\" x=\"154\" y=\"-119.3\" font-family=\"Helvetica,sans-Serif\" font-size=\"14.00\" fill=\"#000000\">class = D</text>\n</g>\n<!-- 2&#45;&gt;4 -->\n<g id=\"edge4\" class=\"edge\">\n<title>2&#45;&gt;4</title>\n<path fill=\"none\" stroke=\"#000000\" d=\"M184.5,-222.8796C184.5,-212.2134 184.5,-200.7021 184.5,-189.9015\"/>\n<polygon fill=\"#000000\" stroke=\"#000000\" points=\"188.0001,-189.8149 184.5,-179.8149 181.0001,-189.815 188.0001,-189.8149\"/>\n</g>\n<!-- 6 -->\n<g id=\"node7\" class=\"node\">\n<title>6</title>\n<path fill=\"#3b9ee5\" stroke=\"#000000\" d=\"M447,-187C447,-187 274,-187 274,-187 268,-187 262,-181 262,-175 262,-175 262,-116 262,-116 262,-110 268,-104 274,-104 274,-104 447,-104 447,-104 453,-104 459,-110 459,-116 459,-116 459,-175 459,-175 459,-181 453,-187 447,-187\"/>\n<text text-anchor=\"start\" x=\"270\" y=\"-171.8\" font-family=\"Helvetica,sans-Serif\" font-size=\"14.00\" fill=\"#000000\">BLACK_MALE_rate ≤ 0.135</text>\n<text text-anchor=\"start\" x=\"309.5\" y=\"-156.8\" font-family=\"Helvetica,sans-Serif\" font-size=\"14.00\" fill=\"#000000\">entropy = 0.076</text>\n<text text-anchor=\"start\" x=\"312.5\" y=\"-141.8\" font-family=\"Helvetica,sans-Serif\" font-size=\"14.00\" fill=\"#000000\">samples = 108</text>\n<text text-anchor=\"start\" x=\"310.5\" y=\"-126.8\" font-family=\"Helvetica,sans-Serif\" font-size=\"14.00\" fill=\"#000000\">value = [1, 107]</text>\n<text text-anchor=\"start\" x=\"330\" y=\"-111.8\" font-family=\"Helvetica,sans-Serif\" font-size=\"14.00\" fill=\"#000000\">class = D</text>\n</g>\n<!-- 5&#45;&gt;6 -->\n<g id=\"edge6\" class=\"edge\">\n<title>5&#45;&gt;6</title>\n<path fill=\"none\" stroke=\"#000000\" d=\"M403.4164,-222.8796C398.6211,-214.2335 393.5178,-205.0322 388.5662,-196.1042\"/>\n<polygon fill=\"#000000\" stroke=\"#000000\" points=\"391.5931,-194.3455 383.6821,-187.2981 385.4716,-197.7407 391.5931,-194.3455\"/>\n</g>\n<!-- 9 -->\n<g id=\"node10\" class=\"node\">\n<title>9</title>\n<path fill=\"#70b8ec\" stroke=\"#000000\" d=\"M680,-187C680,-187 489,-187 489,-187 483,-187 477,-181 477,-175 477,-175 477,-116 477,-116 477,-110 483,-104 489,-104 489,-104 680,-104 680,-104 686,-104 692,-110 692,-116 692,-116 692,-175 692,-175 692,-181 686,-187 680,-187\"/>\n<text text-anchor=\"start\" x=\"485\" y=\"-171.8\" font-family=\"Helvetica,sans-Serif\" font-size=\"14.00\" fill=\"#000000\">WHITE_FEMALE_rate ≤ 0.226</text>\n<text text-anchor=\"start\" x=\"533.5\" y=\"-156.8\" font-family=\"Helvetica,sans-Serif\" font-size=\"14.00\" fill=\"#000000\">entropy = 0.755</text>\n<text text-anchor=\"start\" x=\"540.5\" y=\"-141.8\" font-family=\"Helvetica,sans-Serif\" font-size=\"14.00\" fill=\"#000000\">samples = 23</text>\n<text text-anchor=\"start\" x=\"539\" y=\"-126.8\" font-family=\"Helvetica,sans-Serif\" font-size=\"14.00\" fill=\"#000000\">value = [5, 18]</text>\n<text text-anchor=\"start\" x=\"554\" y=\"-111.8\" font-family=\"Helvetica,sans-Serif\" font-size=\"14.00\" fill=\"#000000\">class = D</text>\n</g>\n<!-- 5&#45;&gt;9 -->\n<g id=\"edge9\" class=\"edge\">\n<title>5&#45;&gt;9</title>\n<path fill=\"none\" stroke=\"#000000\" d=\"M481.7607,-222.8796C494.5099,-213.2774 508.1683,-202.9903 521.2291,-193.1534\"/>\n<polygon fill=\"#000000\" stroke=\"#000000\" points=\"523.3883,-195.9089 529.2705,-187.0969 519.1769,-190.3174 523.3883,-195.9089\"/>\n</g>\n<!-- 7 -->\n<g id=\"node8\" class=\"node\">\n<title>7</title>\n<path fill=\"#52a9e8\" stroke=\"#000000\" d=\"M276.5,-68C276.5,-68 182.5,-68 182.5,-68 176.5,-68 170.5,-62 170.5,-56 170.5,-56 170.5,-12 170.5,-12 170.5,-6 176.5,0 182.5,0 182.5,0 276.5,0 276.5,0 282.5,0 288.5,-6 288.5,-12 288.5,-12 288.5,-56 288.5,-56 288.5,-62 282.5,-68 276.5,-68\"/>\n<text text-anchor=\"start\" x=\"178.5\" y=\"-52.8\" font-family=\"Helvetica,sans-Serif\" font-size=\"14.00\" fill=\"#000000\">entropy = 0.503</text>\n<text text-anchor=\"start\" x=\"190\" y=\"-37.8\" font-family=\"Helvetica,sans-Serif\" font-size=\"14.00\" fill=\"#000000\">samples = 9</text>\n<text text-anchor=\"start\" x=\"188\" y=\"-22.8\" font-family=\"Helvetica,sans-Serif\" font-size=\"14.00\" fill=\"#000000\">value = [1, 8]</text>\n<text text-anchor=\"start\" x=\"199\" y=\"-7.8\" font-family=\"Helvetica,sans-Serif\" font-size=\"14.00\" fill=\"#000000\">class = D</text>\n</g>\n<!-- 6&#45;&gt;7 -->\n<g id=\"edge7\" class=\"edge\">\n<title>6&#45;&gt;7</title>\n<path fill=\"none\" stroke=\"#000000\" d=\"M311.7204,-103.9815C300.5985,-94.5151 288.7872,-84.462 277.6901,-75.0168\"/>\n<polygon fill=\"#000000\" stroke=\"#000000\" points=\"279.6396,-72.08 269.756,-68.2637 275.1025,-77.4105 279.6396,-72.08\"/>\n</g>\n<!-- 8 -->\n<g id=\"node9\" class=\"node\">\n<title>8</title>\n<path fill=\"#399de5\" stroke=\"#000000\" d=\"M402,-68C402,-68 319,-68 319,-68 313,-68 307,-62 307,-56 307,-56 307,-12 307,-12 307,-6 313,0 319,0 319,0 402,0 402,0 408,0 414,-6 414,-12 414,-12 414,-56 414,-56 414,-62 408,-68 402,-68\"/>\n<text text-anchor=\"start\" x=\"318\" y=\"-52.8\" font-family=\"Helvetica,sans-Serif\" font-size=\"14.00\" fill=\"#000000\">entropy = 0.0</text>\n<text text-anchor=\"start\" x=\"316.5\" y=\"-37.8\" font-family=\"Helvetica,sans-Serif\" font-size=\"14.00\" fill=\"#000000\">samples = 99</text>\n<text text-anchor=\"start\" x=\"315\" y=\"-22.8\" font-family=\"Helvetica,sans-Serif\" font-size=\"14.00\" fill=\"#000000\">value = [0, 99]</text>\n<text text-anchor=\"start\" x=\"330\" y=\"-7.8\" font-family=\"Helvetica,sans-Serif\" font-size=\"14.00\" fill=\"#000000\">class = D</text>\n</g>\n<!-- 6&#45;&gt;8 -->\n<g id=\"edge8\" class=\"edge\">\n<title>6&#45;&gt;8</title>\n<path fill=\"none\" stroke=\"#000000\" d=\"M360.5,-103.9815C360.5,-95.618 360.5,-86.7965 360.5,-78.3409\"/>\n<polygon fill=\"#000000\" stroke=\"#000000\" points=\"364.0001,-78.2636 360.5,-68.2637 357.0001,-78.2637 364.0001,-78.2636\"/>\n</g>\n<!-- 10 -->\n<g id=\"node11\" class=\"node\">\n<title>10</title>\n<path fill=\"#399de5\" stroke=\"#000000\" d=\"M527,-68C527,-68 444,-68 444,-68 438,-68 432,-62 432,-56 432,-56 432,-12 432,-12 432,-6 438,0 444,0 444,0 527,0 527,0 533,0 539,-6 539,-12 539,-12 539,-56 539,-56 539,-62 533,-68 527,-68\"/>\n<text text-anchor=\"start\" x=\"443\" y=\"-52.8\" font-family=\"Helvetica,sans-Serif\" font-size=\"14.00\" fill=\"#000000\">entropy = 0.0</text>\n<text text-anchor=\"start\" x=\"441.5\" y=\"-37.8\" font-family=\"Helvetica,sans-Serif\" font-size=\"14.00\" fill=\"#000000\">samples = 14</text>\n<text text-anchor=\"start\" x=\"440\" y=\"-22.8\" font-family=\"Helvetica,sans-Serif\" font-size=\"14.00\" fill=\"#000000\">value = [0, 14]</text>\n<text text-anchor=\"start\" x=\"455\" y=\"-7.8\" font-family=\"Helvetica,sans-Serif\" font-size=\"14.00\" fill=\"#000000\">class = D</text>\n</g>\n<!-- 9&#45;&gt;10 -->\n<g id=\"edge10\" class=\"edge\">\n<title>9&#45;&gt;10</title>\n<path fill=\"none\" stroke=\"#000000\" d=\"M547.6361,-103.9815C539.4757,-94.7908 530.8244,-85.0472 522.6526,-75.8436\"/>\n<polygon fill=\"#000000\" stroke=\"#000000\" points=\"525.1792,-73.4177 515.9225,-68.2637 519.9447,-78.0653 525.1792,-73.4177\"/>\n</g>\n<!-- 11 -->\n<g id=\"node12\" class=\"node\">\n<title>11</title>\n<path fill=\"#fae6d7\" stroke=\"#000000\" d=\"M663.5,-68C663.5,-68 569.5,-68 569.5,-68 563.5,-68 557.5,-62 557.5,-56 557.5,-56 557.5,-12 557.5,-12 557.5,-6 563.5,0 569.5,0 569.5,0 663.5,0 663.5,0 669.5,0 675.5,-6 675.5,-12 675.5,-12 675.5,-56 675.5,-56 675.5,-62 669.5,-68 663.5,-68\"/>\n<text text-anchor=\"start\" x=\"565.5\" y=\"-52.8\" font-family=\"Helvetica,sans-Serif\" font-size=\"14.00\" fill=\"#000000\">entropy = 0.991</text>\n<text text-anchor=\"start\" x=\"577\" y=\"-37.8\" font-family=\"Helvetica,sans-Serif\" font-size=\"14.00\" fill=\"#000000\">samples = 9</text>\n<text text-anchor=\"start\" x=\"575\" y=\"-22.8\" font-family=\"Helvetica,sans-Serif\" font-size=\"14.00\" fill=\"#000000\">value = [5, 4]</text>\n<text text-anchor=\"start\" x=\"586\" y=\"-7.8\" font-family=\"Helvetica,sans-Serif\" font-size=\"14.00\" fill=\"#000000\">class = R</text>\n</g>\n<!-- 9&#45;&gt;11 -->\n<g id=\"edge11\" class=\"edge\">\n<title>9&#45;&gt;11</title>\n<path fill=\"none\" stroke=\"#000000\" d=\"M596.4156,-103.9815C598.8423,-95.5261 601.4033,-86.6026 603.8543,-78.0623\"/>\n<polygon fill=\"#000000\" stroke=\"#000000\" points=\"607.272,-78.8412 606.6665,-68.2637 600.5436,-76.9101 607.272,-78.8412\"/>\n</g>\n<!-- 13 -->\n<g id=\"node14\" class=\"node\">\n<title>13</title>\n<path fill=\"#e68742\" stroke=\"#000000\" d=\"M1008.5,-306C1008.5,-306 852.5,-306 852.5,-306 846.5,-306 840.5,-300 840.5,-294 840.5,-294 840.5,-235 840.5,-235 840.5,-229 846.5,-223 852.5,-223 852.5,-223 1008.5,-223 1008.5,-223 1014.5,-223 1020.5,-229 1020.5,-235 1020.5,-235 1020.5,-294 1020.5,-294 1020.5,-300 1014.5,-306 1008.5,-306\"/>\n<text text-anchor=\"start\" x=\"848.5\" y=\"-290.8\" font-family=\"Helvetica,sans-Serif\" font-size=\"14.00\" fill=\"#000000\">Christian Generic ≤ 142.5</text>\n<text text-anchor=\"start\" x=\"879.5\" y=\"-275.8\" font-family=\"Helvetica,sans-Serif\" font-size=\"14.00\" fill=\"#000000\">entropy = 0.251</text>\n<text text-anchor=\"start\" x=\"878.5\" y=\"-260.8\" font-family=\"Helvetica,sans-Serif\" font-size=\"14.00\" fill=\"#000000\">samples = 2451</text>\n<text text-anchor=\"start\" x=\"868.5\" y=\"-245.8\" font-family=\"Helvetica,sans-Serif\" font-size=\"14.00\" fill=\"#000000\">value = [2348, 103]</text>\n<text text-anchor=\"start\" x=\"900\" y=\"-230.8\" font-family=\"Helvetica,sans-Serif\" font-size=\"14.00\" fill=\"#000000\">class = R</text>\n</g>\n<!-- 12&#45;&gt;13 -->\n<g id=\"edge13\" class=\"edge\">\n<title>12&#45;&gt;13</title>\n<path fill=\"none\" stroke=\"#000000\" d=\"M930.5,-341.8796C930.5,-333.6838 930.5,-324.9891 930.5,-316.5013\"/>\n<polygon fill=\"#000000\" stroke=\"#000000\" points=\"934.0001,-316.298 930.5,-306.2981 927.0001,-316.2981 934.0001,-316.298\"/>\n</g>\n<!-- 20 -->\n<g id=\"node21\" class=\"node\">\n<title>20</title>\n<path fill=\"#fae7da\" stroke=\"#000000\" d=\"M1435.5,-306C1435.5,-306 1327.5,-306 1327.5,-306 1321.5,-306 1315.5,-300 1315.5,-294 1315.5,-294 1315.5,-235 1315.5,-235 1315.5,-229 1321.5,-223 1327.5,-223 1327.5,-223 1435.5,-223 1435.5,-223 1441.5,-223 1447.5,-229 1447.5,-235 1447.5,-235 1447.5,-294 1447.5,-294 1447.5,-300 1441.5,-306 1435.5,-306\"/>\n<text text-anchor=\"start\" x=\"1341\" y=\"-290.8\" font-family=\"Helvetica,sans-Serif\" font-size=\"14.00\" fill=\"#000000\">Jewish ≤ 2.5</text>\n<text text-anchor=\"start\" x=\"1330.5\" y=\"-275.8\" font-family=\"Helvetica,sans-Serif\" font-size=\"14.00\" fill=\"#000000\">entropy = 0.992</text>\n<text text-anchor=\"start\" x=\"1333.5\" y=\"-260.8\" font-family=\"Helvetica,sans-Serif\" font-size=\"14.00\" fill=\"#000000\">samples = 486</text>\n<text text-anchor=\"start\" x=\"1323.5\" y=\"-245.8\" font-family=\"Helvetica,sans-Serif\" font-size=\"14.00\" fill=\"#000000\">value = [268, 218]</text>\n<text text-anchor=\"start\" x=\"1351\" y=\"-230.8\" font-family=\"Helvetica,sans-Serif\" font-size=\"14.00\" fill=\"#000000\">class = R</text>\n</g>\n<!-- 12&#45;&gt;20 -->\n<g id=\"edge20\" class=\"edge\">\n<title>12&#45;&gt;20</title>\n<path fill=\"none\" stroke=\"#000000\" d=\"M1087.9213,-341.9631C1161.7003,-322.4959 1246.2081,-300.1979 1305.5524,-284.5394\"/>\n<polygon fill=\"#000000\" stroke=\"#000000\" points=\"1306.4473,-287.9231 1315.2234,-281.9876 1304.6613,-281.1548 1306.4473,-287.9231\"/>\n</g>\n<!-- 14 -->\n<g id=\"node15\" class=\"node\">\n<title>14</title>\n<path fill=\"#eca26d\" stroke=\"#000000\" d=\"M889.5,-187C889.5,-187 789.5,-187 789.5,-187 783.5,-187 777.5,-181 777.5,-175 777.5,-175 777.5,-116 777.5,-116 777.5,-110 783.5,-104 789.5,-104 789.5,-104 889.5,-104 889.5,-104 895.5,-104 901.5,-110 901.5,-116 901.5,-116 901.5,-175 901.5,-175 901.5,-181 895.5,-187 889.5,-187\"/>\n<text text-anchor=\"start\" x=\"787\" y=\"-171.8\" font-family=\"Helvetica,sans-Serif\" font-size=\"14.00\" fill=\"#000000\">Catholic ≤ 456.5</text>\n<text text-anchor=\"start\" x=\"788.5\" y=\"-156.8\" font-family=\"Helvetica,sans-Serif\" font-size=\"14.00\" fill=\"#000000\">entropy = 0.736</text>\n<text text-anchor=\"start\" x=\"791.5\" y=\"-141.8\" font-family=\"Helvetica,sans-Serif\" font-size=\"14.00\" fill=\"#000000\">samples = 222</text>\n<text text-anchor=\"start\" x=\"785.5\" y=\"-126.8\" font-family=\"Helvetica,sans-Serif\" font-size=\"14.00\" fill=\"#000000\">value = [176, 46]</text>\n<text text-anchor=\"start\" x=\"809\" y=\"-111.8\" font-family=\"Helvetica,sans-Serif\" font-size=\"14.00\" fill=\"#000000\">class = R</text>\n</g>\n<!-- 13&#45;&gt;14 -->\n<g id=\"edge14\" class=\"edge\">\n<title>13&#45;&gt;14</title>\n<path fill=\"none\" stroke=\"#000000\" d=\"M898.6726,-222.8796C891.8543,-213.9633 884.5844,-204.4565 877.5579,-195.268\"/>\n<polygon fill=\"#000000\" stroke=\"#000000\" points=\"880.318,-193.1156 871.4632,-187.2981 874.7575,-197.3678 880.318,-193.1156\"/>\n</g>\n<!-- 17 -->\n<g id=\"node18\" class=\"node\">\n<title>17</title>\n<path fill=\"#e6843e\" stroke=\"#000000\" d=\"M1113.5,-187C1113.5,-187 931.5,-187 931.5,-187 925.5,-187 919.5,-181 919.5,-175 919.5,-175 919.5,-116 919.5,-116 919.5,-110 925.5,-104 931.5,-104 931.5,-104 1113.5,-104 1113.5,-104 1119.5,-104 1125.5,-110 1125.5,-116 1125.5,-116 1125.5,-175 1125.5,-175 1125.5,-181 1119.5,-187 1113.5,-187\"/>\n<text text-anchor=\"start\" x=\"927.5\" y=\"-171.8\" font-family=\"Helvetica,sans-Serif\" font-size=\"14.00\" fill=\"#000000\">WHITE_FEMALE_rate ≤ 0.27</text>\n<text text-anchor=\"start\" x=\"971.5\" y=\"-156.8\" font-family=\"Helvetica,sans-Serif\" font-size=\"14.00\" fill=\"#000000\">entropy = 0.172</text>\n<text text-anchor=\"start\" x=\"970.5\" y=\"-141.8\" font-family=\"Helvetica,sans-Serif\" font-size=\"14.00\" fill=\"#000000\">samples = 2229</text>\n<text text-anchor=\"start\" x=\"964.5\" y=\"-126.8\" font-family=\"Helvetica,sans-Serif\" font-size=\"14.00\" fill=\"#000000\">value = [2172, 57]</text>\n<text text-anchor=\"start\" x=\"992\" y=\"-111.8\" font-family=\"Helvetica,sans-Serif\" font-size=\"14.00\" fill=\"#000000\">class = R</text>\n</g>\n<!-- 13&#45;&gt;17 -->\n<g id=\"edge17\" class=\"edge\">\n<title>13&#45;&gt;17</title>\n<path fill=\"none\" stroke=\"#000000\" d=\"M962.6771,-222.8796C969.5704,-213.9633 976.9202,-204.4565 984.0239,-195.268\"/>\n<polygon fill=\"#000000\" stroke=\"#000000\" points=\"986.8381,-197.3502 990.1855,-187.2981 981.3001,-193.0687 986.8381,-197.3502\"/>\n</g>\n<!-- 15 -->\n<g id=\"node16\" class=\"node\">\n<title>15</title>\n<path fill=\"#e68742\" stroke=\"#000000\" d=\"M799.5,-68C799.5,-68 705.5,-68 705.5,-68 699.5,-68 693.5,-62 693.5,-56 693.5,-56 693.5,-12 693.5,-12 693.5,-6 699.5,0 705.5,0 705.5,0 799.5,0 799.5,0 805.5,0 811.5,-6 811.5,-12 811.5,-12 811.5,-56 811.5,-56 811.5,-62 805.5,-68 799.5,-68\"/>\n<text text-anchor=\"start\" x=\"701.5\" y=\"-52.8\" font-family=\"Helvetica,sans-Serif\" font-size=\"14.00\" fill=\"#000000\">entropy = 0.254</text>\n<text text-anchor=\"start\" x=\"704.5\" y=\"-37.8\" font-family=\"Helvetica,sans-Serif\" font-size=\"14.00\" fill=\"#000000\">samples = 141</text>\n<text text-anchor=\"start\" x=\"702.5\" y=\"-22.8\" font-family=\"Helvetica,sans-Serif\" font-size=\"14.00\" fill=\"#000000\">value = [135, 6]</text>\n<text text-anchor=\"start\" x=\"722\" y=\"-7.8\" font-family=\"Helvetica,sans-Serif\" font-size=\"14.00\" fill=\"#000000\">class = R</text>\n</g>\n<!-- 14&#45;&gt;15 -->\n<g id=\"edge15\" class=\"edge\">\n<title>14&#45;&gt;15</title>\n<path fill=\"none\" stroke=\"#000000\" d=\"M807.1044,-103.9815C800.0766,-94.9747 792.6345,-85.4367 785.5807,-76.3965\"/>\n<polygon fill=\"#000000\" stroke=\"#000000\" points=\"788.146,-73.9946 779.2349,-68.2637 782.6272,-78.3008 788.146,-73.9946\"/>\n</g>\n<!-- 16 -->\n<g id=\"node17\" class=\"node\">\n<title>16</title>\n<path fill=\"#fefcfa\" stroke=\"#000000\" d=\"M933.5,-68C933.5,-68 841.5,-68 841.5,-68 835.5,-68 829.5,-62 829.5,-56 829.5,-56 829.5,-12 829.5,-12 829.5,-6 835.5,0 841.5,0 841.5,0 933.5,0 933.5,0 939.5,0 945.5,-6 945.5,-12 945.5,-12 945.5,-56 945.5,-56 945.5,-62 939.5,-68 933.5,-68\"/>\n<text text-anchor=\"start\" x=\"845\" y=\"-52.8\" font-family=\"Helvetica,sans-Serif\" font-size=\"14.00\" fill=\"#000000\">entropy = 1.0</text>\n<text text-anchor=\"start\" x=\"843.5\" y=\"-37.8\" font-family=\"Helvetica,sans-Serif\" font-size=\"14.00\" fill=\"#000000\">samples = 81</text>\n<text text-anchor=\"start\" x=\"837.5\" y=\"-22.8\" font-family=\"Helvetica,sans-Serif\" font-size=\"14.00\" fill=\"#000000\">value = [41, 40]</text>\n<text text-anchor=\"start\" x=\"857\" y=\"-7.8\" font-family=\"Helvetica,sans-Serif\" font-size=\"14.00\" fill=\"#000000\">class = R</text>\n</g>\n<!-- 14&#45;&gt;16 -->\n<g id=\"edge16\" class=\"edge\">\n<title>14&#45;&gt;16</title>\n<path fill=\"none\" stroke=\"#000000\" d=\"M857.3734,-103.9815C861.0926,-95.3423 865.022,-86.2144 868.771,-77.5059\"/>\n<polygon fill=\"#000000\" stroke=\"#000000\" points=\"872.0103,-78.8327 872.7497,-68.2637 865.5808,-76.0648 872.0103,-78.8327\"/>\n</g>\n<!-- 18 -->\n<g id=\"node19\" class=\"node\">\n<title>18</title>\n<path fill=\"#fcf2ea\" stroke=\"#000000\" d=\"M1069.5,-68C1069.5,-68 975.5,-68 975.5,-68 969.5,-68 963.5,-62 963.5,-56 963.5,-56 963.5,-12 963.5,-12 963.5,-6 969.5,0 975.5,0 975.5,0 1069.5,0 1069.5,0 1075.5,0 1081.5,-6 1081.5,-12 1081.5,-12 1081.5,-56 1081.5,-56 1081.5,-62 1075.5,-68 1069.5,-68\"/>\n<text text-anchor=\"start\" x=\"971.5\" y=\"-52.8\" font-family=\"Helvetica,sans-Serif\" font-size=\"14.00\" fill=\"#000000\">entropy = 0.998</text>\n<text text-anchor=\"start\" x=\"978.5\" y=\"-37.8\" font-family=\"Helvetica,sans-Serif\" font-size=\"14.00\" fill=\"#000000\">samples = 36</text>\n<text text-anchor=\"start\" x=\"972.5\" y=\"-22.8\" font-family=\"Helvetica,sans-Serif\" font-size=\"14.00\" fill=\"#000000\">value = [19, 17]</text>\n<text text-anchor=\"start\" x=\"992\" y=\"-7.8\" font-family=\"Helvetica,sans-Serif\" font-size=\"14.00\" fill=\"#000000\">class = R</text>\n</g>\n<!-- 17&#45;&gt;18 -->\n<g id=\"edge18\" class=\"edge\">\n<title>17&#45;&gt;18</title>\n<path fill=\"none\" stroke=\"#000000\" d=\"M1022.5,-103.9815C1022.5,-95.618 1022.5,-86.7965 1022.5,-78.3409\"/>\n<polygon fill=\"#000000\" stroke=\"#000000\" points=\"1026.0001,-78.2636 1022.5,-68.2637 1019.0001,-78.2637 1026.0001,-78.2636\"/>\n</g>\n<!-- 19 -->\n<g id=\"node20\" class=\"node\">\n<title>19</title>\n<path fill=\"#e5833d\" stroke=\"#000000\" d=\"M1219.5,-68C1219.5,-68 1111.5,-68 1111.5,-68 1105.5,-68 1099.5,-62 1099.5,-56 1099.5,-56 1099.5,-12 1099.5,-12 1099.5,-6 1105.5,0 1111.5,0 1111.5,0 1219.5,0 1219.5,0 1225.5,0 1231.5,-6 1231.5,-12 1231.5,-12 1231.5,-56 1231.5,-56 1231.5,-62 1225.5,-68 1219.5,-68\"/>\n<text text-anchor=\"start\" x=\"1114.5\" y=\"-52.8\" font-family=\"Helvetica,sans-Serif\" font-size=\"14.00\" fill=\"#000000\">entropy = 0.131</text>\n<text text-anchor=\"start\" x=\"1113.5\" y=\"-37.8\" font-family=\"Helvetica,sans-Serif\" font-size=\"14.00\" fill=\"#000000\">samples = 2193</text>\n<text text-anchor=\"start\" x=\"1107.5\" y=\"-22.8\" font-family=\"Helvetica,sans-Serif\" font-size=\"14.00\" fill=\"#000000\">value = [2153, 40]</text>\n<text text-anchor=\"start\" x=\"1135\" y=\"-7.8\" font-family=\"Helvetica,sans-Serif\" font-size=\"14.00\" fill=\"#000000\">class = R</text>\n</g>\n<!-- 17&#45;&gt;19 -->\n<g id=\"edge19\" class=\"edge\">\n<title>17&#45;&gt;19</title>\n<path fill=\"none\" stroke=\"#000000\" d=\"M1075.7479,-103.9815C1088.1244,-94.3313 1101.2828,-84.0714 1113.6003,-74.4673\"/>\n<polygon fill=\"#000000\" stroke=\"#000000\" points=\"1115.8225,-77.1728 1121.5565,-68.2637 1111.5182,-71.6525 1115.8225,-77.1728\"/>\n</g>\n<!-- 21 -->\n<g id=\"node22\" class=\"node\">\n<title>21</title>\n<path fill=\"#f0b78d\" stroke=\"#000000\" d=\"M1607.5,-187C1607.5,-187 1155.5,-187 1155.5,-187 1149.5,-187 1143.5,-181 1143.5,-175 1143.5,-175 1143.5,-116 1143.5,-116 1143.5,-110 1149.5,-104 1155.5,-104 1155.5,-104 1607.5,-104 1607.5,-104 1613.5,-104 1619.5,-110 1619.5,-116 1619.5,-116 1619.5,-175 1619.5,-175 1619.5,-181 1613.5,-187 1607.5,-187\"/>\n<text text-anchor=\"start\" x=\"1151.5\" y=\"-171.8\" font-family=\"Helvetica,sans-Serif\" font-size=\"14.00\" fill=\"#000000\">Percent of adults with a bachelor&#39;s degree or higher, 2011&#45;2015 ≤ 39.85</text>\n<text text-anchor=\"start\" x=\"1330.5\" y=\"-156.8\" font-family=\"Helvetica,sans-Serif\" font-size=\"14.00\" fill=\"#000000\">entropy = 0.879</text>\n<text text-anchor=\"start\" x=\"1333.5\" y=\"-141.8\" font-family=\"Helvetica,sans-Serif\" font-size=\"14.00\" fill=\"#000000\">samples = 335</text>\n<text text-anchor=\"start\" x=\"1323.5\" y=\"-126.8\" font-family=\"Helvetica,sans-Serif\" font-size=\"14.00\" fill=\"#000000\">value = [235, 100]</text>\n<text text-anchor=\"start\" x=\"1351\" y=\"-111.8\" font-family=\"Helvetica,sans-Serif\" font-size=\"14.00\" fill=\"#000000\">class = R</text>\n</g>\n<!-- 20&#45;&gt;21 -->\n<g id=\"edge21\" class=\"edge\">\n<title>20&#45;&gt;21</title>\n<path fill=\"none\" stroke=\"#000000\" d=\"M1381.5,-222.8796C1381.5,-214.6838 1381.5,-205.9891 1381.5,-197.5013\"/>\n<polygon fill=\"#000000\" stroke=\"#000000\" points=\"1385.0001,-197.298 1381.5,-187.2981 1378.0001,-197.2981 1385.0001,-197.298\"/>\n</g>\n<!-- 24 -->\n<g id=\"node25\" class=\"node\">\n<title>24</title>\n<path fill=\"#70b8ec\" stroke=\"#000000\" d=\"M1765,-187C1765,-187 1650,-187 1650,-187 1644,-187 1638,-181 1638,-175 1638,-175 1638,-116 1638,-116 1638,-110 1644,-104 1650,-104 1650,-104 1765,-104 1765,-104 1771,-104 1777,-110 1777,-116 1777,-116 1777,-175 1777,-175 1777,-181 1771,-187 1765,-187\"/>\n<text text-anchor=\"start\" x=\"1646\" y=\"-171.8\" font-family=\"Helvetica,sans-Serif\" font-size=\"14.00\" fill=\"#000000\">30&#45;34_rate ≤ 0.056</text>\n<text text-anchor=\"start\" x=\"1656.5\" y=\"-156.8\" font-family=\"Helvetica,sans-Serif\" font-size=\"14.00\" fill=\"#000000\">entropy = 0.757</text>\n<text text-anchor=\"start\" x=\"1659.5\" y=\"-141.8\" font-family=\"Helvetica,sans-Serif\" font-size=\"14.00\" fill=\"#000000\">samples = 151</text>\n<text text-anchor=\"start\" x=\"1653.5\" y=\"-126.8\" font-family=\"Helvetica,sans-Serif\" font-size=\"14.00\" fill=\"#000000\">value = [33, 118]</text>\n<text text-anchor=\"start\" x=\"1677\" y=\"-111.8\" font-family=\"Helvetica,sans-Serif\" font-size=\"14.00\" fill=\"#000000\">class = D</text>\n</g>\n<!-- 20&#45;&gt;24 -->\n<g id=\"edge24\" class=\"edge\">\n<title>20&#45;&gt;24</title>\n<path fill=\"none\" stroke=\"#000000\" d=\"M1447.6474,-247.2393C1495.7907,-233.8816 1562.4276,-213.7455 1628.3128,-186.8863\"/>\n<polygon fill=\"#000000\" stroke=\"#000000\" points=\"1629.6945,-190.1025 1637.6025,-183.0517 1627.0236,-183.6321 1629.6945,-190.1025\"/>\n</g>\n<!-- 22 -->\n<g id=\"node23\" class=\"node\">\n<title>22</title>\n<path fill=\"#eca470\" stroke=\"#000000\" d=\"M1396.5,-68C1396.5,-68 1296.5,-68 1296.5,-68 1290.5,-68 1284.5,-62 1284.5,-56 1284.5,-56 1284.5,-12 1284.5,-12 1284.5,-6 1290.5,0 1296.5,0 1296.5,0 1396.5,0 1396.5,0 1402.5,0 1408.5,-6 1408.5,-12 1408.5,-12 1408.5,-56 1408.5,-56 1408.5,-62 1402.5,-68 1396.5,-68\"/>\n<text text-anchor=\"start\" x=\"1295.5\" y=\"-52.8\" font-family=\"Helvetica,sans-Serif\" font-size=\"14.00\" fill=\"#000000\">entropy = 0.754</text>\n<text text-anchor=\"start\" x=\"1298.5\" y=\"-37.8\" font-family=\"Helvetica,sans-Serif\" font-size=\"14.00\" fill=\"#000000\">samples = 268</text>\n<text text-anchor=\"start\" x=\"1292.5\" y=\"-22.8\" font-family=\"Helvetica,sans-Serif\" font-size=\"14.00\" fill=\"#000000\">value = [210, 58]</text>\n<text text-anchor=\"start\" x=\"1316\" y=\"-7.8\" font-family=\"Helvetica,sans-Serif\" font-size=\"14.00\" fill=\"#000000\">class = R</text>\n</g>\n<!-- 21&#45;&gt;22 -->\n<g id=\"edge22\" class=\"edge\">\n<title>21&#45;&gt;22</title>\n<path fill=\"none\" stroke=\"#000000\" d=\"M1368.4673,-103.9815C1365.8131,-95.5261 1363.012,-86.6026 1360.3312,-78.0623\"/>\n<polygon fill=\"#000000\" stroke=\"#000000\" points=\"1363.5898,-76.7564 1357.2554,-68.2637 1356.9111,-78.8529 1363.5898,-76.7564\"/>\n</g>\n<!-- 23 -->\n<g id=\"node24\" class=\"node\">\n<title>23</title>\n<path fill=\"#afd7f4\" stroke=\"#000000\" d=\"M1532.5,-68C1532.5,-68 1438.5,-68 1438.5,-68 1432.5,-68 1426.5,-62 1426.5,-56 1426.5,-56 1426.5,-12 1426.5,-12 1426.5,-6 1432.5,0 1438.5,0 1438.5,0 1532.5,0 1532.5,0 1538.5,0 1544.5,-6 1544.5,-12 1544.5,-12 1544.5,-56 1544.5,-56 1544.5,-62 1538.5,-68 1532.5,-68\"/>\n<text text-anchor=\"start\" x=\"1434.5\" y=\"-52.8\" font-family=\"Helvetica,sans-Serif\" font-size=\"14.00\" fill=\"#000000\">entropy = 0.953</text>\n<text text-anchor=\"start\" x=\"1441.5\" y=\"-37.8\" font-family=\"Helvetica,sans-Serif\" font-size=\"14.00\" fill=\"#000000\">samples = 67</text>\n<text text-anchor=\"start\" x=\"1435.5\" y=\"-22.8\" font-family=\"Helvetica,sans-Serif\" font-size=\"14.00\" fill=\"#000000\">value = [25, 42]</text>\n<text text-anchor=\"start\" x=\"1455\" y=\"-7.8\" font-family=\"Helvetica,sans-Serif\" font-size=\"14.00\" fill=\"#000000\">class = D</text>\n</g>\n<!-- 21&#45;&gt;23 -->\n<g id=\"edge23\" class=\"edge\">\n<title>21&#45;&gt;23</title>\n<path fill=\"none\" stroke=\"#000000\" d=\"M1420.2258,-103.9815C1428.7982,-94.7908 1437.8865,-85.0472 1446.471,-75.8436\"/>\n<polygon fill=\"#000000\" stroke=\"#000000\" points=\"1449.2796,-77.9637 1453.5411,-68.2637 1444.1607,-73.1891 1449.2796,-77.9637\"/>\n</g>\n<!-- 25 -->\n<g id=\"node26\" class=\"node\">\n<title>25</title>\n<path fill=\"#f2c09c\" stroke=\"#000000\" d=\"M1711.5,-68C1711.5,-68 1617.5,-68 1617.5,-68 1611.5,-68 1605.5,-62 1605.5,-56 1605.5,-56 1605.5,-12 1605.5,-12 1605.5,-6 1611.5,0 1617.5,0 1617.5,0 1711.5,0 1711.5,0 1717.5,0 1723.5,-6 1723.5,-12 1723.5,-12 1723.5,-56 1723.5,-56 1723.5,-62 1717.5,-68 1711.5,-68\"/>\n<text text-anchor=\"start\" x=\"1613.5\" y=\"-52.8\" font-family=\"Helvetica,sans-Serif\" font-size=\"14.00\" fill=\"#000000\">entropy = 0.918</text>\n<text text-anchor=\"start\" x=\"1620.5\" y=\"-37.8\" font-family=\"Helvetica,sans-Serif\" font-size=\"14.00\" fill=\"#000000\">samples = 27</text>\n<text text-anchor=\"start\" x=\"1619\" y=\"-22.8\" font-family=\"Helvetica,sans-Serif\" font-size=\"14.00\" fill=\"#000000\">value = [18, 9]</text>\n<text text-anchor=\"start\" x=\"1634\" y=\"-7.8\" font-family=\"Helvetica,sans-Serif\" font-size=\"14.00\" fill=\"#000000\">class = R</text>\n</g>\n<!-- 24&#45;&gt;25 -->\n<g id=\"edge25\" class=\"edge\">\n<title>24&#45;&gt;25</title>\n<path fill=\"none\" stroke=\"#000000\" d=\"M1691.4884,-103.9815C1688.1921,-95.4342 1684.7114,-86.4086 1681.3853,-77.7839\"/>\n<polygon fill=\"#000000\" stroke=\"#000000\" points=\"1684.5776,-76.3345 1677.7138,-68.2637 1678.0465,-78.8533 1684.5776,-76.3345\"/>\n</g>\n<!-- 26 -->\n<g id=\"node27\" class=\"node\">\n<title>26</title>\n<path fill=\"#54aae9\" stroke=\"#000000\" d=\"M1853.5,-68C1853.5,-68 1753.5,-68 1753.5,-68 1747.5,-68 1741.5,-62 1741.5,-56 1741.5,-56 1741.5,-12 1741.5,-12 1741.5,-6 1747.5,0 1753.5,0 1753.5,0 1853.5,0 1853.5,0 1859.5,0 1865.5,-6 1865.5,-12 1865.5,-12 1865.5,-56 1865.5,-56 1865.5,-62 1859.5,-68 1853.5,-68\"/>\n<text text-anchor=\"start\" x=\"1752.5\" y=\"-52.8\" font-family=\"Helvetica,sans-Serif\" font-size=\"14.00\" fill=\"#000000\">entropy = 0.532</text>\n<text text-anchor=\"start\" x=\"1755.5\" y=\"-37.8\" font-family=\"Helvetica,sans-Serif\" font-size=\"14.00\" fill=\"#000000\">samples = 124</text>\n<text text-anchor=\"start\" x=\"1749.5\" y=\"-22.8\" font-family=\"Helvetica,sans-Serif\" font-size=\"14.00\" fill=\"#000000\">value = [15, 109]</text>\n<text text-anchor=\"start\" x=\"1773\" y=\"-7.8\" font-family=\"Helvetica,sans-Serif\" font-size=\"14.00\" fill=\"#000000\">class = D</text>\n</g>\n<!-- 24&#45;&gt;26 -->\n<g id=\"edge26\" class=\"edge\">\n<title>24&#45;&gt;26</title>\n<path fill=\"none\" stroke=\"#000000\" d=\"M1743.2469,-103.9815C1751.1599,-94.7908 1759.5491,-85.0472 1767.4732,-75.8436\"/>\n<polygon fill=\"#000000\" stroke=\"#000000\" points=\"1770.1271,-78.1255 1773.9994,-68.2637 1764.8224,-73.5582 1770.1271,-78.1255\"/>\n</g>\n</g>\n</svg>\n"
          },
          "metadata": {
            "tags": []
          },
          "execution_count": 33
        }
      ]
    },
    {
      "cell_type": "code",
      "metadata": {
        "id": "2p0aaQkMm1pV",
        "colab_type": "code",
        "outputId": "0ccf3cee-4116-4c47-9e25-8bbd0dc826ce",
        "colab": {
          "base_uri": "https://localhost:8080/",
          "height": 141
        }
      },
      "source": [
        "# Prédiction et évaluation\n",
        "\n",
        "#########################\n",
        "## METTRE VOTRE CODE ICI\n",
        "#########################\n",
        "\n",
        "preds = clf.predict(X_test)\n",
        "print('Predictions per county in state #'+ str(STATE_FIPS_CODE) + ' are ' + str(preds ) )\n",
        "print('Votes per county in state #'+ str(STATE_FIPS_CODE) + ' are ' + str(list(y_test) ) )\n",
        "\n",
        "import sklearn.metrics as perf\n",
        "\n",
        "oa = perf.accuracy_score(y_test, preds)\n",
        "bas = perf.balanced_accuracy_score(y_test, preds)\n",
        "print(oa,bas)\n",
        "cm = perf.confusion_matrix(y_test, preds)\n",
        "print(cm)"
      ],
      "execution_count": 34,
      "outputs": [
        {
          "output_type": "stream",
          "text": [
            "Predictions per county in state #17 are [1 0 0 0 0 0 1 0 0 0 0 0 0 0 0 0 0 0 1 0 0 0 0 0 0 0 0 1 0 1 0 0 0 1 0 0 1\n",
            " 1 0 1 1 1 1 1 0 0 0 0 1 0 0 0 0 0 0 1 1 0]\n",
            "Votes per county in state #17 are [1, 1, 0, 0, 0, 0, 1, 0, 0, 1, 0, 1, 1, 0, 0, 0, 1, 0, 1, 0, 1, 0, 1, 1, 0, 1, 1, 1, 1, 1, 0, 0, 1, 1, 1, 1, 1, 1, 1, 1, 1, 1, 1, 1, 0, 0, 0, 1, 1, 0, 0, 0, 0, 0, 0, 1, 1, 0]\n",
            "0.7241379310344828 0.75\n",
            "[[26  0]\n",
            " [16 16]]\n"
          ],
          "name": "stdout"
        }
      ]
    },
    {
      "cell_type": "markdown",
      "metadata": {
        "id": "nx-UmaBEtrFN",
        "colab_type": "text"
      },
      "source": [
        "\n",
        "---\n",
        "\n",
        "# Bagging\n",
        "\n",
        "L'objectif de cette partie est de construire **à la main** une approche de bagging.\n",
        "\n",
        "Le principe de l'approche est de:\n",
        "\n",
        "* Apprendre et collecter plusieurs arbres sur des échantillonnages aléatoires des données d'apprentissage\n",
        "* Agréger les prédictions par vote \n",
        "* Evaluer: Les prédictions agrégées\n",
        "* Comparer avec les arbres individuels et le résultat précédent\n",
        "\n",
        "\n",
        "Utiliser les fonctions de construction d'ensemble d'apprentissage/test de scikit-learn https://scikit-learn.org/stable/modules/generated/sklearn.model_selection.train_test_split.html pour générer les sous-esnembles échantillonnés.\n",
        "\n",
        "**Comparer après le cours** les fonctions de scikit-learn: https://scikit-learn.org/stable/modules/ensemble.html\n",
        "\n",
        "Numpy tips: [np.arange](https://docs.scipy.org/doc/numpy-1.15.0/reference/generated/numpy.arange.html), [numpy.sum](https://docs.scipy.org/doc/numpy-1.15.0/reference/generated/numpy.sum.html), [numpy.mean](https://docs.scipy.org/doc/numpy-1.15.1/reference/generated/numpy.mean.html), [numpy.where](https://docs.scipy.org/doc/numpy-1.15.0/reference/generated/numpy.where.html)"
      ]
    },
    {
      "cell_type": "code",
      "metadata": {
        "id": "S0Haw1inuPMs",
        "colab_type": "code",
        "colab": {}
      },
      "source": [
        "from sklearn.model_selection import train_test_split\n",
        "\n",
        "# Données d'apprentissage: X_train, y_train, idx_train\n",
        "# Données de test: X_test, y_test, idx_test\n",
        "# Les étapes de conception du prédicteur (apprentissage) sont les suivantes:\n",
        "#   - Construction des sous-ensembles de données\n",
        "#   - Apprentissage d'un arbre\n",
        "#   - Agrégation de l'arbre dans la forêt\n",
        "#\n",
        "# Pour le test\n",
        "\n",
        "\n",
        "def learn_forest(XTrain, yTrain, nb_trees, depth=15):\n",
        "\n",
        "#########################\n",
        "## METTRE VOTRE CODE ICI\n",
        "#########################\n",
        "\n",
        "  forest = []\n",
        "  singleperf=[]\n",
        "\n",
        "  for ss in range(nb_trees):\n",
        "    # bagging for subset\n",
        "    X_train_sub, X_test_sub, y_train_sub, y_test_sub = train_test_split(\n",
        "        XTrain, yTrain, test_size=0.2 )\n",
        "\n",
        "    # single tree training\n",
        "    clf = tree.DecisionTreeClassifier(max_depth=depth, splitter=\"random\")\n",
        "    clf = clf.fit( X_train_sub, y_train_sub )\n",
        "    \n",
        "    # grow the forest\n",
        "    forest.append( clf )\n",
        "  \n",
        "    # single tree evaluation\n",
        "    curr_train_pred=clf.predict(X_train_sub)\n",
        "    curr_test_pred=clf.predict(X_test_sub)\n",
        "    singleperf.append([perf.balanced_accuracy_score( y_train_sub, curr_train_pred ), perf.balanced_accuracy_score( y_test_sub,curr_test_pred)])\n",
        "  \n",
        "  return forest,singleperf\n",
        "\n"
      ],
      "execution_count": 0,
      "outputs": []
    },
    {
      "cell_type": "code",
      "metadata": {
        "id": "qyT6zrLRvl-x",
        "colab_type": "code",
        "colab": {}
      },
      "source": [
        "def predict_forest(forest, XTest, yTest = None):\n",
        "  \n",
        "#########################\n",
        "## METTRE VOTRE CODE ICI\n",
        "#########################\n",
        "  singleperf=[]\n",
        "  all_preds=[]\n",
        "  nb_trees = len(forest)\n",
        "  for ss in forest:# nb_trees\n",
        "    test_pred=ss.predict(XTest)\n",
        "    all_preds.append(test_pred)\n",
        "\n",
        "    if (yTest is not None):\n",
        "      singleperf.append(perf.balanced_accuracy_score( yTest, test_pred ))\n",
        "\n",
        "  all_preds=np.array(all_preds)\n",
        "  #print(all_preds)  # A 2x2 matrix of 0/1\n",
        "\n",
        "  # Vote\n",
        "  gloup = np.sum(all_preds, axis=0)\n",
        "  final_pred = np.where(gloup > nb_trees/2, 1, 0) # why not max?\n",
        "#   print(gloup)\n",
        "#   print(final_pred)\n",
        "#   [19  4  3 10  3  7 18  0 10 10  0 11 10  1  6 10  0  1 18 13 18  0  6 14\n",
        "#   1  5 15 13  6 16 12  6 11 16  5  9 17 19 11 15 17 15 17 15  5  0  4 15\n",
        "#  13 10  9  0  0  8  1 16 17  4]\n",
        "#  [1 0 0 0 0 0 1 0 0 0 0 1 0 0 0 0 0 0 1 1 1 0 0 1 0 0 1 1 0 1 1 0 1 1 0 0 1\n",
        "#  1 1 1 1 1 1 1 0 0 0 1 1 0 0 0 0 0 0 1 1 0]\n",
        "\n",
        "  if (yTest is not None):\n",
        "    return final_pred,singleperf\n",
        "  else:\n",
        "    return final_pred\n"
      ],
      "execution_count": 0,
      "outputs": []
    },
    {
      "cell_type": "code",
      "metadata": {
        "id": "Bs8kgN1XvnGa",
        "colab_type": "code",
        "outputId": "70ff76ea-32c5-4a62-ec32-c3cf54bfada5",
        "colab": {
          "base_uri": "https://localhost:8080/",
          "height": 173
        }
      },
      "source": [
        "#########################\n",
        "## METTRE VOTRE CODE ICI\n",
        "#########################\n",
        "\n",
        "\n",
        "X_train, y_train, X_test, y_test = county_data(census_data, 6)\n",
        "\n",
        "F,singleperf = learn_forest(X_train, y_train, 20, depth=15)\n",
        "pred, singleperftest = predict_forest(F, X_test, y_test)\n",
        "acc = perf.balanced_accuracy_score( y_test, pred )\n",
        "print(\"Taux de bonne prédiction final = {:.2f}%\".format(100*acc))\n",
        "print(\"Moyenne des bonnes prédictions individuelles = {:.2f}%\".format(100*mean(singleperftest)))\n",
        "#print(singleperftest)\n",
        "#print(singleperf)"
      ],
      "execution_count": 27,
      "outputs": [
        {
          "output_type": "stream",
          "text": [
            "[[1 0 0 ... 0 1 0]\n",
            " [0 0 0 ... 0 1 0]\n",
            " [1 0 0 ... 0 1 0]\n",
            " ...\n",
            " [1 0 0 ... 1 0 0]\n",
            " [1 1 0 ... 1 1 0]\n",
            " [1 0 0 ... 1 1 0]]\n",
            "Taux de bonne prédiction final = 74.40%\n",
            "Moyenne des bonnes prédictions individuelles = 67.82%\n"
          ],
          "name": "stdout"
        }
      ]
    }
  ]
}