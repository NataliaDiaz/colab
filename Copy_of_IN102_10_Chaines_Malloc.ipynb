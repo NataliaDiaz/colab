{
  "nbformat": 4,
  "nbformat_minor": 0,
  "metadata": {
    "kernelspec": {
      "display_name": "Python 3",
      "language": "python",
      "name": "python3"
    },
    "language_info": {
      "codemirror_mode": {
        "name": "ipython",
        "version": 3
      },
      "file_extension": ".py",
      "mimetype": "text/x-python",
      "name": "python",
      "nbconvert_exporter": "python",
      "pygments_lexer": "ipython3",
      "version": "3.7.3"
    },
    "rise": {
      "enable_chalkboard": true,
      "theme": "simple",
      "transition": "none"
    },
    "toc": {
      "base_numbering": 1,
      "nav_menu": {},
      "number_sections": true,
      "sideBar": true,
      "skip_h1_title": false,
      "title_cell": "Sommaire",
      "title_sidebar": "Sommaire",
      "toc_cell": true,
      "toc_position": {
        "height": "calc(100% - 180px)",
        "left": "10px",
        "top": "150px",
        "width": "261px"
      },
      "toc_section_display": true,
      "toc_window_display": false
    },
    "colab": {
      "name": "Copy of IN102-10 Chaines - Malloc.ipynb",
      "provenance": [],
      "include_colab_link": true
    }
  },
  "cells": [
    {
      "cell_type": "markdown",
      "metadata": {
        "id": "view-in-github",
        "colab_type": "text"
      },
      "source": [
        "<a href=\"https://colab.research.google.com/github/NataliaDiaz/colab/blob/master/Copy_of_IN102_10_Chaines_Malloc.ipynb\" target=\"_parent\"><img src=\"https://colab.research.google.com/assets/colab-badge.svg\" alt=\"Open In Colab\"/></a>"
      ]
    },
    {
      "cell_type": "markdown",
      "metadata": {
        "toc": true,
        "id": "GlcL0ILBbkEk"
      },
      "source": [
        "<h1>Sommaire<span class=\"tocSkip\"></span></h1>\n",
        "<div class=\"toc\"><ul class=\"toc-item\"><li><span><a href=\"#Chaînes-de-caractères-(suite)\" data-toc-modified-id=\"Chaînes-de-caractères-(suite)-1\"><span class=\"toc-item-num\">1&nbsp;&nbsp;</span>Chaînes de caractères (suite)</a></span><ul class=\"toc-item\"><li><span><a href=\"#Modifier-les-chaînes\" data-toc-modified-id=\"Modifier-les-chaînes-1.1\"><span class=\"toc-item-num\">1.1&nbsp;&nbsp;</span>Modifier les chaînes</a></span></li><li><span><a href=\"#Opérations-sur-les-chaînes\" data-toc-modified-id=\"Opérations-sur-les-chaînes-1.2\"><span class=\"toc-item-num\">1.2&nbsp;&nbsp;</span>Opérations sur les chaînes</a></span><ul class=\"toc-item\"><li><span><a href=\"#Affectation\" data-toc-modified-id=\"Affectation-1.2.1\"><span class=\"toc-item-num\">1.2.1&nbsp;&nbsp;</span>Affectation</a></span></li><li><span><a href=\"#Copier-une-chaîne\" data-toc-modified-id=\"Copier-une-chaîne-1.2.2\"><span class=\"toc-item-num\">1.2.2&nbsp;&nbsp;</span>Copier une chaîne</a></span></li><li><span><a href=\"#Comparer-deux-chaînes\" data-toc-modified-id=\"Comparer-deux-chaînes-1.2.3\"><span class=\"toc-item-num\">1.2.3&nbsp;&nbsp;</span>Comparer deux chaînes</a></span></li><li><span><a href=\"#strcmp\" data-toc-modified-id=\"strcmp-1.2.4\"><span class=\"toc-item-num\">1.2.4&nbsp;&nbsp;</span>strcmp</a></span></li><li><span><a href=\"#Chercher-une-sous-chaîne-dans-une-chaîne\" data-toc-modified-id=\"Chercher-une-sous-chaîne-dans-une-chaîne-1.2.5\"><span class=\"toc-item-num\">1.2.5&nbsp;&nbsp;</span>Chercher une sous-chaîne dans une chaîne</a></span></li></ul></li></ul></li><li><span><a href=\"#La-Pile\" data-toc-modified-id=\"La-Pile-2\"><span class=\"toc-item-num\">2&nbsp;&nbsp;</span>La Pile</a></span></li><li><span><a href=\"#Le-Tas-(Heap)\" data-toc-modified-id=\"Le-Tas-(Heap)-3\"><span class=\"toc-item-num\">3&nbsp;&nbsp;</span>Le Tas (Heap)</a></span><ul class=\"toc-item\"><li><span><a href=\"#Principe-malloc-free\" data-toc-modified-id=\"Principe-malloc-free-3.1\"><span class=\"toc-item-num\">3.1&nbsp;&nbsp;</span>Principe malloc-free</a></span></li><li><span><a href=\"#Malloc\" data-toc-modified-id=\"Malloc-3.2\"><span class=\"toc-item-num\">3.2&nbsp;&nbsp;</span>Malloc</a></span></li><li><span><a href=\"#Free\" data-toc-modified-id=\"Free-3.3\"><span class=\"toc-item-num\">3.3&nbsp;&nbsp;</span>Free</a></span></li><li><span><a href=\"#Exercice:-Fonction-de-cryptage\" data-toc-modified-id=\"Exercice:-Fonction-de-cryptage-3.4\"><span class=\"toc-item-num\">3.4&nbsp;&nbsp;</span>Exercice: Fonction de cryptage</a></span></li></ul></li></ul></div>"
      ]
    },
    {
      "cell_type": "code",
      "metadata": {
        "id": "HJSiJJStbkEl",
        "outputId": "34f2c89e-ba12-4c4c-c329-e9a3fd0281ee",
        "colab": {
          "base_uri": "https://localhost:8080/",
          "height": 207
        }
      },
      "source": [
        "!pip install git+git://github.com/frehseg/gcc4jupyter\n",
        "%load_ext gcc_plugin"
      ],
      "execution_count": null,
      "outputs": [
        {
          "output_type": "stream",
          "text": [
            "Collecting git+git://github.com/frehseg/gcc4jupyter\n",
            "  Cloning git://github.com/frehseg/gcc4jupyter to /tmp/pip-req-build-hc96zh5r\n",
            "  Running command git clone -q git://github.com/frehseg/gcc4jupyter /tmp/pip-req-build-hc96zh5r\n",
            "Building wheels for collected packages: GCCPlugin\n",
            "  Building wheel for GCCPlugin (setup.py) ... \u001b[?25l\u001b[?25hdone\n",
            "  Created wheel for GCCPlugin: filename=GCCPlugin-0.0.6-cp36-none-any.whl size=2932 sha256=a92a0dc63cd66ba52bfd5089076462e9f7b2c581c0d07962bb6300b083bb9230\n",
            "  Stored in directory: /tmp/pip-ephem-wheel-cache-imokwsdu/wheels/a6/ff/b4/023d42d3ec7c36b10e15db2a808aae8b2475e19fa6e370f85c\n",
            "Successfully built GCCPlugin\n",
            "Installing collected packages: GCCPlugin\n",
            "Successfully installed GCCPlugin-0.0.6\n"
          ],
          "name": "stdout"
        }
      ]
    },
    {
      "cell_type": "markdown",
      "metadata": {
        "id": "nR7VBRJ6bkEr"
      },
      "source": [
        "# Chaînes de caractères (suite)\n"
      ]
    },
    {
      "cell_type": "markdown",
      "metadata": {
        "id": "zmOtY24sbkEr"
      },
      "source": [
        "## Modifier les chaînes\n",
        "\n",
        "Rappel : une chaîne déclaré avec `char* ` n'est pas modifiable si elle est initialisée avec une chaîne entre guillemets (`\"..blabla...\"`)."
      ]
    },
    {
      "cell_type": "code",
      "metadata": {
        "id": "8Rwf8UslbkEs",
        "outputId": "c6f21e2c-bd04-45f9-eb97-d68b06ea24c0",
        "colab": {
          "base_uri": "https://localhost:8080/",
          "height": 34
        }
      },
      "source": [
        "%%c\n",
        "#include <stdio.h>\n",
        "int main() {\n",
        "   char* chaine = \"ENSTA\";\n",
        "   *chaine = 'I';             // erreur : non modifiable \n",
        "   printf(\"%s\\n\", chaine );\n",
        "}"
      ],
      "execution_count": null,
      "outputs": [
        {
          "output_type": "stream",
          "text": [
            "\n"
          ],
          "name": "stdout"
        }
      ]
    },
    {
      "cell_type": "markdown",
      "metadata": {
        "id": "PDeGt8e7bkEu"
      },
      "source": [
        "La cellule ci-dessous n'affiche rien parce que le programme se plante.\n",
        "\n",
        "Dans le programme suivant tout va bien, parce qu'on déclare la chaîne \n",
        "avec `[]`:"
      ]
    },
    {
      "cell_type": "code",
      "metadata": {
        "id": "blwf75axbkEu",
        "outputId": "de9e8844-80c9-4b5c-e340-9d690d14d43b",
        "colab": {
          "base_uri": "https://localhost:8080/",
          "height": 51
        }
      },
      "source": [
        "%%c\n",
        "#include <stdio.h>\n",
        "int main() {\n",
        "   char chaine[] = \"ENSTA\";\n",
        "   chaine[0] = 'I';              // ok\n",
        "   printf(\"%s\\n\", chaine );\n",
        "}"
      ],
      "execution_count": null,
      "outputs": [
        {
          "output_type": "stream",
          "text": [
            "INSTA\n",
            "\n"
          ],
          "name": "stdout"
        }
      ]
    },
    {
      "cell_type": "markdown",
      "metadata": {
        "id": "jANgZxcmbkEw"
      },
      "source": [
        "## Opérations sur les chaînes\n",
        "### Affectation\n",
        "\n",
        "__Attention:__ ```\n",
        "chaine2 = chaine1;```\n",
        "\n",
        "ne fait pas de copie! On fait juste pointer `chaine2` vers la même adresse que `chaine1`.\n",
        "\n",
        "Voici un exemple pour montrer que les deux pointent vers les mêmes lettres. Dans l'exemple suivant, une modification de `chaine1` change également `chaine2`."
      ]
    },
    {
      "cell_type": "code",
      "metadata": {
        "id": "HXUiWrZgbkEw",
        "outputId": "2227da77-7654-4fca-e45d-c6419210038a",
        "colab": {
          "base_uri": "https://localhost:8080/",
          "height": 68
        }
      },
      "source": [
        "%%c\n",
        "#include <stdio.h>\n",
        "int main() {\n",
        "   char chaine1[] = \"ENSTA\";\n",
        "   char* chaine2;\n",
        "   chaine2 = chaine1;\n",
        "   chaine1[0] = 'I';\n",
        "   printf(\"%s\\n\", chaine1 );\n",
        "   printf(\"%s\\n\", chaine2 );\n",
        "}"
      ],
      "execution_count": null,
      "outputs": [
        {
          "output_type": "stream",
          "text": [
            "INSTA\n",
            "INSTA\n",
            "\n"
          ],
          "name": "stdout"
        }
      ]
    },
    {
      "cell_type": "markdown",
      "metadata": {
        "id": "sUyZxod1bkEy"
      },
      "source": [
        "### Copier une chaîne\n",
        "\n",
        "Pour faire une copie d'une chaîne, il y la commande `strcpy`, fournie par la bilbiothèque `string.h`."
      ]
    },
    {
      "cell_type": "markdown",
      "metadata": {
        "id": "9y_rABJ5bkEy"
      },
      "source": [
        "`char* strcpy (dest, source)`\n",
        "\n",
        "copie à partir de l'adresse `source` lettre par lettre toute la chaîne vers l'adresse `dest`. La valeur de retour est ici inutile, c'est simplement l'adresse `dest`. Attention: il faut prévoir assez de place à la destination, sinon il peut y avoir des erreurs graves."
      ]
    },
    {
      "cell_type": "code",
      "metadata": {
        "id": "le7FrfpHbkEz",
        "outputId": "c401abad-6883-4f11-b475-9735ec989f9b",
        "colab": {
          "base_uri": "https://localhost:8080/",
          "height": 68
        }
      },
      "source": [
        "%%c\n",
        "#include <stdio.h>\n",
        "#include <string.h>\n",
        "int main() {\n",
        "   char chaine1[] = \"ENSTA\";\n",
        "   char chaine2[100];\n",
        "   strcpy(chaine2,chaine1); // on fait une copie\n",
        "   *chaine1 = 'I';          // une modification ne touche pas l'original\n",
        "   printf(\"%s\\n\", chaine1 );\n",
        "   printf(\"%s\\n\", chaine2 );\n",
        "}"
      ],
      "execution_count": null,
      "outputs": [
        {
          "output_type": "stream",
          "text": [
            "INSTA\n",
            "ENSTA\n",
            "\n"
          ],
          "name": "stdout"
        }
      ]
    },
    {
      "cell_type": "markdown",
      "metadata": {
        "id": "UxK-AG2DbkE1"
      },
      "source": [
        "### Comparer deux chaînes\n",
        "\n",
        "Pour comparer deux chaines, on ne peut pas utiliser un comparaison de la forme `chaine1 == chaine2`. Cela compare les adresses de `chaine1` et `chaine2` au lieu des lettre de la chaîne."
      ]
    },
    {
      "cell_type": "code",
      "metadata": {
        "id": "U5s9Bv0EbkE1",
        "outputId": "c595bb9e-c48d-40ed-9ca8-8cd4e8f098cc",
        "colab": {
          "base_uri": "https://localhost:8080/",
          "height": 85
        }
      },
      "source": [
        "%%c\n",
        "#include <stdio.h>\n",
        "int main() {\n",
        "   char chaine1[] = \"ENSTA\";\n",
        "   char chaine2[] = \"ENSTA\";\n",
        "   printf(\"%d\\n\", chaine1 == chaine2 );\n",
        "   printf(\"%p\\n\", chaine1 );\n",
        "   printf(\"%p\\n\", chaine2 );\n",
        "}"
      ],
      "execution_count": null,
      "outputs": [
        {
          "output_type": "stream",
          "text": [
            "0\n",
            "0x7ffcff3961bc\n",
            "0x7ffcff3961c2\n",
            "\n"
          ],
          "name": "stdout"
        }
      ]
    },
    {
      "cell_type": "markdown",
      "metadata": {
        "id": "TkKIqr0kbkE4"
      },
      "source": [
        "On compare ici les adresses au lieux des lettres et ces adresses ne sont pas les mêmes!"
      ]
    },
    {
      "cell_type": "markdown",
      "metadata": {
        "id": "Cih9LPwybkE4"
      },
      "source": [
        "### strcmp\n",
        "\n",
        "`int strcmp(chaine1,chaine2)`\n",
        "donne la __différence__ entre les chaînes\n",
        "- 0 si égales\n",
        "- <0 si chaine1 < chaine2 dans l'ordre lexicographique\n",
        "- '>0' si chaine1 > chaine2"
      ]
    },
    {
      "cell_type": "code",
      "metadata": {
        "id": "MypQy2AmbkE4",
        "outputId": "9a1a010d-507e-42ae-d2e0-c8536039873a",
        "colab": {
          "base_uri": "https://localhost:8080/",
          "height": 51
        }
      },
      "source": [
        "%%c\n",
        "#include <stdio.h>\n",
        "#include <string.h>\n",
        "int main() {\n",
        "   char chaine1[] = \"ENSTA\";\n",
        "   char chaine2[] = \"ENSTA\";\n",
        "   printf(\"%d\\n\", strcmp(chaine1,chaine2));\n",
        "}"
      ],
      "execution_count": null,
      "outputs": [
        {
          "output_type": "stream",
          "text": [
            "0\n",
            "\n"
          ],
          "name": "stdout"
        }
      ]
    },
    {
      "cell_type": "markdown",
      "metadata": {
        "id": "SSmvBS2DbkE6"
      },
      "source": [
        "Ci-dessus, les chaînes sont égaux, donc `strcmp` donne `0` (pas de différence)."
      ]
    },
    {
      "cell_type": "code",
      "metadata": {
        "id": "NBy7YsywbkE6",
        "outputId": "0a7e5b29-0f22-4de2-ec9b-8914fd07f100",
        "colab": {
          "base_uri": "https://localhost:8080/",
          "height": 68
        }
      },
      "source": [
        "%%c\n",
        "#include <stdio.h>\n",
        "#include <string.h>\n",
        "int main() {\n",
        "   char chaine1[] = \"ENSTA\";\n",
        "   char chaine2[] = \"FNSTA\";\n",
        "   char chaine3[] = \"GNSTA\";\n",
        "   printf(\"%d\\n\", strcmp(chaine1,chaine2));\n",
        "   printf(\"%d\\n\", strcmp(chaine1,chaine3));\n",
        "}"
      ],
      "execution_count": null,
      "outputs": [
        {
          "output_type": "stream",
          "text": [
            "-1\n",
            "-2\n",
            "\n"
          ],
          "name": "stdout"
        }
      ]
    },
    {
      "cell_type": "markdown",
      "metadata": {
        "id": "TpZ8e8yCbkE8"
      },
      "source": [
        "Ci-dessus, `strcmp` donne `-1` car la première lettre de  `chaine1` qui est différente de celles de `chaine2` est `E`, ce qui dans l'alphabet est 1 place avant `F`.\n",
        "\n",
        "Ensuite `strcmp` donne `-2` car la première lettre de  `chaine1` qui est différente de celles de `chaine3` est `E`, ce qui dans l'alphabet est 2 places avant `G`."
      ]
    },
    {
      "cell_type": "markdown",
      "metadata": {
        "id": "Y434hMqKbkE8"
      },
      "source": [
        "### Chercher une sous-chaîne dans une chaîne\n",
        "\n",
        "`char* strstr (botte_de_foin, aiguille)`\n",
        "\n",
        "si trouvé, donne le pointeur où `aiguille` commence dans `botte_de_foin`\n",
        "\n",
        "si pas trouvé, donne 0.\n"
      ]
    },
    {
      "cell_type": "code",
      "metadata": {
        "id": "oozX9goKbkE9",
        "outputId": "4f332950-b599-4ff3-f955-aa6f9e795ad9",
        "colab": {
          "base_uri": "https://localhost:8080/",
          "height": 85
        }
      },
      "source": [
        "%%c\n",
        "#include <string.h>\n",
        "#include <stdio.h>\n",
        "int main() {\n",
        "   char botte_de_foin[] = \"J'adore l'ENSTA, c'est top.\";\n",
        "   char aiguille[] = \"ENSTA\";\n",
        "   char* trouve = strstr(botte_de_foin,aiguille);\n",
        "   printf(\"%p\\n\",trouve);\n",
        "   printf(\"%s\\n\",trouve);\n",
        "   trouve = strstr(botte_de_foin,\"toto\");\n",
        "   printf(\"%p\\n\",trouve); // nil = 0\n",
        "}"
      ],
      "execution_count": null,
      "outputs": [
        {
          "output_type": "stream",
          "text": [
            "0x7ffd765d576a\n",
            "ENSTA, c'est top.\n",
            "(nil)\n",
            "\n"
          ],
          "name": "stdout"
        }
      ]
    },
    {
      "cell_type": "markdown",
      "metadata": {
        "id": "7Xkm0MqdbkE-"
      },
      "source": [
        "# La Pile\n",
        "\n",
        "Les variables locales sont stockés dans une zone mémoire appelée *la pile* (*stack*).\n",
        "\n",
        "Sa fin est indiqué par le pointeur de pile."
      ]
    },
    {
      "cell_type": "markdown",
      "metadata": {
        "id": "fjj0zBChbkE_"
      },
      "source": [
        "![image.png](attachment:image.png)"
      ]
    },
    {
      "cell_type": "markdown",
      "metadata": {
        "id": "2u0LyRBDbkE_"
      },
      "source": [
        "- mémoire est libre au dessus de pointeur de pile, occupé en-dessous\n",
        "- simplifie la gestion de mémoire\n",
        "- rapide\n",
        "- taille limitée par l'OS:  *stack overflow error*"
      ]
    },
    {
      "cell_type": "markdown",
      "metadata": {
        "id": "B7sZxWRybkE_"
      },
      "source": [
        "On peut regarder la taille de la pile avec la commande shell: \n",
        "```ulimit -a```\n",
        "\n",
        "Cela affiche:\n",
        "    \n",
        "``stack size              (kbytes, -s) 8192``\n",
        "\n",
        "La pile peut stocker 8192 kilo-octets, donc 8192*1024 octets.\n",
        "Si on essaie de faire un tableau statique de cette taille, le programme se plante, parce qu'il n'y aura pas assez de place (la pile est déjà un peu rempli avec quelques d'autres données)."
      ]
    },
    {
      "cell_type": "code",
      "metadata": {
        "id": "v3PvX8DfbkFA",
        "outputId": "e442f7a4-e846-4ac4-9fbe-5e8b9edcdbb9",
        "colab": {
          "base_uri": "https://localhost:8080/",
          "height": 34
        }
      },
      "source": [
        "%%c\n",
        "#include <stdio.h>\n",
        "int main() {\n",
        "    char grandtableau[1024*8192]; // aussi grand que la pile\n",
        "    // le programme s'arrête ici parce que le tableau est trop grand\n",
        "    printf(\"%p\",grandtableau);    \n",
        "}"
      ],
      "execution_count": null,
      "outputs": [
        {
          "output_type": "stream",
          "text": [
            "\n"
          ],
          "name": "stdout"
        }
      ]
    },
    {
      "cell_type": "markdown",
      "metadata": {
        "id": "m798iHVobkFB"
      },
      "source": [
        "En diminuant un peu la taille du tableau, ça passe:"
      ]
    },
    {
      "cell_type": "code",
      "metadata": {
        "id": "wrKphrORbkFC",
        "outputId": "7dc9f73b-ed1a-4df7-af5e-cedba31fd153",
        "colab": {
          "base_uri": "https://localhost:8080/",
          "height": 34
        }
      },
      "source": [
        "%%c\n",
        "#include <stdio.h>\n",
        "int main() {\n",
        "    char grandtableau[1024*8172]; // plus petit que la pile\n",
        "    printf(\"%p\",grandtableau);    \n",
        "}"
      ],
      "execution_count": null,
      "outputs": [
        {
          "output_type": "stream",
          "text": [
            "0x7ffe7d8002d0\n"
          ],
          "name": "stdout"
        }
      ]
    },
    {
      "cell_type": "markdown",
      "metadata": {
        "id": "y_u82jQlbkFD"
      },
      "source": [
        "# Le Tas (Heap)"
      ]
    },
    {
      "cell_type": "markdown",
      "metadata": {
        "id": "r_JvMlsKbkFE"
      },
      "source": [
        "Des zones de mémoire arbitrairement grandes peuvent être réservés sur *le tas* (heap).\n",
        "\n",
        "réservation \"manuelle\" avec \n",
        "- `malloc` : réserver X octets et obtenir l'adresse d'une zone\n",
        "- `free` : libérer la zone"
      ]
    },
    {
      "cell_type": "markdown",
      "metadata": {
        "id": "j2MNYofKbkFE"
      },
      "source": [
        "## Principe malloc-free\n",
        "\n",
        "1. Réserver la mémoire et obtenir le pointeur :<br>\n",
        "   type`*` mon_pointeur `= malloc(`taille`);`\n",
        "2. Travailler avec mon_pointeur...\n",
        "3. A la fin, libérer la mémoire :<br>\n",
        "   `free(`mon_pointeur`);`\n"
      ]
    },
    {
      "cell_type": "markdown",
      "metadata": {
        "id": "ApAlDEY7bkFE"
      },
      "source": [
        "![image.png](attachment:image.png)"
      ]
    },
    {
      "cell_type": "markdown",
      "metadata": {
        "id": "PhgV1zEjbkFF"
      },
      "source": [
        "![image.png](attachment:image.png)"
      ]
    },
    {
      "cell_type": "markdown",
      "metadata": {
        "id": "ZAlDm40vbkFF"
      },
      "source": [
        "- il peut y avoir des \"trous\" de mémoire libre\n",
        "- liste de blocs libres gérée par malloc/free\n",
        "- gestion plus compliqué, plus lente"
      ]
    },
    {
      "cell_type": "markdown",
      "metadata": {
        "id": "CwvTETM7bkFF"
      },
      "source": [
        "## Malloc\n",
        "\n",
        "``void* malloc(size_t nombre_d_octets)``\n",
        "- réserve une zone de `nombre_d_octets` octets dans le tas (plus un peu de place pour une en-tête)\n",
        "- stocke le nombre d'octets réservés dans une en-tête de la zone\n",
        "- retourne un pointeur vers le premier octet réservé\n",
        "- si nécessaire, le tas du processus est agrandi; **si impossible retourne 0**\n",
        "\n",
        "`size_t` : type entier non-signé assez grand"
      ]
    },
    {
      "cell_type": "code",
      "metadata": {
        "id": "_yk2ifeJbkFF",
        "outputId": "e411a47b-9d7d-4700-9bdb-17b5ba77d19d",
        "colab": {
          "base_uri": "https://localhost:8080/",
          "height": 68
        }
      },
      "source": [
        "%%c\n",
        "#include <stdio.h>\n",
        "#include <stdlib.h>\n",
        "int main() {\n",
        "    char* grandtableau = malloc(1024*8182);\n",
        "    grandtableau[0] = 13;\n",
        "    printf(\"%d\\n\",grandtableau[0]);\n",
        "    printf(\"%p\\n\",grandtableau);    \n",
        "}"
      ],
      "execution_count": null,
      "outputs": [
        {
          "output_type": "stream",
          "text": [
            "13\n",
            "0x5598a5596000\n",
            "\n"
          ],
          "name": "stdout"
        }
      ]
    },
    {
      "cell_type": "markdown",
      "metadata": {
        "id": "9AJic7DlbkFH"
      },
      "source": [
        "## Free\n",
        "\n",
        "``void free(void* ptr)``\n",
        "- libère la zone associé avec `ptr`\n",
        "\n"
      ]
    },
    {
      "cell_type": "markdown",
      "metadata": {
        "id": "-qn_OfdObkFI"
      },
      "source": [
        "Si accès à une adresse libérée (ou autrement interdite): **segmentation fault**"
      ]
    },
    {
      "cell_type": "code",
      "metadata": {
        "id": "qsaxaJmpbkFI",
        "outputId": "a1a4c6aa-7ec9-4109-92a6-7a8bc4744621",
        "colab": {
          "base_uri": "https://localhost:8080/",
          "height": 102
        }
      },
      "source": [
        "%%c\n",
        "#include <stdio.h>\n",
        "#include <stdlib.h>\n",
        "int main() {\n",
        "    char* grandtableau = malloc(1024*8182);\n",
        "    grandtableau[0] = 13;\n",
        "    printf(\"%p\\n\",grandtableau);    \n",
        "    printf(\"%d\\n\",grandtableau[0]);\n",
        "    free(grandtableau);\n",
        "    printf(\"%p\\n\",grandtableau);    \n",
        "    printf(\"%d\\n\",grandtableau[0]);\n",
        "}"
      ],
      "execution_count": null,
      "outputs": [
        {
          "output_type": "stream",
          "text": [
            "0x55e4d2128000\n",
            "13\n",
            "0x55e4d2128000\n",
            "13\n",
            "\n"
          ],
          "name": "stdout"
        }
      ]
    },
    {
      "cell_type": "markdown",
      "metadata": {
        "id": "OoGmL8ZzbkFK"
      },
      "source": [
        "Pour réutiliser la mémoire après `free`: de nouveau un `malloc`"
      ]
    },
    {
      "cell_type": "code",
      "metadata": {
        "id": "Hec9W6AzbkFL",
        "outputId": "79f7c822-e1c0-4560-877c-e8c39cb62638",
        "colab": {
          "base_uri": "https://localhost:8080/",
          "height": 102
        }
      },
      "source": [
        "%%c\n",
        "#include <stdio.h>\n",
        "#include <stdlib.h>\n",
        "int main() {\n",
        "    int* grandtableau = malloc(sizeof(int)*1024);\n",
        "    grandtableau[0] = 13;\n",
        "    printf(\"%p\\n\",grandtableau);    \n",
        "    printf(\"%d\\n\",grandtableau[0]);\n",
        "    free(grandtableau);\n",
        "    int* autretableau = malloc(sizeof(int)*2048);\n",
        "    printf(\"%p\\n\",autretableau);    \n",
        "    printf(\"%d\\n\",autretableau[0]);\n",
        "    free(autretableau);\n",
        "}"
      ],
      "execution_count": null,
      "outputs": [
        {
          "output_type": "stream",
          "text": [
            "0x55c006e6c000\n",
            "13\n",
            "0x55c006e70000\n",
            "0\n",
            "\n"
          ],
          "name": "stdout"
        }
      ]
    },
    {
      "cell_type": "markdown",
      "metadata": {
        "id": "zX_6LrWAbkFM"
      },
      "source": [
        "## Exercice: Fonction de cryptage\n",
        "\n",
        "Ecrire une fonction `crypter` qui prend en argument une chaîne et une clé `c`, et qui donne\n",
        "en valeur de retour la chaîne crypté (sans détruire l'original). Les caractères sont cryptés en additionnant `c`."
      ]
    },
    {
      "cell_type": "code",
      "metadata": {
        "id": "FlgLzpFybkFN"
      },
      "source": [
        "%%c\n",
        "#include <stdio.h>\n",
        "#include <stdlib.h>\n",
        "#include <string.h>\n",
        "char* crypter(char* chaine,int cle){\n",
        "    // 1. réserver la mémoire pour la chaine cryptée\n",
        "    // 2. pour chaque lettre x dans chaine,\n",
        "    //    écrire x+cle dans la chaine cryptée\n",
        "    // 3. retourner le pointeur vers la chaine cryptée\n",
        "}\n",
        "int main() {\n",
        "    char* orig = \"ENSTA\";\n",
        "    char* cryp = crypter(orig,3);\n",
        "    printf(\"%s\\n\",cryp);\n",
        "}"
      ],
      "execution_count": null,
      "outputs": []
    },
    {
      "cell_type": "markdown",
      "metadata": {
        "id": "dOZKKV3LbkFO"
      },
      "source": [
        "Solution:"
      ]
    },
    {
      "cell_type": "code",
      "metadata": {
        "id": "i4aukj_4bkFO"
      },
      "source": [
        "%%c\n",
        "#include <stdio.h>\n",
        "#include <stdlib.h>\n",
        "#include <string.h>\n",
        "char* crypter(char* chaine,int cle){\n",
        "    int longueur = strlen(chaine);\n",
        "    char* chaine_cryptee = malloc(sizeof(char)*longueur);\n",
        "    for (int i=0; chaine[i]!=0; ++i) {\n",
        "        chaine_cryptee[i] = chaine[i]+cle;\n",
        "    }\n",
        "    return chaine_cryptee;\n",
        "}\n",
        "int main() {\n",
        "    char* orig = \"ENSTA\";\n",
        "    char* cryp = crypter(orig,3);\n",
        "    printf(\"%s\\n\",cryp);\n",
        "}"
      ],
      "execution_count": null,
      "outputs": []
    },
    {
      "cell_type": "markdown",
      "metadata": {
        "id": "oZF_wmXybkFQ"
      },
      "source": [
        "Utiliser la même fonction pour décrypter:"
      ]
    },
    {
      "cell_type": "code",
      "metadata": {
        "id": "NUvkpChAbkFQ"
      },
      "source": [
        "#include <stdio.h>\n",
        "#include <stdlib.h>\n",
        "#include <string.h>\n",
        "char* crypter(char* chaine,int cle){\n",
        "    int longueur = strlen(chaine);\n",
        "    char* chaine_cryptee = malloc(sizeof(char)*longueur);\n",
        "    for (int i=0; chaine[i]!=0; ++i) {\n",
        "        chaine_cryptee[i] = chaine[i]+cle;\n",
        "    }\n",
        "    return chaine_cryptee;\n",
        "}\n",
        "int main() {\n",
        "    char* orig = \"ENSTA\";\n",
        "    char* cryp = crypter(orig,3);\n",
        "    printf(\"%s\\n\",cryp);\n",
        "    char* decryp = crypter(cryp,-3);\n",
        "    printf(\"%s\\n\",decryp);\n",
        "    free(decryp); // libérer la mémoire!\n",
        "}"
      ],
      "execution_count": null,
      "outputs": []
    },
    {
      "cell_type": "code",
      "metadata": {
        "id": "BnjpnpLebkFR"
      },
      "source": [
        ""
      ],
      "execution_count": null,
      "outputs": []
    }
  ]
}