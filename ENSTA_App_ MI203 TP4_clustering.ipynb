{
  "nbformat": 4,
  "nbformat_minor": 0,
  "metadata": {
    "colab": {
      "name": "ENSTA_App_TP4_clustering.ipynb",
      "provenance": [],
      "collapsed_sections": [],
      "include_colab_link": true
    },
    "kernelspec": {
      "name": "python3",
      "display_name": "Python 3"
    }
  },
  "cells": [
    {
      "cell_type": "markdown",
      "metadata": {
        "id": "view-in-github",
        "colab_type": "text"
      },
      "source": [
        "<a href=\"https://colab.research.google.com/github/NataliaDiaz/colab/blob/master/ENSTA_App_%20MI203%20TP4_clustering.ipynb\" target=\"_parent\"><img src=\"https://colab.research.google.com/assets/colab-badge.svg\" alt=\"Open In Colab\"/></a>"
      ]
    },
    {
      "cell_type": "markdown",
      "metadata": {
        "id": "NXTL-6zGkK7M",
        "colab_type": "text"
      },
      "source": [
        "# Exercise session: clustering US market stocks\n",
        "\n",
        "Today's exercise session is about analysing trens in US stock markets.\n",
        "\n",
        "You are given a NumPy array movements of daily price movements from 2010 to 2015, where each row corresponds to a company, and each column corresponds to a trading day. This dataset was obtained from the Yahoo! Finance API.\n",
        "\n"
      ]
    },
    {
      "cell_type": "code",
      "metadata": {
        "id": "ogSHCDackrs_",
        "colab_type": "code",
        "colab": {}
      },
      "source": [
        "%matplotlib inline\n",
        "from pylab import *"
      ],
      "execution_count": 0,
      "outputs": []
    },
    {
      "cell_type": "code",
      "metadata": {
        "id": "WfflbGphkwtH",
        "colab_type": "code",
        "colab": {}
      },
      "source": [
        "import numpy as np\n",
        "import os\n",
        "import random\n",
        "import matplotlib.pyplot as plt"
      ],
      "execution_count": 0,
      "outputs": []
    },
    {
      "cell_type": "markdown",
      "metadata": {
        "id": "xJK2HCbTky_s",
        "colab_type": "text"
      },
      "source": [
        "# Get the data\n",
        "\n",
        " *   Data are available from: https://blesaux.github.io/teaching/ENSTA\n",
        "\n",
        " *   Upload the.company-stock-movements-2010-2015-inclcsv file in your drive and then mount it from colab\n",
        "  "
      ]
    },
    {
      "cell_type": "code",
      "metadata": {
        "id": "228D7Tofk-Kc",
        "colab_type": "code",
        "colab": {
          "base_uri": "https://localhost:8080/",
          "height": 124
        },
        "outputId": "9de367a2-e920-4b3f-c7bf-5660adf20ac8"
      },
      "source": [
        "USE_COLAB = True\n",
        "UPLOAD_OUTPUTS = False\n",
        "if USE_COLAB:\n",
        "    # mount the goole drive\n",
        "    from google.colab import drive\n",
        "    drive.mount('/content/drive', force_remount=True)\n",
        "    # download data on GoogleDrive\n",
        "    data_dir = \"/content/drive/My Drive/datasets/\"\n",
        "else:\n",
        "    data_dir = \"data/\""
      ],
      "execution_count": 3,
      "outputs": [
        {
          "output_type": "stream",
          "text": [
            "Go to this URL in a browser: https://accounts.google.com/o/oauth2/auth?client_id=947318989803-6bn6qk8qdgf4n4g3pfee6491hc0brc4i.apps.googleusercontent.com&redirect_uri=urn%3aietf%3awg%3aoauth%3a2.0%3aoob&response_type=code&scope=email%20https%3a%2f%2fwww.googleapis.com%2fauth%2fdocs.test%20https%3a%2f%2fwww.googleapis.com%2fauth%2fdrive%20https%3a%2f%2fwww.googleapis.com%2fauth%2fdrive.photos.readonly%20https%3a%2f%2fwww.googleapis.com%2fauth%2fpeopleapi.readonly\n",
            "\n",
            "Enter your authorization code:\n",
            "··········\n",
            "Mounted at /content/drive\n"
          ],
          "name": "stdout"
        }
      ]
    },
    {
      "cell_type": "markdown",
      "metadata": {
        "id": "3KVYpkwF5cN2",
        "colab_type": "text"
      },
      "source": [
        "* Read data"
      ]
    },
    {
      "cell_type": "code",
      "metadata": {
        "id": "RYpTXDTHlIqM",
        "colab_type": "code",
        "colab": {}
      },
      "source": [
        "import pandas as pd\n",
        "\n",
        "fn = 'company-stock-movements-2010-2015-incl.csv'\n",
        "stocks_df = pd.read_csv( os.path.join(data_dir, fn), index_col=0 )"
      ],
      "execution_count": 0,
      "outputs": []
    },
    {
      "cell_type": "markdown",
      "metadata": {
        "id": "paJOlDGY5gsn",
        "colab_type": "text"
      },
      "source": [
        "* Explore and understand data:\n",
        "  * How many companies? How many dates?\n",
        "  * What are the values?"
      ]
    },
    {
      "cell_type": "code",
      "metadata": {
        "id": "ZYvv6GEGlru4",
        "colab_type": "code",
        "colab": {}
      },
      "source": [
        "\n"
      ],
      "execution_count": 0,
      "outputs": []
    },
    {
      "cell_type": "markdown",
      "metadata": {
        "id": "c5GXUVd_-ahx",
        "colab_type": "text"
      },
      "source": [
        "* Eplore and understand data:\n",
        "  * Show company profiles on a graph\n",
        "  * Are they similar? What are the min-max values?"
      ]
    },
    {
      "cell_type": "code",
      "metadata": {
        "id": "XuzWb3b75XKK",
        "colab_type": "code",
        "colab": {
          "base_uri": "https://localhost:8080/",
          "height": 300
        },
        "outputId": "955a7e0a-1a33-4257-d989-d87e620e0601"
      },
      "source": [
        "apple = stocks_df.loc[['Apple']]\n",
        "print(apple.shape)\n",
        "apple = apple.T\n",
        "\n",
        "#apple = stocks_df.iloc[0]\n",
        "#print(apple.shape)\n",
        "\n",
        "boeing = stocks_df.loc[['Boeing']]\n",
        "print(boeing.shape)\n",
        "boeing = boeing.T\n",
        "\n",
        "ax = plt.gca()\n",
        "apple.plot.line(ax=ax)\n",
        "boeing.plot.line(ax=ax)\n",
        "plt.show()"
      ],
      "execution_count": 5,
      "outputs": [
        {
          "output_type": "stream",
          "text": [
            "(1, 963)\n",
            "(1, 963)\n"
          ],
          "name": "stdout"
        },
        {
          "output_type": "display_data",
          "data": {
            "image/png": "[encoded data removed]",
            "text/plain": [
              "<Figure size 432x288 with 1 Axes>"
            ]
          },
          "metadata": {
            "tags": []
          }
        }
      ]
    },
    {
      "cell_type": "markdown",
      "metadata": {
        "id": "eeHetBKl-zB7",
        "colab_type": "text"
      },
      "source": [
        "# Cluster companies with similar profiles\n",
        "\n",
        "* use sklearn.cluster:\n",
        "https://scikit-learn.org/stable/modules/generated/sklearn.cluster.KMeans.html\n"
      ]
    },
    {
      "cell_type": "code",
      "metadata": {
        "id": "K1dcAM7K-qtU",
        "colab_type": "code",
        "colab": {}
      },
      "source": [
        "companies = list(stocks_df.index) # get company names\n",
        "profiles = stocks_df.values # to array\n",
        "\n",
        "# Insert your clustering code here\n",
        "\n",
        "\n",
        "#df = pd.DataFrame({'labels': kmeans.labels_, 'companies': companies})\n",
        "#df.sort_values('labels')"
      ],
      "execution_count": 0,
      "outputs": []
    },
    {
      "cell_type": "markdown",
      "metadata": {
        "id": "q2VWsUU2JTVx",
        "colab_type": "text"
      },
      "source": [
        "# Cluster companies with similar profiles (again, with normalization)\n",
        "\n",
        "* Normalize profiles before:\n",
        "\n",
        "https://scikit-learn.org/stable/modules/classes.html#module-sklearn.preprocessing\n",
        "https://scikit-learn.org/stable/modules/generated/sklearn.preprocessing.Normalizer.html#sklearn.preprocessing.Normalizer\n",
        "\n",
        "* Cluster using k-means:\n",
        "\n",
        "https://scikit-learn.org/stable/modules/generated/sklearn.cluster.KMeans.html"
      ]
    },
    {
      "cell_type": "code",
      "metadata": {
        "id": "hcCBrJmdBpQ_",
        "colab_type": "code",
        "colab": {}
      },
      "source": [
        "# start again to be sure to have a good init\n",
        "companies = list(stocks_df.index) # get company names\n",
        "profiles = stocks_df.values # to array\n",
        "\n",
        "# normalize\n",
        "# ..."
      ],
      "execution_count": 0,
      "outputs": []
    },
    {
      "cell_type": "markdown",
      "metadata": {
        "id": "MqXmKcL5BUa7",
        "colab_type": "text"
      },
      "source": [
        "* Display profiles (Apple / 0 and Boeing / 4, for example)"
      ]
    },
    {
      "cell_type": "code",
      "metadata": {
        "id": "OD2c4Yc3AiTt",
        "colab_type": "code",
        "colab": {
          "base_uri": "https://localhost:8080/",
          "height": 265
        },
        "outputId": "f00c6155-5207-47c9-9191-38c2ee7df248"
      },
      "source": [
        "plot(profiles[0,:])\n",
        "plot(profiles[4,:])\n",
        "plt.show()"
      ],
      "execution_count": 8,
      "outputs": [
        {
          "output_type": "display_data",
          "data": {
            "image/png": "[encoded data removed]",
            "text/plain": [
              "<Figure size 432x288 with 1 Axes>"
            ]
          },
          "metadata": {
            "tags": []
          }
        }
      ]
    },
    {
      "cell_type": "code",
      "metadata": {
        "id": "_39pWv6GAnhb",
        "colab_type": "code",
        "colab": {}
      },
      "source": [
        "# clusterize\n",
        "\n",
        "# ...\n",
        "# ...\n",
        "\n",
        "#df = pd.DataFrame({'labels': kmeans.labels_, 'companies': companies})\n",
        "#df.sort_values('labels')\n"
      ],
      "execution_count": 0,
      "outputs": []
    },
    {
      "cell_type": "markdown",
      "metadata": {
        "id": "Koh2lycSJsOl",
        "colab_type": "text"
      },
      "source": [
        "# Clustering, in a pipeline\n",
        "\n",
        "* Same as before, but in a pipeline\n",
        "\n",
        "https://scikit-learn.org/stable/modules/generated/sklearn.pipeline.Pipeline.html\n",
        "\n",
        "-> Useful for cross-validation of a whole processing chain!"
      ]
    },
    {
      "cell_type": "code",
      "metadata": {
        "id": "n-Mq8_ZxFMsA",
        "colab_type": "code",
        "colab": {}
      },
      "source": [
        ""
      ],
      "execution_count": 0,
      "outputs": []
    },
    {
      "cell_type": "markdown",
      "metadata": {
        "id": "18RS0961Cc1r",
        "colab_type": "text"
      },
      "source": [
        "# Clustering using another algorithm\n",
        "\n",
        "* Try out another clustering algorithm, for example one of those seen during the course: Agglomerative CLustering, DBScan, Spectral clustering, etc...\n",
        "   * Motivate your choice!\n",
        "\n",
        "https://scikit-learn.org/stable/modules/clustering.html\n",
        "\n",
        "* Analyze\n",
        "  * How do they differ  from K-Means? \n",
        "  * What are the parameters? \n",
        "  * Do they produce the same clusters? "
      ]
    },
    {
      "cell_type": "code",
      "metadata": {
        "id": "K4tb6R6WCatg",
        "colab_type": "code",
        "colab": {}
      },
      "source": [
        "# start again to be sure to have a good init\n",
        "companies = list(stocks_df.index) # get company names\n",
        "profiles = stocks_df.values # to array\n",
        "\n",
        "# normalize (same as before)\n",
        "# ...\n",
        "\n",
        "# clusterize\n",
        "#kluster = ...\n",
        "\n",
        "#df = pd.DataFrame({'labels': kluster.labels_, 'companies': companies})\n",
        "#df.sort_values('labels')"
      ],
      "execution_count": 0,
      "outputs": []
    },
    {
      "cell_type": "markdown",
      "metadata": {
        "id": "oKFag6gaFvfv",
        "colab_type": "text"
      },
      "source": [
        "# Code your clustering\n",
        "\n",
        "* Code K-means by yourself\n",
        "\n",
        "The algorithm is described here: https://en.wikipedia.org/wiki/K-means_clustering#Standard_algorithm\n"
      ]
    },
    {
      "cell_type": "code",
      "metadata": {
        "id": "Paf6RODaGaJL",
        "colab_type": "code",
        "colab": {
          "base_uri": "https://localhost:8080/",
          "height": 132
        },
        "outputId": "fcb8fa25-ee52-4a28-c6e3-2f18541d5f4c"
      },
      "source": [
        "# nb clusters\n",
        "n_clusters = 14\n",
        "\n",
        "# data samples = profiles\n",
        "#print(profiles.shape)\n",
        "#n_profiles = ...\n",
        "#dim = ...\n",
        "#print(n_profiles)\n",
        "\n",
        "# memberships\n",
        "#u = ...\n",
        "print(u.shape)\n",
        "\n",
        "# prototypes: initialized as true, random profiles (try otherwise) \n",
        "#p = \n",
        "\n",
        "from random import randrange\n",
        "\n",
        "for j in range(0,n_clusters):\n",
        "\n",
        "  #p[j,:] = ...\n",
        "  \n",
        "#print(p)"
      ],
      "execution_count": 10,
      "outputs": [
        {
          "output_type": "error",
          "ename": "SyntaxError",
          "evalue": "ignored",
          "traceback": [
            "\u001b[0;36m  File \u001b[0;32m\"<ipython-input-10-b04019bae02f>\"\u001b[0;36m, line \u001b[0;32m22\u001b[0m\n\u001b[0;31m    #print(p)\u001b[0m\n\u001b[0m             ^\u001b[0m\n\u001b[0;31mSyntaxError\u001b[0m\u001b[0;31m:\u001b[0m unexpected EOF while parsing\n"
          ]
        }
      ]
    },
    {
      "cell_type": "code",
      "metadata": {
        "id": "rlqj7B_WGLes",
        "colab_type": "code",
        "colab": {}
      },
      "source": [
        "from numpy import linalg as LA\n",
        "\n",
        "max_iter= 10\n",
        "#dist= ...\n",
        "#previous_loss=np.Inf\n",
        "\n",
        "\n",
        "for k in range(0,max_iter):\n",
        "  # compute u according to data -> closest p\n",
        "  # compute distances between profiles and prototypes\n",
        "\n",
        "  # ...\n",
        "      \n",
        "  # compute loss\n",
        "  #loss= ...\n",
        "  print('Iter #',k)\n",
        "  #print('loss = ',loss)\n",
        "  if(np.abs(previous_loss-loss) < 1e-3 ):\n",
        "    break;\n",
        "  previous_loss=loss  \n",
        "  \n",
        "  # get index of the closest prototype of each point (np.argmin...)   \n",
        "  \n",
        "  # ...\n",
        "  \n",
        "  # update K-Means memberships\n",
        "\n",
        "  # ...\n",
        "      \n",
        "  # re-compute p[i,:] according to new memberships\n",
        "\n",
        "  # ...\n",
        "  \n",
        "\n",
        "  \n",
        "    \n",
        "\n",
        "\n",
        "\n",
        "labels = np.argmax(u, axis=1)\n",
        "print(labels)\n",
        "print(labels.shape)\n",
        "\n",
        "print('Final loss =',loss)\n",
        "\n"
      ],
      "execution_count": 0,
      "outputs": []
    },
    {
      "cell_type": "code",
      "metadata": {
        "id": "UUMivOtiIaCq",
        "colab_type": "code",
        "colab": {}
      },
      "source": [
        "df = pd.DataFrame({'labels': labels, 'companies': companies})\n",
        "df.sort_values('labels')"
      ],
      "execution_count": 0,
      "outputs": []
    }
  ]
}