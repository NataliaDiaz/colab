{
  "nbformat": 4,
  "nbformat_minor": 0,
  "metadata": {
    "kernelspec": {
      "display_name": "Python 3",
      "language": "python",
      "name": "python3"
    },
    "language_info": {
      "codemirror_mode": {
        "name": "ipython",
        "version": 3
      },
      "file_extension": ".py",
      "mimetype": "text/x-python",
      "name": "python",
      "nbconvert_exporter": "python",
      "pygments_lexer": "ipython3",
      "version": "3.7.3"
    },
    "rise": {
      "enable_chalkboard": true,
      "theme": "simple",
      "transition": "none"
    },
    "toc": {
      "base_numbering": 1,
      "nav_menu": {},
      "number_sections": true,
      "sideBar": true,
      "skip_h1_title": false,
      "title_cell": "Sommaire",
      "title_sidebar": "Sommaire",
      "toc_cell": true,
      "toc_position": {
        "height": "calc(100% - 180px)",
        "left": "10px",
        "top": "150px",
        "width": "261px"
      },
      "toc_section_display": true,
      "toc_window_display": false
    },
    "colab": {
      "name": "IN102-10 Chaines - Malloc.ipynb",
      "provenance": [],
      "include_colab_link": true
    }
  },
  "cells": [
    {
      "cell_type": "markdown",
      "metadata": {
        "id": "view-in-github",
        "colab_type": "text"
      },
      "source": [
        "<a href=\"https://colab.research.google.com/github/NataliaDiaz/colab/blob/master/IN102_10_Chaines_Malloc.ipynb\" target=\"_parent\"><img src=\"https://colab.research.google.com/assets/colab-badge.svg\" alt=\"Open In Colab\"/></a>"
      ]
    },
    {
      "cell_type": "markdown",
      "metadata": {
        "toc": true,
        "id": "GTY4qV2nAUPr"
      },
      "source": [
        "<h1>Sommaire<span class=\"tocSkip\"></span></h1>\n",
        "<div class=\"toc\"><ul class=\"toc-item\"><li><span><a href=\"#Chaînes-de-caractères-(suite)\" data-toc-modified-id=\"Chaînes-de-caractères-(suite)-1\"><span class=\"toc-item-num\">1&nbsp;&nbsp;</span>Chaînes de caractères (suite)</a></span><ul class=\"toc-item\"><li><span><a href=\"#Modifier-les-chaînes\" data-toc-modified-id=\"Modifier-les-chaînes-1.1\"><span class=\"toc-item-num\">1.1&nbsp;&nbsp;</span>Modifier les chaînes</a></span></li><li><span><a href=\"#Opérations-sur-les-chaînes\" data-toc-modified-id=\"Opérations-sur-les-chaînes-1.2\"><span class=\"toc-item-num\">1.2&nbsp;&nbsp;</span>Opérations sur les chaînes</a></span><ul class=\"toc-item\"><li><span><a href=\"#Affectation\" data-toc-modified-id=\"Affectation-1.2.1\"><span class=\"toc-item-num\">1.2.1&nbsp;&nbsp;</span>Affectation</a></span></li><li><span><a href=\"#Copier-une-chaîne\" data-toc-modified-id=\"Copier-une-chaîne-1.2.2\"><span class=\"toc-item-num\">1.2.2&nbsp;&nbsp;</span>Copier une chaîne</a></span></li><li><span><a href=\"#Comparer-deux-chaînes\" data-toc-modified-id=\"Comparer-deux-chaînes-1.2.3\"><span class=\"toc-item-num\">1.2.3&nbsp;&nbsp;</span>Comparer deux chaînes</a></span></li><li><span><a href=\"#strcmp\" data-toc-modified-id=\"strcmp-1.2.4\"><span class=\"toc-item-num\">1.2.4&nbsp;&nbsp;</span>strcmp</a></span></li><li><span><a href=\"#Chercher-une-sous-chaîne-dans-une-chaîne\" data-toc-modified-id=\"Chercher-une-sous-chaîne-dans-une-chaîne-1.2.5\"><span class=\"toc-item-num\">1.2.5&nbsp;&nbsp;</span>Chercher une sous-chaîne dans une chaîne</a></span></li></ul></li></ul></li><li><span><a href=\"#La-Pile\" data-toc-modified-id=\"La-Pile-2\"><span class=\"toc-item-num\">2&nbsp;&nbsp;</span>La Pile</a></span></li><li><span><a href=\"#Le-Tas-(Heap)\" data-toc-modified-id=\"Le-Tas-(Heap)-3\"><span class=\"toc-item-num\">3&nbsp;&nbsp;</span>Le Tas (Heap)</a></span><ul class=\"toc-item\"><li><span><a href=\"#Principe-malloc-free\" data-toc-modified-id=\"Principe-malloc-free-3.1\"><span class=\"toc-item-num\">3.1&nbsp;&nbsp;</span>Principe malloc-free</a></span></li><li><span><a href=\"#Malloc\" data-toc-modified-id=\"Malloc-3.2\"><span class=\"toc-item-num\">3.2&nbsp;&nbsp;</span>Malloc</a></span></li><li><span><a href=\"#Free\" data-toc-modified-id=\"Free-3.3\"><span class=\"toc-item-num\">3.3&nbsp;&nbsp;</span>Free</a></span></li><li><span><a href=\"#Exercice:-Fonction-de-cryptage\" data-toc-modified-id=\"Exercice:-Fonction-de-cryptage-3.4\"><span class=\"toc-item-num\">3.4&nbsp;&nbsp;</span>Exercice: Fonction de cryptage</a></span></li></ul></li></ul></div>"
      ]
    },
    {
      "cell_type": "code",
      "metadata": {
        "id": "G5t7MMQLAUPs",
        "outputId": "18b2a562-5576-40a1-c38c-76b1147044ae"
      },
      "source": [
        "!pip install git+git://github.com/frehseg/gcc4jupyter\n",
        "%load_ext gcc_plugin"
      ],
      "execution_count": null,
      "outputs": [
        {
          "output_type": "stream",
          "text": [
            "Collecting git+git://github.com/frehseg/gcc4jupyter\n",
            "  Cloning git://github.com/frehseg/gcc4jupyter to /tmp/pip-req-build-w_271aar\n",
            "  Running command git clone -q git://github.com/frehseg/gcc4jupyter /tmp/pip-req-build-w_271aar\n",
            "Requirement already satisfied (use --upgrade to upgrade): GCCPlugin==0.0.6 from git+git://github.com/frehseg/gcc4jupyter in /opt/conda/lib/python3.7/site-packages\n",
            "Building wheels for collected packages: GCCPlugin\n",
            "  Building wheel for GCCPlugin (setup.py) ... \u001b[?25ldone\n",
            "\u001b[?25h  Created wheel for GCCPlugin: filename=GCCPlugin-0.0.6-cp37-none-any.whl size=2931 sha256=86fd3f0f0af56da11202db4218ad7f1af934d41368fd2f7a3c2b4498c3b563f1\n",
            "  Stored in directory: /tmp/pip-ephem-wheel-cache-y4nypo_h/wheels/a6/ff/b4/023d42d3ec7c36b10e15db2a808aae8b2475e19fa6e370f85c\n",
            "Successfully built GCCPlugin\n"
          ],
          "name": "stdout"
        }
      ]
    },
    {
      "cell_type": "markdown",
      "metadata": {
        "id": "2tzatE9bAUPv"
      },
      "source": [
        "# Chaînes de caractères (suite)\n"
      ]
    },
    {
      "cell_type": "markdown",
      "metadata": {
        "id": "GyOAduXgAUPv"
      },
      "source": [
        "## Modifier les chaînes\n",
        "\n",
        "Rappel : une chaîne déclaré avec `char* ` n'est pas modifiable si elle est initialisée avec une chaîne entre guillemets (`\"..blabla...\"`)."
      ]
    },
    {
      "cell_type": "code",
      "metadata": {
        "id": "Ds1iqDCfAUPw"
      },
      "source": [
        "%%c\n",
        "#include <stdio.h>\n",
        "int main() {\n",
        "   char* chaine = \"ENSTA\";\n",
        "   *chaine = 'I';             // erreur : non modifiable \n",
        "   printf(\"%s\\n\", chaine );\n",
        "}"
      ],
      "execution_count": null,
      "outputs": []
    },
    {
      "cell_type": "markdown",
      "metadata": {
        "id": "dV0YD4MAAUPy"
      },
      "source": [
        "La cellule ci-dessous n'affiche rien parce que le programme se plante.\n",
        "\n",
        "Dans le programme suivant tout va bien, parce qu'on déclare la chaîne \n",
        "avec `[]`:"
      ]
    },
    {
      "cell_type": "code",
      "metadata": {
        "id": "BCIFk3XhAUPy"
      },
      "source": [
        "%%c\n",
        "#include <stdio.h>\n",
        "int main() {\n",
        "   char chaine[] = \"ENSTA\";\n",
        "   chaine[0] = 'I';              // ok\n",
        "   printf(\"%s\\n\", chaine );\n",
        "}"
      ],
      "execution_count": null,
      "outputs": []
    },
    {
      "cell_type": "markdown",
      "metadata": {
        "id": "Ds8S6QU9AUP0"
      },
      "source": [
        "## Opérations sur les chaînes\n",
        "### Affectation\n",
        "\n",
        "__Attention:__ ```\n",
        "chaine2 = chaine1;```\n",
        "\n",
        "ne fait pas de copie! On fait juste pointer `chaine2` vers la même adresse que `chaine1`.\n",
        "\n",
        "Voici un exemple pour montrer que les deux pointent vers les mêmes lettres. Dans l'exemple suivant, une modification de `chaine1` change également `chaine2`."
      ]
    },
    {
      "cell_type": "code",
      "metadata": {
        "id": "SPsmopKdAUP0"
      },
      "source": [
        "%%c\n",
        "#include <stdio.h>\n",
        "int main() {\n",
        "   char chaine1[] = \"ENSTA\";\n",
        "   char* chaine2;\n",
        "   chaine2 = chaine1;\n",
        "   chaine1[0] = 'I';\n",
        "   printf(\"%s\\n\", chaine1 );\n",
        "   printf(\"%s\\n\", chaine2 );\n",
        "}"
      ],
      "execution_count": null,
      "outputs": []
    },
    {
      "cell_type": "markdown",
      "metadata": {
        "id": "qS3sLI03AUP2"
      },
      "source": [
        "### Copier une chaîne\n",
        "\n",
        "Pour faire une copie d'une chaîne, il y la commande `strcpy`, fournie par la bilbiothèque `string.h`."
      ]
    },
    {
      "cell_type": "markdown",
      "metadata": {
        "id": "yG2n6I2bAUP2"
      },
      "source": [
        "`char* strcpy (dest, source)`\n",
        "\n",
        "copie à partir de l'adresse `source` lettre par lettre toute la chaîne vers l'adresse `dest`. La valeur de retour est ici inutile, c'est simplement l'adresse `dest`. Attention: il faut prévoir assez de place à la destination, sinon il peut y avoir des erreurs graves."
      ]
    },
    {
      "cell_type": "code",
      "metadata": {
        "id": "D2qZllDyAUP3"
      },
      "source": [
        "%%c\n",
        "#include <stdio.h>\n",
        "#include <string.h>\n",
        "int main() {\n",
        "   char chaine1[] = \"ENSTA\";\n",
        "   char chaine2[100];\n",
        "   strcpy(chaine2,chaine1); // on fait une copie\n",
        "   *chaine1 = 'I';          // une modification ne touche pas l'original\n",
        "   printf(\"%s\\n\", chaine1 );\n",
        "   printf(\"%s\\n\", chaine2 );\n",
        "}"
      ],
      "execution_count": null,
      "outputs": []
    },
    {
      "cell_type": "markdown",
      "metadata": {
        "id": "fAlrid9AAUP4"
      },
      "source": [
        "### Comparer deux chaînes\n",
        "\n",
        "Pour comparer deux chaines, on ne peut pas utiliser un comparaison de la forme `chaine1 == chaine2`. Cela compare les adresses de `chaine1` et `chaine2` au lieu des lettre de la chaîne."
      ]
    },
    {
      "cell_type": "code",
      "metadata": {
        "id": "zUdhlEDpAUP5"
      },
      "source": [
        "%%c\n",
        "#include <stdio.h>\n",
        "int main() {\n",
        "   char chaine1[] = \"ENSTA\";\n",
        "   char chaine2[] = \"ENSTA\";\n",
        "   printf(\"%d\\n\", chaine1 == chaine2 );\n",
        "   printf(\"%p\\n\", chaine1 );\n",
        "   printf(\"%p\\n\", chaine2 );\n",
        "}"
      ],
      "execution_count": null,
      "outputs": []
    },
    {
      "cell_type": "markdown",
      "metadata": {
        "id": "W7mA9M4WAUP7"
      },
      "source": [
        "On compare ici les adresses au lieux des lettres et ces adresses ne sont pas les mêmes!"
      ]
    },
    {
      "cell_type": "markdown",
      "metadata": {
        "id": "gZ8XBTQ1AUP7"
      },
      "source": [
        "### strcmp\n",
        "\n",
        "`int strcmp(chaine1,chaine2)`\n",
        "donne la __différence__ entre les chaînes\n",
        "- 0 si égales\n",
        "- <0 si chaine1 < chaine2 dans l'ordre lexicographique\n",
        "- '>0' si chaine1 > chaine2"
      ]
    },
    {
      "cell_type": "code",
      "metadata": {
        "id": "0lJxJA7KAUP7"
      },
      "source": [
        "%%c\n",
        "#include <stdio.h>\n",
        "#include <string.h>\n",
        "int main() {\n",
        "   char chaine1[] = \"ENSTA\";\n",
        "   char chaine2[] = \"ENSTA\";\n",
        "   printf(\"%d\\n\", strcmp(chaine1,chaine2));\n",
        "}"
      ],
      "execution_count": null,
      "outputs": []
    },
    {
      "cell_type": "markdown",
      "metadata": {
        "id": "nqqD1gZTAUP9"
      },
      "source": [
        "Ci-dessus, les chaînes sont égaux, donc `strcmp` donne `0` (pas de différence)."
      ]
    },
    {
      "cell_type": "code",
      "metadata": {
        "id": "_J24tEBeAUP-"
      },
      "source": [
        "%%c\n",
        "#include <stdio.h>\n",
        "#include <string.h>\n",
        "int main() {\n",
        "   char chaine1[] = \"ENSTA\";\n",
        "   char chaine2[] = \"FNSTA\";\n",
        "   char chaine3[] = \"GNSTA\";\n",
        "   printf(\"%d\\n\", strcmp(chaine1,chaine2));\n",
        "   printf(\"%d\\n\", strcmp(chaine1,chaine3));\n",
        "}"
      ],
      "execution_count": null,
      "outputs": []
    },
    {
      "cell_type": "markdown",
      "metadata": {
        "id": "tGikkOI_AUP_"
      },
      "source": [
        "Ci-dessus, `strcmp` donne `-1` car la première lettre de  `chaine1` qui est différente de celles de `chaine2` est `E`, ce qui dans l'alphabet est 1 place avant `F`.\n",
        "\n",
        "Ensuite `strcmp` donne `-2` car la première lettre de  `chaine1` qui est différente de celles de `chaine3` est `E`, ce qui dans l'alphabet est 2 places avant `G`."
      ]
    },
    {
      "cell_type": "markdown",
      "metadata": {
        "id": "ZiwbGAW5AUP_"
      },
      "source": [
        "### Chercher une sous-chaîne dans une chaîne\n",
        "\n",
        "`char* strstr (botte_de_foin, aiguille)`\n",
        "\n",
        "si trouvé, donne le pointeur où `aiguille` commence dans `botte_de_foin`\n",
        "\n",
        "si pas trouvé, donne 0.\n"
      ]
    },
    {
      "cell_type": "code",
      "metadata": {
        "id": "OdqTnwNjAUQA"
      },
      "source": [
        "%%c\n",
        "#include <string.h>\n",
        "#include <stdio.h>\n",
        "int main() {\n",
        "   char botte_de_foin[] = \"J'adore l'ENSTA, c'est top.\";\n",
        "   char aiguille[] = \"ENSTA\";\n",
        "   char* trouve = strstr(botte_de_foin,aiguille);\n",
        "   printf(\"%p\\n\",trouve);\n",
        "   printf(\"%s\\n\",trouve);\n",
        "   trouve = strstr(botte_de_foin,\"toto\");\n",
        "   printf(\"%p\\n\",trouve); // nil = 0\n",
        "}"
      ],
      "execution_count": null,
      "outputs": []
    },
    {
      "cell_type": "markdown",
      "metadata": {
        "id": "EcZq5jdwAUQF"
      },
      "source": [
        "# La Pile\n",
        "\n",
        "Les variables locales sont stockés dans une zone mémoire appelée *la pile* (*stack*).\n",
        "\n",
        "Sa fin est indiqué par le pointeur de pile."
      ]
    },
    {
      "cell_type": "markdown",
      "metadata": {
        "id": "9oNm70oOAUQG"
      },
      "source": [
        "![image.png](attachment:image.png)"
      ]
    },
    {
      "cell_type": "markdown",
      "metadata": {
        "id": "4JNP39sPAUQG"
      },
      "source": [
        "- mémoire est libre au dessus de pointeur de pile, occupé en-dessous\n",
        "- simplifie la gestion de mémoire\n",
        "- rapide\n",
        "- taille limitée par l'OS:  *stack overflow error*"
      ]
    },
    {
      "cell_type": "markdown",
      "metadata": {
        "id": "_YSC-pkMAUQH"
      },
      "source": [
        "On peut regarder la taille de la pile avec la commande shell: \n",
        "```ulimit -a```\n",
        "\n",
        "Cela affiche:\n",
        "    \n",
        "``stack size              (kbytes, -s) 8192``\n",
        "\n",
        "La pile peut stocker 8192 kilo-octets, donc 8192*1024 octets.\n",
        "Si on essaie de faire un tableau statique de cette taille, le programme se plante, parce qu'il n'y aura pas assez de place (la pile est déjà un peu rempli avec quelques d'autres données)."
      ]
    },
    {
      "cell_type": "code",
      "metadata": {
        "id": "x2K6KmCGAUQI"
      },
      "source": [
        "%%c\n",
        "#include <stdio.h>\n",
        "int main() {\n",
        "    char grandtableau[1024*8192]; // aussi grand que la pile\n",
        "    // le programme s'arrête ici parce que le tableau est trop grand\n",
        "    printf(\"%p\",grandtableau);    \n",
        "}"
      ],
      "execution_count": null,
      "outputs": []
    },
    {
      "cell_type": "markdown",
      "metadata": {
        "id": "Ymv4-OG_AUQO"
      },
      "source": [
        "En diminuant un peu la taille du tableau, ça passe:"
      ]
    },
    {
      "cell_type": "code",
      "metadata": {
        "id": "3quM7jE2AUQO"
      },
      "source": [
        "%%c\n",
        "#include <stdio.h>\n",
        "int main() {\n",
        "    char grandtableau[1024*8172]; // plus petit que la pile\n",
        "    printf(\"%p\",grandtableau);    \n",
        "}"
      ],
      "execution_count": null,
      "outputs": []
    },
    {
      "cell_type": "markdown",
      "metadata": {
        "id": "ELAsmqsqAUQQ"
      },
      "source": [
        "# Le Tas (Heap)"
      ]
    },
    {
      "cell_type": "markdown",
      "metadata": {
        "id": "TB-lsysWAUQQ"
      },
      "source": [
        "Des zones de mémoire arbitrairement grandes peuvent être réservés sur *le tas* (heap).\n",
        "\n",
        "réservation \"manuelle\" avec \n",
        "- `malloc` : réserver X octets et obtenir l'adresse d'une zone\n",
        "- `free` : libérer la zone"
      ]
    },
    {
      "cell_type": "markdown",
      "metadata": {
        "id": "JX67C6R2AUQQ"
      },
      "source": [
        "## Principe malloc-free\n",
        "\n",
        "1. Réserver la mémoire et obtenir le pointeur :<br>\n",
        "   type`*` mon_pointeur `= malloc(`taille`);`\n",
        "2. Travailler avec mon_pointeur...\n",
        "3. A la fin, libérer la mémoire :<br>\n",
        "   `free(`mon_pointeur`);`\n"
      ]
    },
    {
      "cell_type": "markdown",
      "metadata": {
        "id": "gLbeKtyTAUQR"
      },
      "source": [
        "![image.png](attachment:image.png)"
      ]
    },
    {
      "cell_type": "markdown",
      "metadata": {
        "id": "nni08hslAUQR"
      },
      "source": [
        "![image.png](attachment:image.png)"
      ]
    },
    {
      "cell_type": "markdown",
      "metadata": {
        "id": "wEf03ChDAUQR"
      },
      "source": [
        "- il peut y avoir des \"trous\" de mémoire libre\n",
        "- liste de blocs libres gérée par malloc/free\n",
        "- gestion plus compliqué, plus lente"
      ]
    },
    {
      "cell_type": "markdown",
      "metadata": {
        "id": "8EmwvXFIAUQS"
      },
      "source": [
        "## Malloc\n",
        "\n",
        "``void* malloc(size_t nombre_d_octets)``\n",
        "- réserve une zone de `nombre_d_octets` octets dans le tas (plus un peu de place pour une en-tête)\n",
        "- stocke le nombre d'octets réservés dans une en-tête de la zone\n",
        "- retourne un pointeur vers le premier octet réservé\n",
        "- si nécessaire, le tas du processus est agrandi; **si impossible retourne 0**\n",
        "\n",
        "`size_t` : type entier non-signé assez grand"
      ]
    },
    {
      "cell_type": "code",
      "metadata": {
        "id": "Prrv9fpkAUQS"
      },
      "source": [
        "%%c\n",
        "#include <stdio.h>\n",
        "#include <stdlib.h>\n",
        "int main() {\n",
        "    char* grandtableau = malloc(1024*8182);\n",
        "    grandtableau[0] = 13;\n",
        "    printf(\"%d\\n\",grandtableau[0]);\n",
        "    printf(\"%p\\n\",grandtableau);    \n",
        "}"
      ],
      "execution_count": null,
      "outputs": []
    },
    {
      "cell_type": "markdown",
      "metadata": {
        "id": "3tvdfvffAUQT"
      },
      "source": [
        "## Free\n",
        "\n",
        "``void free(void* ptr)``\n",
        "- libère la zone associé avec `ptr`\n",
        "\n"
      ]
    },
    {
      "cell_type": "markdown",
      "metadata": {
        "id": "YtjrCA0-AUQU"
      },
      "source": [
        "Si accès à une adresse libérée (ou autrement interdite): **segmentation fault**"
      ]
    },
    {
      "cell_type": "code",
      "metadata": {
        "id": "pJR9BT9CAUQU"
      },
      "source": [
        "#include <stdio.h>\n",
        "#include <stdlib.h>\n",
        "int main() {\n",
        "    char* grandtableau = malloc(1024*8182);\n",
        "    grandtableau[0] = 13;\n",
        "    printf(\"%p\\n\",grandtableau);    \n",
        "    printf(\"%d\\n\",grandtableau[0]);\n",
        "    free(grandtableau);\n",
        "    printf(\"%p\",grandtableau);    \n",
        "    printf(\"%d\\n\",grandtableau[0]);\n",
        "}"
      ],
      "execution_count": null,
      "outputs": []
    },
    {
      "cell_type": "markdown",
      "metadata": {
        "id": "H5IB03RRAUQW"
      },
      "source": [
        "Pour réutiliser la mémoire après `free`: de nouveau un `malloc`"
      ]
    },
    {
      "cell_type": "code",
      "metadata": {
        "id": "n_a6TUEBAUQW"
      },
      "source": [
        "%%c\n",
        "#include <stdio.h>\n",
        "#include <stdlib.h>\n",
        "int main() {\n",
        "    int* grandtableau = malloc(sizeof(int)*1024);\n",
        "    grandtableau[0] = 13;\n",
        "    printf(\"%p\\n\",grandtableau);    \n",
        "    printf(\"%d\\n\",grandtableau[0]);\n",
        "    free(grandtableau);\n",
        "    int* autretableau = malloc(sizeof(int)*2048);\n",
        "    printf(\"%p\\n\",autretableau);    \n",
        "    printf(\"%d\\n\",autretableau[0]);\n",
        "    free(autretableau);\n",
        "}"
      ],
      "execution_count": null,
      "outputs": []
    },
    {
      "cell_type": "markdown",
      "metadata": {
        "id": "WVJZrKq_AUQY"
      },
      "source": [
        "## Exercice: Fonction de cryptage\n",
        "\n",
        "Ecrire une fonction `crypter` qui prend en argument une chaîne et une clé `c`, et qui donne\n",
        "en valeur de retour la chaîne crypté (sans détruire l'original). Les caractères sont cryptés en additionnant `c`."
      ]
    },
    {
      "cell_type": "code",
      "metadata": {
        "id": "6DfFCDT4AUQY"
      },
      "source": [
        "%%c\n",
        "#include <stdio.h>\n",
        "#include <stdlib.h>\n",
        "#include <string.h>\n",
        "char* crypter(char* chaine,int cle){\n",
        "    // 1. réserver la mémoire pour la chaine cryptée\n",
        "    // 2. pour chaque lettre x dans chaine,\n",
        "    //    écrire x+cle dans la chaine cryptée\n",
        "    // 3. retourner le pointeur vers la chaine cryptée\n",
        "}\n",
        "int main() {\n",
        "    char* orig = \"ENSTA\";\n",
        "    char* cryp = crypter(orig,3);\n",
        "    printf(\"%s\\n\",cryp);\n",
        "    free(cryp); // libérer la mémoire!\n",
        "}"
      ],
      "execution_count": null,
      "outputs": []
    },
    {
      "cell_type": "markdown",
      "metadata": {
        "id": "7VI6KH0JAUQa"
      },
      "source": [
        "Solution:"
      ]
    },
    {
      "cell_type": "code",
      "metadata": {
        "id": "Jvpl0H_PAUQa",
        "outputId": "3cc44879-af00-4876-bfe9-b17eadb974dc"
      },
      "source": [
        "%%c\n",
        "#include <stdio.h>\n",
        "#include <stdlib.h>\n",
        "#include <string.h>\n",
        "char* crypter(char* chaine,int cle){\n",
        "    int longueur = strlen(chaine);\n",
        "    char* chaine_cryptee = malloc(sizeof(char)*longueur);\n",
        "    for (int i=0; chaine[i]!=0; ++i) {\n",
        "        chaine_cryptee[i] = chaine[i]+cle;\n",
        "    }\n",
        "    return chaine_cryptee;\n",
        "}\n",
        "int main() {\n",
        "    char* orig = \"ENSTA\";\n",
        "    char* cryp = crypter(orig,3);\n",
        "    printf(\"%s\\n\",cryp);\n",
        "    free(cryp); // libérer la mémoire!\n",
        "}"
      ],
      "execution_count": null,
      "outputs": [
        {
          "output_type": "stream",
          "text": [
            "HQVWD\n",
            "\n"
          ],
          "name": "stdout"
        }
      ]
    },
    {
      "cell_type": "markdown",
      "metadata": {
        "id": "aUIbQp4TAUQc"
      },
      "source": [
        "Utiliser la même fonction pour décrypter:"
      ]
    },
    {
      "cell_type": "code",
      "metadata": {
        "id": "WEh9_5OeAUQc",
        "outputId": "19efdde2-0c7c-4f9f-ccf9-a9753158007c"
      },
      "source": [
        "%%c\n",
        "#include <stdio.h>\n",
        "#include <stdlib.h>\n",
        "#include <string.h>\n",
        "char* crypter(char* chaine,int cle){\n",
        "    int longueur = strlen(chaine);\n",
        "    char* chaine_cryptee = malloc(sizeof(char)*longueur);\n",
        "    for (int i=0; chaine[i]!=0; ++i) {\n",
        "        chaine_cryptee[i] = chaine[i]+cle;\n",
        "    }\n",
        "    return chaine_cryptee;\n",
        "}\n",
        "int main() {\n",
        "    char* orig = \"ENSTA\";\n",
        "    char* cryp = crypter(orig,3);\n",
        "    printf(\"%s\\n\",cryp);\n",
        "    char* decryp = crypter(cryp,-3);\n",
        "    printf(\"%s\\n\",decryp);\n",
        "    free(cryp); // libérer la mémoire!\n",
        "    free(decryp); // libérer la mémoire!\n",
        "}"
      ],
      "execution_count": null,
      "outputs": [
        {
          "output_type": "stream",
          "text": [
            "HQVWD\n",
            "ENSTA\n",
            "\n"
          ],
          "name": "stdout"
        }
      ]
    },
    {
      "cell_type": "code",
      "metadata": {
        "id": "k3GKan4oAUQd"
      },
      "source": [
        ""
      ],
      "execution_count": null,
      "outputs": []
    }
  ]
}