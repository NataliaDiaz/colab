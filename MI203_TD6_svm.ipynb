{
  "nbformat": 4,
  "nbformat_minor": 0,
  "metadata": {
    "colab": {
      "name": "td7_svm.ipynb",
      "provenance": [],
      "collapsed_sections": []
    },
    "language_info": {
      "codemirror_mode": {
        "name": "ipython",
        "version": 3
      },
      "file_extension": ".py",
      "mimetype": "text/x-python",
      "name": "python",
      "nbconvert_exporter": "python",
      "pygments_lexer": "ipython3",
      "version": "3.6.3"
    },
    "kernelspec": {
      "display_name": "Python 3",
      "language": "python",
      "name": "python3"
    }
  },
  "cells": [
    {
      "cell_type": "markdown",
      "metadata": {
        "id": "vTKj0Yz6fYiD",
        "colab_type": "text"
      },
      "source": [
        "# TD 7: Classification supervisée avec SVM\n",
        "## 04/03/2020\n",
        "\n",
        "## NOM Prenom\n",
        "\n",
        "L'énoncé du TD-notebook constitue la base du compte-rendu. Répondez aux questions dans le document et copiez les lignes de code qui ont produit les résultats aux endroits indiqués.\n",
        "\n",
        "Le TD comprend 2 parties:\n",
        "* Une prise de contact avec l'algorithme SVM et ses paramètres pour la classification binaire;\n",
        "* Classification multi-classe, et application à la reconnaissance de chiffres manuscrits.\n"
      ]
    },
    {
      "cell_type": "markdown",
      "metadata": {
        "id": "49SXeP9y5Bmi",
        "colab_type": "text"
      },
      "source": [
        "______\n",
        "\n",
        "# Connexion au drive\n",
        "______\n",
        "\n",
        "Dans ce TD, on utilise les ressources proposées par ColaB. Les données seront stockées sur le Goggle Drive associé à votre compte Gmail.\n",
        "\n",
        "Pour accéder au données depuis Colab, il faut \"monter le Gdrive\" depuis une session Colab.\n",
        "\n",
        "Exécutez le cellule suivante pour le faire. il vous sera demandé de saisir une clé d'authentification générée à partir du lien affiché. (Ctrl+Enter ou clic sur la flèche)"
      ]
    },
    {
      "cell_type": "code",
      "metadata": {
        "id": "mrs_sTGV15Xa",
        "colab_type": "code",
        "outputId": "4dabc2fd-30b9-4bd1-9d6c-39413bcb89b1",
        "colab": {
          "base_uri": "https://localhost:8080/",
          "height": 129
        }
      },
      "source": [
        "from google.colab import drive\n",
        "drive.mount('/content/gdrive')"
      ],
      "execution_count": 1,
      "outputs": [
        {
          "output_type": "stream",
          "text": [
            "Go to this URL in a browser: https://accounts.google.com/o/oauth2/auth?client_id=947318989803-6bn6qk8qdgf4n4g3pfee6491hc0brc4i.apps.googleusercontent.com&redirect_uri=urn%3aietf%3awg%3aoauth%3a2.0%3aoob&response_type=code&scope=email%20https%3a%2f%2fwww.googleapis.com%2fauth%2fdocs.test%20https%3a%2f%2fwww.googleapis.com%2fauth%2fdrive%20https%3a%2f%2fwww.googleapis.com%2fauth%2fdrive.photos.readonly%20https%3a%2f%2fwww.googleapis.com%2fauth%2fpeopleapi.readonly\n",
            "\n",
            "Enter your authorization code:\n",
            "··········\n",
            "Mounted at /content/gdrive\n"
          ],
          "name": "stdout"
        }
      ]
    },
    {
      "cell_type": "markdown",
      "metadata": {
        "id": "2l_9h-Hs7DQ5",
        "colab_type": "text"
      },
      "source": [
        "Il faut ensuite positionner des variables d'environnement pour indiquer à Colab où se trouvent les données (fichiers python et données d'apprentissage).\n",
        "\n",
        "Exécutez la cellule suivante pour le faire, et modifiez la variable 'TD_DIR' à l'endroit où vous avez sauvegardé le TD1. "
      ]
    },
    {
      "cell_type": "code",
      "metadata": {
        "id": "JJSr-2A-2YV4",
        "colab_type": "code",
        "colab": {}
      },
      "source": [
        "import sys\n",
        "\n",
        "# Modifier la variable du TD en fonction de l'endroit où les données sont stockées\n",
        "TD_DIR = 'gdrive/My Drive/teaching/IOGS/'\n",
        "sys.path.append(TD_DIR)"
      ],
      "execution_count": 0,
      "outputs": []
    },
    {
      "cell_type": "markdown",
      "metadata": {
        "id": "1NbXvewlfYiH",
        "colab_type": "text"
      },
      "source": [
        "## Partie 1: Classification binaire avec SVM\n",
        "\n",
        "On se propose dans cette première partie d'évaluer l'influence des différents paramètres d'apprentissage des SVM, et de développer une démarche permettant de les choisir en fonction de la nature de la distribution des données. On ne testera dans cette première partie que des distributions 2D pour visualiser les phénomènes.\n",
        "\n",
        "Les calculs utiliseront la bibliothèque de Machine Learning [scikit-learn](http://scikit-learn.org/stable/modules/classes.html). L'un des objectifs de cette première partie est de vous familiariser avec cet environnement.\n",
        "\n",
        "Chaque jeu de données est constitué de quatre ensembles :\n",
        "* Un ensemble de données test utilisées pour l'apprentissage : trainX\n",
        "* Un ensemble de classes associées aux données d'apprentissage : trainY\n",
        "* Un ensemble de données à tester : testX\n",
        "* Un ensemble de classes associées aux données de test : testY\n",
        "\n",
        "Ils sont générés par la fonction :\n",
        "\n",
        ">```python \n",
        "trainX, trainY, testX, testY = td.generate_data(family_number)\n",
        "```\n",
        "\n",
        "où family_number est un nombre entre 0 et 3. Chaque famille de données est caractérisée par une distribution différente.\n",
        "\n",
        "On peut la visualiser par la fonction :\n",
        "\n",
        ">```python \n",
        "td.show_data(trainX, trainY) ```\n",
        "\n",
        "L'objectif est d'optimiser les paramètres des SVM pour construire un classifieur capable de prédire les classes des données de test. \n",
        "\n",
        "Dans la bibliothèque scikit-learn, l'algorithme standard des SVM pour la classification est utilisable à travers la classe [`sklearn.svm.SVC`](http://scikit-learn.org/stable/modules/generated/sklearn.svm.SVC.html#sklearn.svm.SVC)\n",
        "\n",
        "Cette classe contient quatre méthodes utiles:\n",
        "* La définition des paramètres (par le consructeur de classe).\n",
        "* Le calcul de l'hyperplan: `fit`\n",
        "* La prédiction de classe pour de nouvelles données: `predict`\n",
        "* Le calcul d'erreur de prédiction: `score`\n",
        "\n",
        "Le classifieur peut être visualisé par la fonction :\n",
        ">```python \n",
        "td.plot_svc_decision_function(classifier) ```\n",
        "\n",
        "Remarque: Pour visualiser dans le notebook, appliquer l'instruction:\n",
        ">```python\n",
        "plt.show() ```\n",
        "\n",
        "après chaque fonction de visualisation.\n"
      ]
    },
    {
      "cell_type": "markdown",
      "metadata": {
        "id": "fUyz4jyAfYiL",
        "colab_type": "text"
      },
      "source": [
        "### Activité 1.1 : Mon premier classifieur.\n",
        "\n",
        "<div class=\"alert alert-block alert-info\">\n",
        "\n",
        "Repérer les paramètres utiles des fonctions et la manière de les utiliser.\n",
        "\n",
        "Lancer une première chaîne de calcul pour apprendre un classifieur linéaire pour le jeu de données 0 et des valeurs par défaut.\n",
        "\n",
        "Visualiser les résultats et calculer l’erreur sur les jeux d’apprentissage et de test avec la fonction `score`. \n",
        "\n",
        "Utiliser la fonction `predict` et comparer les sorties produites avec les vraies valeurs. Vérifier avec la fonction `score` que les valeurs d'erreur sont les mêmes.\n",
        "\n",
        "Recommencer la séquence d'apprentissage avec les autres distributions de données (1 à 3).\n",
        "</div>\n"
      ]
    },
    {
      "cell_type": "code",
      "metadata": {
        "id": "g0z0sHm1fYiO",
        "colab_type": "code",
        "colab": {}
      },
      "source": [
        "# Librairies utiles standard\n",
        "import numpy as np\n",
        "import matplotlib.pyplot as plt\n",
        " \n",
        "# Pour visualiser et récupérer les données\n",
        "import td_util as td \n",
        "\n",
        "# L'algorithme SVM dan la bibliothèque scikit-learn\n",
        "from sklearn import svm\n",
        "\n",
        "import random\n"
      ],
      "execution_count": 0,
      "outputs": []
    },
    {
      "cell_type": "code",
      "metadata": {
        "scrolled": false,
        "id": "HHW3ja63fYiZ",
        "colab_type": "code",
        "outputId": "00e39f6d-f7a4-438c-806c-5bb8d3c09525",
        "colab": {
          "base_uri": "https://localhost:8080/",
          "height": 395
        }
      },
      "source": [
        "# Classifieur \n",
        "svc = svm.SVC(kernel='linear', max_iter=-1)\n",
        "\n",
        "# Premier jeu de données\n",
        "trainX, trainY, testX, testY=td.generate_data(0)\n",
        "  \n",
        "td.show_data_2D(trainX,trainY)\n",
        "plt.show()\n",
        "\n"
      ],
      "execution_count": 4,
      "outputs": [
        {
          "output_type": "stream",
          "text": [
            "Gaussian two class isovariance samples\n"
          ],
          "name": "stdout"
        },
        {
          "output_type": "display_data",
          "data": {
            "image/png": "[encoded data removed]",
            "text/plain": [
              "<Figure size 576x432 with 1 Axes>"
            ]
          },
          "metadata": {
            "tags": []
          }
        }
      ]
    },
    {
      "cell_type": "code",
      "metadata": {
        "scrolled": false,
        "id": "Et6AOE2KfYim",
        "colab_type": "code",
        "colab": {}
      },
      "source": [
        "# METTRE VOTRE CODE ICI\n"
      ],
      "execution_count": 0,
      "outputs": []
    },
    {
      "cell_type": "markdown",
      "metadata": {
        "id": "rhEYl_6DfYit",
        "colab_type": "text"
      },
      "source": [
        "<div class=\"alert alert-block alert-info\">\n",
        "Recommencer la séquence d'apprentissage avec les autres distributions de données (1 à 3).\n",
        "</div>"
      ]
    },
    {
      "cell_type": "code",
      "metadata": {
        "scrolled": false,
        "id": "RRKKpWh_fYiw",
        "colab_type": "code",
        "outputId": "5495474b-b7fd-4f02-8ead-a8baf3f39d3f",
        "colab": {
          "base_uri": "https://localhost:8080/",
          "height": 72
        }
      },
      "source": [
        "for itest in [1,2,3]:\n",
        "    trainX, trainY, testX, testY=td.generate_data(itest)\n",
        "\n",
        "    # METTRE VOTRE CODE ICI\n"
      ],
      "execution_count": 0,
      "outputs": [
        {
          "output_type": "stream",
          "text": [
            "Gaussian two class heterogeneous variance samples\n",
            "Intricated data\n",
            "XOR like distribution\n"
          ],
          "name": "stdout"
        }
      ]
    },
    {
      "cell_type": "markdown",
      "metadata": {
        "id": "6805HERtfYi3",
        "colab_type": "text"
      },
      "source": [
        "<div class=\"alert alert-block alert-success\">\n",
        "QUESTION: Expliquez les différences de comportement du classifieur.\n",
        "</div>"
      ]
    },
    {
      "cell_type": "markdown",
      "metadata": {
        "id": "u7NTacw4fYi5",
        "colab_type": "text"
      },
      "source": [
        "**Réponse**\n",
        "\n"
      ]
    },
    {
      "cell_type": "markdown",
      "metadata": {
        "id": "gpyAToPffYi9",
        "colab_type": "text"
      },
      "source": [
        "### Activité 1.2: Influence du noyau\n",
        "\n",
        "<div class=\"alert alert-block alert-info\">\n",
        "Repérer comment spécifier le type de noyau utilisé, et ses paramètres.\n",
        "\n",
        "Reprendre l'étude précédente en jouant sur le type de noyau et sur ses paramètres. \n",
        "\n",
        "Illustrer les différences en utilisant la fonction de visualisation `td.plot_svc_decision_function`.\n",
        "</div>"
      ]
    },
    {
      "cell_type": "code",
      "metadata": {
        "scrolled": false,
        "id": "ygdPPEzsfYjA",
        "colab_type": "code",
        "outputId": "39779c1f-6dca-4f27-9fd9-819223c8f55f",
        "colab": {
          "base_uri": "https://localhost:8080/",
          "height": 72
        }
      },
      "source": [
        "for itest in [1,2,3]:\n",
        "    trainX, trainY, testX, testY=td.generate_data(itest)\n",
        "\n",
        "    # METTRE VOTRE CODE ICI\n"
      ],
      "execution_count": 0,
      "outputs": [
        {
          "output_type": "stream",
          "text": [
            "Gaussian two class heterogeneous variance samples\n",
            "Intricated data\n",
            "XOR like distribution\n"
          ],
          "name": "stdout"
        }
      ]
    },
    {
      "cell_type": "markdown",
      "metadata": {
        "id": "X21kb6IyfYjP",
        "colab_type": "text"
      },
      "source": [
        "<div class=\"alert alert-block alert-success\">\n",
        "QUESTION: Commentez les différences de comportement du classifieur.\n",
        "</div>"
      ]
    },
    {
      "cell_type": "markdown",
      "metadata": {
        "id": "t_xrKseTfYjR",
        "colab_type": "text"
      },
      "source": [
        "**Réponse**\n"
      ]
    },
    {
      "cell_type": "markdown",
      "metadata": {
        "id": "lAbsE59zfYjU",
        "colab_type": "text"
      },
      "source": [
        "### Activité 1.3 : Influence des paramètres de régularisation\n",
        "\n",
        "<div class=\"alert alert-block alert-info\">\n",
        "Nous étudions ici comment l'algorithme SVM est capable de gérer la présence de données aberrantes (\"outliers\" en anglais) en jouant sur ses paramètres de généralisation.\n",
        "\n",
        "On génère différents niveaux de bruit en spécifiant le paramètre `noise` (entre 0 et 1) dans la fonction de génération de données:\n",
        "</div>\n",
        "\n",
        ">```python td.generate_data(family_number, noise=0.1) ```\n",
        "\n",
        "<div class=\"alert alert-block alert-info\">\n",
        "Repérer le paramètre à spécifier pour fixer le paramètre de régularisation.\n",
        "\n",
        "Etudier l'influence de ce paramètre sur le jeu de données 2 avec un noyau \"rbf\" en produisant différents résultats de classification (visualisation et erreur sur ensemble de test), et différentes valeurs de bruit. \n",
        "\n",
        "</div>"
      ]
    },
    {
      "cell_type": "code",
      "metadata": {
        "scrolled": false,
        "id": "SxfPRKdefYjW",
        "colab_type": "code",
        "outputId": "ded8b6fb-a8bc-4891-db19-6993fb3e3543",
        "colab": {
          "base_uri": "https://localhost:8080/",
          "height": 35
        }
      },
      "source": [
        "trainX, trainY, testX, testY=td.generate_data(2, noise=0.2)\n",
        "\n",
        "# METTRE VOTRE CODE ICI\n",
        "\n"
      ],
      "execution_count": 0,
      "outputs": [
        {
          "output_type": "stream",
          "text": [
            "Intricated data\n"
          ],
          "name": "stdout"
        }
      ]
    },
    {
      "cell_type": "markdown",
      "metadata": {
        "id": "NC07L-ZFfYjm",
        "colab_type": "text"
      },
      "source": [
        "<div class=\"alert alert-block alert-success\">\n",
        "QUESTION: Commentez les différences de comportement du classifieur.\n",
        "</div>"
      ]
    },
    {
      "cell_type": "markdown",
      "metadata": {
        "id": "0rYcd5_gfYjp",
        "colab_type": "text"
      },
      "source": [
        "**Réponse**\n"
      ]
    },
    {
      "cell_type": "markdown",
      "metadata": {
        "id": "3Q2Ihp81fYjq",
        "colab_type": "text"
      },
      "source": [
        "### Activité 1.4: Optimisation des paramètres par validation croisée"
      ]
    },
    {
      "cell_type": "markdown",
      "metadata": {
        "id": "1zAouYQnfYjr",
        "colab_type": "text"
      },
      "source": [
        "<div class=\"alert alert-block alert-info\">\n",
        "\n",
        "On cherche les meilleurs paramètres adaptés aux données, sans utiliser les données de test. On se propose ici d'utiliser une méthode systématique de recherche par validation croisée.\n",
        "\n",
        "<br>\n",
        "L'environnement scikit-learn permet d'automatiser cette recherche en utilisant la classe [GridSearchCV](http://scikit-learn.org/stable/modules/generated/sklearn.model_selection.GridSearchCV.html#sklearn.model_selection.GridSearchCV).\n",
        "\n",
        "<br>\n",
        "Le principe d'utilisation de cette classe est d'estimer l'erreur de généralisation par validation croisée sur une grille de paramètres. Cette grille est définie comme un `dict` (ou une `list` de `dict`) où chaque clé contient une liste de paramètres. L'appel à la méthode `fit` sur le classifieur estime les performances sur l'ensemble des configurations possibles:\n",
        "</div>\n",
        "\n",
        ">```python clf = GridSearchCV(svc, parameter_dict) ```\n",
        "\n",
        ">```python clf.fit(trainX, trainY) ```\n",
        "\n",
        "<div class=\"alert alert-block alert-info\">\n",
        "\n",
        "Utiliser cette classe pour trouver la meilleure combinaison de paramètres (noyau, paramètres du noyau, coefficient de régularisation) pour les jeux de données 2 et 3.\n",
        "\n",
        "</div>"
      ]
    },
    {
      "cell_type": "code",
      "metadata": {
        "scrolled": false,
        "id": "76hwt8GPfYjt",
        "colab_type": "code",
        "outputId": "644d1974-0d23-4a0f-ab30-2541719cd1ad",
        "colab": {
          "base_uri": "https://localhost:8080/",
          "height": 72
        }
      },
      "source": [
        "# Import de la classe pour Validation Croisée\n",
        "from sklearn.model_selection import GridSearchCV\n",
        "\n",
        "svc = svm.SVC(shrinking=True,max_iter=1000000) # max_iter = 1000000 pour limiter les non convergences de l'optimiseur \n",
        "\n",
        "for itest in [1,2,3]:\n",
        "    trainX, trainY, testX, testY=td.generate_data(itest)\n",
        "\n",
        "    # METTRE VOTRE CODE ICI\n",
        "\n"
      ],
      "execution_count": 0,
      "outputs": [
        {
          "output_type": "stream",
          "text": [
            "Gaussian two class heterogeneous variance samples\n",
            "Intricated data\n",
            "XOR like distribution\n"
          ],
          "name": "stdout"
        }
      ]
    },
    {
      "cell_type": "markdown",
      "metadata": {
        "collapsed": true,
        "id": "COfX_0JFfYj0",
        "colab_type": "text"
      },
      "source": [
        "<div class=\"alert alert-block alert-success\">\n",
        "QUESTION: Quelles configurations de paramètres optimales obtenez-vous?\n",
        "</div>"
      ]
    },
    {
      "cell_type": "markdown",
      "metadata": {
        "id": "pY20ACXzfYj2",
        "colab_type": "text"
      },
      "source": [
        "**Réponse**\n"
      ]
    },
    {
      "cell_type": "markdown",
      "metadata": {
        "collapsed": true,
        "id": "G_b05NSkfYj4",
        "colab_type": "text"
      },
      "source": [
        "## Partie 2 : multi-classe avec SVM\n",
        "\n",
        "Dans cette partie, l'objectif est de discriminer les données en plusieurs classes. Comme indiqué dans le cours, deux stratégies principales sont couramment utilisées: un contre un (\"one vs. one\") ou un contre les autres (\"one vs. rest\"). L'environnement scikit-learn contient une sur-classe [`multiclass`](http://scikit-learn.org/stable/modules/classes.html#module-sklearn.multiclass) capable de gérer ces deux types de stratégies.\n",
        "\n",
        "\n",
        "Dans le cas des problèmes multi-classe, les performances sont usuellement évaluées sous la forme de [matrices de confusion](http://scikit-learn.org/stable/modules/generated/sklearn.metrics.confusion_matrix.html).\n"
      ]
    },
    {
      "cell_type": "markdown",
      "metadata": {
        "id": "uoE_SJvjfYj5",
        "colab_type": "text"
      },
      "source": [
        "### Activité 2.1: stratégies de classification multi-classe"
      ]
    },
    {
      "cell_type": "markdown",
      "metadata": {
        "id": "dAfa5HXIfYj8",
        "colab_type": "text"
      },
      "source": [
        "<div class=\"alert alert-block alert-info\">\n",
        "\n",
        "Comparez les deux stratégies multi-classe `OneVsOne` et `OneVsRest` sur les données du jeu de test 4 et un noyau polynomial. Utilisez pour cela la sur-classe `multiclass`, et fournir les matrices de confusion de la classification.  On pourra visualiser les régions assicuées à chaque classe par la fonction `td.plot_svc_decision_regions(<nom de votre objet multiclass>)`.\n",
        "\n",
        "</div>"
      ]
    },
    {
      "cell_type": "code",
      "metadata": {
        "scrolled": true,
        "id": "WfyNLpEbfYj-",
        "colab_type": "code",
        "outputId": "69735c14-9742-4477-9dd5-9b16961f52bd",
        "colab": {
          "base_uri": "https://localhost:8080/",
          "height": 395
        }
      },
      "source": [
        "# Utilisation des deux stratégies multi-classe (\"one vs. one\", \"one vs. rest\")\n",
        "from sklearn.multiclass import OneVsOneClassifier, OneVsRestClassifier\n",
        "\n",
        "# Pour calculer une matrice de confusion\n",
        "from sklearn.metrics import confusion_matrix\n",
        "\n",
        "trainX, trainY, testX, testY=td.generate_data(4)\n",
        "\n",
        "td.show_data_2D(trainX,trainY)\n",
        "\n",
        "svc = svm.SVC(C=0.1, kernel='poly', degree=2, max_iter=10000)\n"
      ],
      "execution_count": 0,
      "outputs": [
        {
          "output_type": "stream",
          "text": [
            "Three classes\n"
          ],
          "name": "stdout"
        },
        {
          "output_type": "display_data",
          "data": {
            "image/png": "[encoded data removed]",
            "text/plain": [
              "<Figure size 576x432 with 1 Axes>"
            ]
          },
          "metadata": {
            "tags": []
          }
        }
      ]
    },
    {
      "cell_type": "code",
      "metadata": {
        "scrolled": false,
        "id": "BsNPiDuNfYkE",
        "colab_type": "code",
        "colab": {}
      },
      "source": [
        "# METTRE VOTRE CODE ICI\n",
        "\n"
      ],
      "execution_count": 0,
      "outputs": []
    },
    {
      "cell_type": "markdown",
      "metadata": {
        "id": "ksKdFGjJfYkK",
        "colab_type": "text"
      },
      "source": [
        "<div class=\"alert alert-block alert-success\">\n",
        "QUESTION: Commentez les différences de comportement du classifieur.\n",
        "</div>"
      ]
    },
    {
      "cell_type": "markdown",
      "metadata": {
        "id": "sJiftFNqfYkM",
        "colab_type": "text"
      },
      "source": [
        "**Réponse**"
      ]
    },
    {
      "cell_type": "markdown",
      "metadata": {
        "id": "KZ0ZXj1SfYkP",
        "colab_type": "text"
      },
      "source": [
        "### Activité 2.2: classification de chiffres manuscrits"
      ]
    },
    {
      "cell_type": "markdown",
      "metadata": {
        "id": "OnvXJtdWfYkQ",
        "colab_type": "text"
      },
      "source": [
        "\n",
        "<div class=\"alert alert-block alert-info\">\n",
        "\n",
        "On dispose d’un ensemble d’images de données de chiffres manuscrits. L’objectif de cette partie est de se mettre dans les conditions d’une compétition de reconnaissance des formes pour produire les meilleures performances sur l’ensemble de test pour lequel on ne connaît pas la vraie classe (« vérité terrain » = ground truth en anglais). Dans le cadre de ce TD, et pour situer le niveau de performances, on évaluera les classifieurs sur la base de test, mais elle ne devra pas être utilisée pour l'apprentissage.\n",
        "\n",
        "<br><br>\n",
        "Définissez une stratégie de recherche de paramètres par validation croisée sur les noyaux et leurs paramètres. Rem: on peut obtenir plus de 95% de reconnaissance sur la base de test. Visualisez quelques exemples de données mal classées.\n",
        "\n",
        "</div>"
      ]
    },
    {
      "cell_type": "code",
      "metadata": {
        "id": "qt0DYDoIfYkU",
        "colab_type": "code",
        "outputId": "18f73710-667a-48af-8b64-e2dec944fdd2",
        "colab": {
          "base_uri": "https://localhost:8080/",
          "height": 238
        }
      },
      "source": [
        "#Chargement des données\n",
        "from sklearn import datasets\n",
        "\n",
        "images, classes = datasets.load_digits(return_X_y = True)\n",
        "n_samples = len(images)\n",
        "data = images.reshape((n_samples, -1))\n",
        "\n",
        "#Constitution des bases d'apprentissage et de test\n",
        "ntrain = 800\n",
        "trainX = data[:ntrain,:]\n",
        "trainY = classes[:ntrain]\n",
        "testX = data[ntrain:-1,:]\n",
        "testY = classes[ntrain:-1]\n",
        "\n",
        "#Visu des données\n",
        "fig, axes = plt.subplots(2, 4)\n",
        "\n",
        "for ax in axes.flat:\n",
        "    isample = np.random.randint(trainX.shape[0])\n",
        "    ax.imshow(trainX[isample].reshape(8,8),cmap='gray')\n",
        "    ax.set_title(\"Chiffre = {}\".format(trainY[isample]))\n",
        "    ax.axis('off')\n",
        "\n",
        "plt.show() "
      ],
      "execution_count": 0,
      "outputs": [
        {
          "output_type": "display_data",
          "data": {
            "image/png": "[encoded data removed]",
            "text/plain": [
              "<Figure size 432x288 with 8 Axes>"
            ]
          },
          "metadata": {
            "tags": []
          }
        }
      ]
    },
    {
      "cell_type": "code",
      "metadata": {
        "id": "eqBq2mz2fYkc",
        "colab_type": "code",
        "colab": {}
      },
      "source": [
        "# METTRE VOTRE CODE ICI\n",
        "\n"
      ],
      "execution_count": 0,
      "outputs": []
    },
    {
      "cell_type": "code",
      "metadata": {
        "id": "43OoaTt2fYkm",
        "colab_type": "code",
        "outputId": "fa7a9eab-9be8-44c0-ca9d-c4c282569976",
        "colab": {
          "base_uri": "https://localhost:8080/",
          "height": 248
        }
      },
      "source": [
        "# Visualisation des données mal classées\n",
        "\n",
        "ibad=(predY != testY).nonzero()[0]\n",
        "\n",
        "# METTRE VOTRE CODE ICI\n",
        "\n"
      ],
      "execution_count": 0,
      "outputs": [
        {
          "output_type": "error",
          "ename": "NameError",
          "evalue": "ignored",
          "traceback": [
            "\u001b[0;31m---------------------------------------------------------------------------\u001b[0m",
            "\u001b[0;31mNameError\u001b[0m                                 Traceback (most recent call last)",
            "\u001b[0;32m<ipython-input-16-f466daf47ec8>\u001b[0m in \u001b[0;36m<module>\u001b[0;34m()\u001b[0m\n\u001b[1;32m      1\u001b[0m \u001b[0;34m\u001b[0m\u001b[0m\n\u001b[0;32m----> 2\u001b[0;31m \u001b[0mibad\u001b[0m\u001b[0;34m=\u001b[0m\u001b[0;34m(\u001b[0m\u001b[0mpredY\u001b[0m \u001b[0;34m!=\u001b[0m \u001b[0mtestY\u001b[0m\u001b[0;34m)\u001b[0m\u001b[0;34m.\u001b[0m\u001b[0mnonzero\u001b[0m\u001b[0;34m(\u001b[0m\u001b[0;34m)\u001b[0m\u001b[0;34m[\u001b[0m\u001b[0;36m0\u001b[0m\u001b[0;34m]\u001b[0m\u001b[0;34m\u001b[0m\u001b[0;34m\u001b[0m\u001b[0m\n\u001b[0m\u001b[1;32m      3\u001b[0m \u001b[0;34m\u001b[0m\u001b[0m\n\u001b[1;32m      4\u001b[0m \u001b[0;31m# METTRE VOTRE CODE ICI\u001b[0m\u001b[0;34m\u001b[0m\u001b[0;34m\u001b[0m\u001b[0;34m\u001b[0m\u001b[0m\n\u001b[1;32m      5\u001b[0m \u001b[0;34m\u001b[0m\u001b[0m\n",
            "\u001b[0;31mNameError\u001b[0m: name 'predY' is not defined"
          ]
        }
      ]
    },
    {
      "cell_type": "markdown",
      "metadata": {
        "id": "pYjSjLDLfYkw",
        "colab_type": "text"
      },
      "source": [
        "Pour aller plus loin, d'autres bases d'apprentissage de chiffres manuscrits, et les scores de différentes approches, sont accessibles [ici](http://rodrigob.github.io/are_we_there_yet/build/classification_datasets_results.html#5356484e). \n",
        "\n",
        "La base MNIST peut être chargée par le script ci-dessous. Elle contient également une base de caractéristiques calculées sur les images source (HOG = Histogram Of Gradients, descripteurs de Fourier).\n"
      ]
    },
    {
      "cell_type": "markdown",
      "metadata": {
        "scrolled": false,
        "id": "OloQ6qyDfYkx",
        "colab_type": "text"
      },
      "source": [
        "# Mettre la CELL en type `code` pour l'exécuter \n",
        "# Chargement des données MNIST\n",
        "import scipy.io\n",
        "\n",
        "# Images brutes et annotations\n",
        "mat = scipy.io.loadmat('data/mnist_test_train.mat')\n",
        "testImg = mat['testImg']\n",
        "trainImg = mat['trainImg']\n",
        "testY = mat['testY'].ravel()\n",
        "trainY = mat['trainY'].ravel()\n",
        "\n",
        "# caractéristiques image de type HOG (histogram of gradients)\n",
        "mat = scipy.io.loadmat('data/hog_test_train.mat')\n",
        "testF = mat['testF']\n",
        "trainF = mat['trainF']\n",
        "\n",
        "# Visu d'exemples\n",
        "fig, axes = plt.subplots(2, 4)\n",
        "\n",
        "for ax in axes.flat:\n",
        "    ax.imshow(testImg[np.random.randint(testImg.shape[0])].reshape(28,28),cmap='gray')\n",
        "    ax.axis('off')\n",
        "plt.show()\n"
      ]
    },
    {
      "cell_type": "code",
      "metadata": {
        "id": "ktPLEfS0fYk0",
        "colab_type": "code",
        "colab": {}
      },
      "source": [
        ""
      ],
      "execution_count": 0,
      "outputs": []
    }
  ]
}