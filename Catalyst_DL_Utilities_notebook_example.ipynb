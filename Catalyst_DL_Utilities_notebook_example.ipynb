{
  "nbformat": 4,
  "nbformat_minor": 0,
  "metadata": {
    "colab": {
      "name": "Catalyst DL Utilities notebook-example.ipynb",
      "version": "0.3.2",
      "provenance": [],
      "include_colab_link": true
    },
    "kernelspec": {
      "display_name": "Python 3",
      "language": "python",
      "name": "python3"
    }
  },
  "cells": [
    {
      "cell_type": "markdown",
      "metadata": {
        "id": "view-in-github",
        "colab_type": "text"
      },
      "source": [
        "<a href=\"https://colab.research.google.com/github/NataliaDiaz/colab/blob/master/Catalyst_DL_Utilities_notebook_example.ipynb\" target=\"_parent\"><img src=\"https://colab.research.google.com/assets/colab-badge.svg\" alt=\"Open In Colab\"/></a>"
      ]
    },
    {
      "metadata": {
        "id": "NTgzirNyOvnL",
        "colab_type": "code",
        "colab": {}
      },
      "cell_type": "code",
      "source": [
        "# In google colab, uncomment this:\n",
        "# ! pip install catalyst==19.03rc0"
      ],
      "execution_count": 0,
      "outputs": []
    },
    {
      "metadata": {
        "id": "OxDGarGPOvnn",
        "colab_type": "text"
      },
      "cell_type": "markdown",
      "source": [
        "# Data"
      ]
    },
    {
      "metadata": {
        "id": "68JRIuKSOvnr",
        "colab_type": "code",
        "colab": {}
      },
      "cell_type": "code",
      "source": [
        "import collections\n",
        "import torch\n",
        "import torchvision\n",
        "import torchvision.transforms as transforms\n",
        "\n",
        "\n",
        "bs = 32\n",
        "n_workers = 4\n",
        "\n",
        "data_transform = transforms.Compose([\n",
        "    transforms.ToTensor(),\n",
        "    transforms.Normalize((0.5, 0.5, 0.5), (0.5, 0.5, 0.5))])\n",
        "\n",
        "\n",
        "loaders = collections.OrderedDict()\n",
        "\n",
        "trainset = torchvision.datasets.CIFAR10(\n",
        "    root='./data', train=True,\n",
        "    download=True, transform=data_transform)\n",
        "trainloader = torch.utils.data.DataLoader(\n",
        "    trainset, batch_size=bs,\n",
        "    shuffle=True, num_workers=n_workers)\n",
        "\n",
        "testset = torchvision.datasets.CIFAR10(\n",
        "    root='./data', train=False,\n",
        "    download=True, transform=data_transform)\n",
        "testloader = torch.utils.data.DataLoader(\n",
        "    testset, batch_size=bs,\n",
        "    shuffle=False, num_workers=n_workers)\n",
        "\n",
        "loaders[\"train\"] = trainloader\n",
        "loaders[\"valid\"] = testloader"
      ],
      "execution_count": 0,
      "outputs": []
    },
    {
      "metadata": {
        "id": "72q3HOUPOvn0",
        "colab_type": "text"
      },
      "cell_type": "markdown",
      "source": [
        "# Model"
      ]
    },
    {
      "metadata": {
        "id": "XnrOseUKOvn1",
        "colab_type": "code",
        "colab": {}
      },
      "cell_type": "code",
      "source": [
        "import torch\n",
        "import torch.nn as nn\n",
        "import torch.nn.functional as F\n",
        "\n",
        "class Net(nn.Module):\n",
        "    def __init__(self):\n",
        "        super(Net, self).__init__()\n",
        "        self.conv1 = nn.Conv2d(3, 6, 5)\n",
        "        self.pool = nn.MaxPool2d(2, 2)\n",
        "        self.conv2 = nn.Conv2d(6, 16, 5)\n",
        "        self.fc1 = nn.Linear(16 * 5 * 5, 120)\n",
        "        self.fc2 = nn.Linear(120, 84)\n",
        "        self.fc3 = nn.Linear(84, 10)\n",
        "\n",
        "    def forward(self, x):\n",
        "        x = self.pool(F.relu(self.conv1(x)))\n",
        "        x = self.pool(F.relu(self.conv2(x)))\n",
        "        x = x.view(-1, 16 * 5 * 5)\n",
        "        x = F.relu(self.fc1(x))\n",
        "        x = F.relu(self.fc2(x))\n",
        "        x = self.fc3(x)\n",
        "        return x"
      ],
      "execution_count": 0,
      "outputs": []
    },
    {
      "metadata": {
        "id": "WgOxslNNOvn6",
        "colab_type": "text"
      },
      "cell_type": "markdown",
      "source": [
        "# Intro\n",
        "@TODO"
      ]
    },
    {
      "metadata": {
        "id": "mvbzy9KrOvn8",
        "colab_type": "code",
        "colab": {}
      },
      "cell_type": "code",
      "source": [
        "# for graphs use `tensorboard --logdir=./logs`"
      ],
      "execution_count": 0,
      "outputs": []
    },
    {
      "metadata": {
        "id": "ROwP6QknOvoC",
        "colab_type": "text"
      },
      "cell_type": "markdown",
      "source": [
        "# Setup 1 - typical training"
      ]
    },
    {
      "metadata": {
        "scrolled": false,
        "id": "SLnJcUycOvoE",
        "colab_type": "code",
        "colab": {}
      },
      "cell_type": "code",
      "source": [
        "from catalyst.dl.experiments import SupervisedRunner\n",
        "\n",
        "# experiment setup\n",
        "n_epochs = 10\n",
        "logdir = \"./logs/cifar_simple_notebook_1\"\n",
        "\n",
        "# model, criterion, optimizer\n",
        "model = Net()\n",
        "criterion = nn.CrossEntropyLoss()\n",
        "optimizer = torch.optim.Adam(model.parameters())\n",
        "\n",
        "# model runner\n",
        "runner = SupervisedRunner()\n",
        "\n",
        "# model training\n",
        "runner.train(\n",
        "    model=model,\n",
        "    criterion=criterion,\n",
        "    optimizer=optimizer,\n",
        "    loaders=loaders,\n",
        "    logdir=logdir,\n",
        "    n_epochs=n_epochs,\n",
        "    verbose=True\n",
        ")"
      ],
      "execution_count": 0,
      "outputs": []
    },
    {
      "metadata": {
        "id": "zqpIE4c1OvoK",
        "colab_type": "text"
      },
      "cell_type": "markdown",
      "source": [
        "# Setup 2 - training with sheduler"
      ]
    },
    {
      "metadata": {
        "id": "zatfRtVjOvoM",
        "colab_type": "code",
        "colab": {}
      },
      "cell_type": "code",
      "source": [
        "from catalyst.dl.experiments import SupervisedRunner\n",
        "\n",
        "# experiment setup\n",
        "n_epochs = 10\n",
        "logdir = \"./logs/cifar_simple_notebook_2\"\n",
        "\n",
        "# model, criterion, optimizer\n",
        "model = Net()\n",
        "criterion = nn.CrossEntropyLoss()\n",
        "optimizer = torch.optim.Adam(model.parameters())\n",
        "\n",
        "# any Pytorch scheduler supported\n",
        "# scheduler = torch.optim.lr_scheduler.MultiStepLR(optimizer, milestones=[3, 8], gamma=0.3)\n",
        "scheduler = torch.optim.lr_scheduler.ReduceLROnPlateau(optimizer, factor=0.5, patience=2)\n",
        "\n",
        "# model runner\n",
        "runner = SupervisedRunner()\n",
        "\n",
        "# model training\n",
        "runner.train(\n",
        "    model=model,\n",
        "    criterion=criterion,\n",
        "    optimizer=optimizer,\n",
        "    scheduler=scheduler,\n",
        "    loaders=loaders,\n",
        "    logdir=logdir,\n",
        "    n_epochs=n_epochs,\n",
        "    verbose=True\n",
        ")"
      ],
      "execution_count": 0,
      "outputs": []
    },
    {
      "metadata": {
        "id": "Z5Jy0aizOvoV",
        "colab_type": "text"
      },
      "cell_type": "markdown",
      "source": [
        "# Setup 3 - training with early stop"
      ]
    },
    {
      "metadata": {
        "id": "l36X5ZGwOvoW",
        "colab_type": "code",
        "colab": {}
      },
      "cell_type": "code",
      "source": [
        "from catalyst.dl.experiments import SupervisedRunner\n",
        "from catalyst.dl.callbacks import EarlyStoppingCallback\n",
        "\n",
        "# experiment setup\n",
        "n_epochs = 10\n",
        "logdir = \"./logs/cifar_simple_notebook_3\"\n",
        "\n",
        "# model, criterion, optimizer, scheduler\n",
        "model = Net()\n",
        "criterion = nn.CrossEntropyLoss()\n",
        "optimizer = torch.optim.Adam(model.parameters())\n",
        "scheduler = torch.optim.lr_scheduler.MultiStepLR(optimizer, milestones=[3, 8], gamma=0.3)\n",
        "\n",
        "# model runner\n",
        "runner = SupervisedRunner()\n",
        "\n",
        "# model training\n",
        "runner.train(\n",
        "    model=model,\n",
        "    criterion=criterion,\n",
        "    optimizer=optimizer,\n",
        "    scheduler=scheduler,\n",
        "    loaders=loaders,\n",
        "    callbacks=[\n",
        "        EarlyStoppingCallback(patience=2, min_delta=0.01)\n",
        "    ],\n",
        "    logdir=logdir,\n",
        "    n_epochs=n_epochs,\n",
        "    verbose=True\n",
        ")"
      ],
      "execution_count": 0,
      "outputs": []
    },
    {
      "metadata": {
        "id": "-57AgHk1Ovon",
        "colab_type": "text"
      },
      "cell_type": "markdown",
      "source": [
        "# Setup 4 - training with additional metrics"
      ]
    },
    {
      "metadata": {
        "scrolled": true,
        "id": "ZfQsSXDGOvoq",
        "colab_type": "code",
        "colab": {}
      },
      "cell_type": "code",
      "source": [
        "from catalyst.dl.experiments import SupervisedRunner\n",
        "from catalyst.dl.callbacks import EarlyStoppingCallback, PrecisionCallback\n",
        "\n",
        "# experiment setup\n",
        "n_epochs = 10\n",
        "logdir = \"./logs/cifar_simple_notebook_4\"\n",
        "\n",
        "# model, criterion, optimizer, scheduler\n",
        "model = Net()\n",
        "criterion = nn.CrossEntropyLoss()\n",
        "optimizer = torch.optim.Adam(model.parameters())\n",
        "scheduler = torch.optim.lr_scheduler.MultiStepLR(optimizer, milestones=[3, 8], gamma=0.3)\n",
        "\n",
        "# model runner\n",
        "runner = SupervisedRunner()\n",
        "\n",
        "# model training\n",
        "runner.train(\n",
        "    model=model,\n",
        "    criterion=criterion,\n",
        "    optimizer=optimizer,\n",
        "    scheduler=scheduler,\n",
        "    loaders=loaders,\n",
        "    callbacks=[\n",
        "        PrecisionCallback(),\n",
        "        EarlyStoppingCallback(patience=2, min_delta=0.01)\n",
        "    ],\n",
        "    logdir=logdir,\n",
        "    n_epochs=n_epochs,\n",
        "    verbose=True\n",
        ")"
      ],
      "execution_count": 0,
      "outputs": []
    },
    {
      "metadata": {
        "id": "_gA_q9GxOvov",
        "colab_type": "text"
      },
      "cell_type": "markdown",
      "source": [
        "# Setup 5 - training with 1cycle"
      ]
    },
    {
      "metadata": {
        "id": "7QvlIh0BOvoy",
        "colab_type": "code",
        "colab": {}
      },
      "cell_type": "code",
      "source": [
        "from catalyst.dl.experiments import SupervisedRunner\n",
        "from catalyst.dl.callbacks import EarlyStoppingCallback, PrecisionCallback, OneCycleLR\n",
        "\n",
        "# experiment setup\n",
        "n_epochs = 10\n",
        "logdir = \"./logs/cifar_simple_notebook_5\"\n",
        "\n",
        "# model, criterion, optimizer, scheduler\n",
        "model = Net()\n",
        "criterion = nn.CrossEntropyLoss()\n",
        "optimizer = torch.optim.Adam(model.parameters())\n",
        "\n",
        "# model runner\n",
        "runner = SupervisedRunner()\n",
        "\n",
        "# model training\n",
        "runner.train(\n",
        "    model=model,\n",
        "    criterion=criterion,\n",
        "    optimizer=optimizer,\n",
        "    loaders=loaders,\n",
        "    callbacks=[\n",
        "        OneCycleLR(cycle_len=n_epochs, div=3, cut_div=4, momentum_range=(0.95, 0.85)),\n",
        "        PrecisionCallback(),\n",
        "        EarlyStoppingCallback(patience=2, min_delta=0.01)\n",
        "    ],\n",
        "    logdir=logdir,\n",
        "    n_epochs=n_epochs,\n",
        "    verbose=True\n",
        ")"
      ],
      "execution_count": 0,
      "outputs": []
    },
    {
      "metadata": {
        "id": "DvFeebn2Ovo3",
        "colab_type": "text"
      },
      "cell_type": "markdown",
      "source": [
        "# Setup 6 - pipeline check"
      ]
    },
    {
      "metadata": {
        "id": "n9Etp4OZOvo4",
        "colab_type": "code",
        "colab": {}
      },
      "cell_type": "code",
      "source": [
        "from catalyst.dl.experiments import SupervisedRunner\n",
        "\n",
        "# experiment setup\n",
        "n_epochs = 10\n",
        "logdir = \"./logs/cifar_simple_notebook_6\"\n",
        "\n",
        "# model, criterion, optimizer, scheduler\n",
        "model = Net()\n",
        "criterion = nn.CrossEntropyLoss()\n",
        "optimizer = torch.optim.Adam(model.parameters())\n",
        "scheduler = torch.optim.lr_scheduler.MultiStepLR(optimizer, milestones=[3, 8], gamma=0.3)\n",
        "\n",
        "# model runner\n",
        "runner = SupervisedRunner()\n",
        "\n",
        "# model training\n",
        "runner.train(\n",
        "    model=model,\n",
        "    criterion=criterion,\n",
        "    optimizer=optimizer,\n",
        "    scheduler=scheduler,\n",
        "    loaders=loaders,\n",
        "    logdir=logdir,\n",
        "    n_epochs=n_epochs,\n",
        "    verbose=True,\n",
        "    check=True  # here is the trick\n",
        ")"
      ],
      "execution_count": 0,
      "outputs": []
    },
    {
      "metadata": {
        "id": "KuB2n_ioOvo-",
        "colab_type": "text"
      },
      "cell_type": "markdown",
      "source": [
        "# Setup 7 - multi-stage training"
      ]
    },
    {
      "metadata": {
        "id": "8SLj1GQtOvpC",
        "colab_type": "code",
        "colab": {}
      },
      "cell_type": "code",
      "source": [
        "from catalyst.dl.experiments import SupervisedRunner\n",
        "from catalyst.dl.callbacks import EarlyStoppingCallback, PrecisionCallback\n",
        "\n",
        "# experiment setup\n",
        "n_epochs = 10\n",
        "logdir = \"./logs/cifar_simple_notebook_7\"\n",
        "\n",
        "# model, criterion, optimizer, scheduler\n",
        "model = Net()\n",
        "criterion = nn.CrossEntropyLoss()\n",
        "optimizer = torch.optim.Adam(model.parameters())\n",
        "scheduler = torch.optim.lr_scheduler.MultiStepLR(optimizer, milestones=[3, 8], gamma=0.3)\n",
        "\n",
        "# model runner\n",
        "runner = SupervisedRunner()\n",
        "\n",
        "# model training - 1\n",
        "runner.train(\n",
        "    model=model,\n",
        "    criterion=criterion,\n",
        "    optimizer=optimizer,\n",
        "    scheduler=scheduler,\n",
        "    loaders=loaders,\n",
        "    callbacks=[\n",
        "        PrecisionCallback(),\n",
        "        EarlyStoppingCallback(patience=2, min_delta=0.01)\n",
        "    ],\n",
        "    logdir=logdir,\n",
        "    n_epochs=n_epochs,\n",
        "    verbose=True\n",
        ")\n",
        "\n",
        "# model training - 2\n",
        "n_epochs = 5\n",
        "logdir = \"./logs/cifar_simple_notebook_8\"\n",
        "optimizer = torch.optim.SGD(model.parameters(), lr=0.05)\n",
        "\n",
        "runner.train(\n",
        "    model=model,\n",
        "    criterion=criterion,\n",
        "    optimizer=optimizer,\n",
        "    loaders=loaders,\n",
        "    logdir=logdir,\n",
        "    n_epochs=n_epochs\n",
        ")"
      ],
      "execution_count": 0,
      "outputs": []
    },
    {
      "metadata": {
        "id": "gpLWYPMKOvpG",
        "colab_type": "text"
      },
      "cell_type": "markdown",
      "source": [
        "# Setup 8 - loader inference"
      ]
    },
    {
      "metadata": {
        "id": "puOOJVpSOvpH",
        "colab_type": "code",
        "colab": {}
      },
      "cell_type": "code",
      "source": [
        "from catalyst.dl.callbacks import InferCallback\n",
        "loaders = collections.OrderedDict([(\"infer\", loaders[\"train\"])])\n",
        "runner.infer(\n",
        "    model=model,\n",
        "    loaders=loaders,\n",
        "    callbacks=[InferCallback()],\n",
        ")"
      ],
      "execution_count": 0,
      "outputs": []
    },
    {
      "metadata": {
        "id": "dCLowm4cOvpQ",
        "colab_type": "code",
        "colab": {}
      },
      "cell_type": "code",
      "source": [
        "runner.callbacks[0].predictions[\"logits\"].shape"
      ],
      "execution_count": 0,
      "outputs": []
    },
    {
      "metadata": {
        "id": "1sbAnbLcOvpY",
        "colab_type": "text"
      },
      "cell_type": "markdown",
      "source": [
        "# Setup 9 - batch inference"
      ]
    },
    {
      "metadata": {
        "id": "mtu4dQiWOvpb",
        "colab_type": "code",
        "colab": {}
      },
      "cell_type": "code",
      "source": [
        "features, targets = next(iter(loaders[\"infer\"]))"
      ],
      "execution_count": 0,
      "outputs": []
    },
    {
      "metadata": {
        "id": "YPgy1wrAOvpo",
        "colab_type": "code",
        "colab": {}
      },
      "cell_type": "code",
      "source": [
        "features.shape"
      ],
      "execution_count": 0,
      "outputs": []
    },
    {
      "metadata": {
        "id": "c8baXrafOvp3",
        "colab_type": "code",
        "colab": {}
      },
      "cell_type": "code",
      "source": [
        "runner_in = {runner.input_key: features}\n",
        "runner_out = runner.predict_batch(runner_in)"
      ],
      "execution_count": 0,
      "outputs": []
    },
    {
      "metadata": {
        "id": "vvLma0YSOvp9",
        "colab_type": "code",
        "colab": {}
      },
      "cell_type": "code",
      "source": [
        "runner_out[\"logits\"].shape"
      ],
      "execution_count": 0,
      "outputs": []
    },
    {
      "metadata": {
        "id": "lLOz3kj0OvqK",
        "colab_type": "code",
        "colab": {}
      },
      "cell_type": "code",
      "source": [
        ""
      ],
      "execution_count": 0,
      "outputs": []
    }
  ]
}